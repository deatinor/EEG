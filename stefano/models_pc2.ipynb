{
 "cells": [
  {
   "cell_type": "markdown",
   "metadata": {},
   "source": [
    "In this notebook we will use the nn class **Sequential** to model a CNN"
   ]
  },
  {
   "cell_type": "markdown",
   "metadata": {},
   "source": [
    "We will use the single target network"
   ]
  },
  {
   "cell_type": "markdown",
   "metadata": {},
   "source": [
    "# Import"
   ]
  },
  {
   "cell_type": "code",
   "execution_count": 1,
   "metadata": {
    "ExecuteTime": {
     "end_time": "2018-04-29T15:45:48.039674Z",
     "start_time": "2018-04-29T15:45:46.586434Z"
    },
    "collapsed": true
   },
   "outputs": [],
   "source": [
    "import torch\n",
    "import numpy as np\n",
    "import matplotlib.pyplot as plt\n",
    "from torch.autograd import Variable\n",
    "\n",
    "import torch.nn as nn\n",
    "import torch.nn.functional as F\n",
    "\n",
    "import torch.optim as optim\n",
    "from torch.optim.lr_scheduler import StepLR\n",
    "\n",
    "from sklearn.model_selection import KFold\n",
    "\n",
    "from tqdm import tqdm\n",
    "\n",
    "import load_script\n",
    "from params import *\n",
    "from custom_layers import *\n",
    "from training import *\n",
    "from networks import *\n",
    "\n",
    "from utilities import *\n",
    "from parse_dataset import *"
   ]
  },
  {
   "cell_type": "code",
   "execution_count": 2,
   "metadata": {
    "ExecuteTime": {
     "end_time": "2018-04-29T15:45:48.086364Z",
     "start_time": "2018-04-29T15:45:48.065870Z"
    },
    "collapsed": true
   },
   "outputs": [],
   "source": [
    "%load_ext autoreload\n",
    "%autoreload 2"
   ]
  },
  {
   "cell_type": "markdown",
   "metadata": {},
   "source": [
    "# Loading the dataset"
   ]
  },
  {
   "cell_type": "code",
   "execution_count": 3,
   "metadata": {
    "collapsed": false
   },
   "outputs": [
    {
     "name": "stdout",
     "output_type": "stream",
     "text": [
      "Reading data from /home/stefano/EEG//\n",
      "Reading data from /home/stefano/EEG//stored//\n",
      "Reading data from /home/stefano/EEG//__pycache__//\n",
      "Reading data from /home/stefano/EEG//data//\n",
      "Reading data from /home/stefano/EEG//stefano//\n",
      "Reading data from /home/stefano/EEG//stefano//__pycache__//\n",
      "Reading data from /home/stefano/EEG//stefano//notebook//\n"
     ]
    }
   ],
   "source": [
    "folder=Dataset(base_directory='/home/stefano/',dataset='eeg')"
   ]
  },
  {
   "cell_type": "code",
   "execution_count": 4,
   "metadata": {
    "collapsed": true
   },
   "outputs": [],
   "source": [
    "# train_dataset,train_target=load_script.load_dataset_1000hz(train=True)"
   ]
  },
  {
   "cell_type": "code",
   "execution_count": 5,
   "metadata": {
    "collapsed": true
   },
   "outputs": [],
   "source": [
    "# test_dataset,test_target=load_script.load_dataset_1000hz(train=False)"
   ]
  },
  {
   "cell_type": "code",
   "execution_count": 6,
   "metadata": {
    "ExecuteTime": {
     "end_time": "2018-04-29T15:45:48.583592Z",
     "start_time": "2018-04-29T15:45:48.088414Z"
    },
    "collapsed": true
   },
   "outputs": [],
   "source": [
    "train_dataset,train_target=load_script.load_dataset(train=True)"
   ]
  },
  {
   "cell_type": "code",
   "execution_count": 7,
   "metadata": {
    "ExecuteTime": {
     "end_time": "2018-04-29T15:45:48.754805Z",
     "start_time": "2018-04-29T15:45:48.585273Z"
    },
    "collapsed": true
   },
   "outputs": [],
   "source": [
    "test_dataset,test_target=load_script.load_dataset(train=False)"
   ]
  },
  {
   "cell_type": "markdown",
   "metadata": {},
   "source": [
    "# Normalization"
   ]
  },
  {
   "cell_type": "code",
   "execution_count": 8,
   "metadata": {
    "collapsed": false
   },
   "outputs": [
    {
     "data": {
      "text/plain": [
       "torch.Size([316, 28, 50])"
      ]
     },
     "execution_count": 8,
     "metadata": {},
     "output_type": "execute_result"
    }
   ],
   "source": [
    "train_dataset.shape"
   ]
  },
  {
   "cell_type": "code",
   "execution_count": 9,
   "metadata": {
    "ExecuteTime": {
     "end_time": "2018-04-29T15:45:48.828631Z",
     "start_time": "2018-04-29T15:45:48.814246Z"
    },
    "collapsed": false,
    "scrolled": true
   },
   "outputs": [
    {
     "data": {
      "text/plain": [
       "torch.Size([100, 28, 50])"
      ]
     },
     "execution_count": 9,
     "metadata": {},
     "output_type": "execute_result"
    }
   ],
   "source": [
    "test_dataset.shape"
   ]
  },
  {
   "cell_type": "code",
   "execution_count": 10,
   "metadata": {
    "ExecuteTime": {
     "end_time": "2018-04-29T15:45:49.133752Z",
     "start_time": "2018-04-29T15:45:49.109222Z"
    },
    "collapsed": true
   },
   "outputs": [],
   "source": [
    "mean=train_dataset.mean(0).mean(1).view(1,28,1)\n",
    "std=train_dataset.std(2).mean(0).view(1,28,1)"
   ]
  },
  {
   "cell_type": "code",
   "execution_count": 11,
   "metadata": {
    "ExecuteTime": {
     "end_time": "2018-04-29T15:45:49.557152Z",
     "start_time": "2018-04-29T15:45:49.525799Z"
    },
    "collapsed": true,
    "scrolled": true
   },
   "outputs": [],
   "source": [
    "train_dataset=(train_dataset-mean)/std\n",
    "test_dataset=(test_dataset-mean)/std"
   ]
  },
  {
   "cell_type": "markdown",
   "metadata": {},
   "source": [
    "# Defining the network"
   ]
  },
  {
   "cell_type": "markdown",
   "metadata": {},
   "source": [
    "### Simple Network"
   ]
  },
  {
   "cell_type": "markdown",
   "metadata": {},
   "source": [
    "# Training"
   ]
  },
  {
   "cell_type": "code",
   "execution_count": 14,
   "metadata": {
    "collapsed": false,
    "scrolled": false
   },
   "outputs": [
    {
     "name": "stderr",
     "output_type": "stream",
     "text": [
      "  3%|▎         | 8/300 [00:00<00:04, 70.89it/s]"
     ]
    },
    {
     "name": "stdout",
     "output_type": "stream",
     "text": [
      "Dropout 0\n",
      "FourCNNLayers(\n",
      "  (sequential): Sequential(\n",
      "    (0): Conv1d(28, 28, kernel_size=(3,), stride=(1,))\n",
      "    (1): BatchNorm1d(28, eps=1e-05, momentum=0.1, affine=True)\n",
      "    (2): ReLU()\n",
      "    (3): Dropout(p=0)\n",
      "    (4): Conv1d(28, 28, kernel_size=(3,), stride=(1,))\n",
      "    (5): BatchNorm1d(28, eps=1e-05, momentum=0.1, affine=True)\n",
      "    (6): ReLU()\n",
      "    (7): Dropout(p=0)\n",
      "    (8): Conv1d(28, 28, kernel_size=(3,), stride=(1,))\n",
      "    (9): BatchNorm1d(28, eps=1e-05, momentum=0.1, affine=True)\n",
      "    (10): ReLU()\n",
      "    (11): Dropout(p=0)\n",
      "    (12): Conv1d(28, 28, kernel_size=(3,), stride=(1,))\n",
      "    (13): BatchNorm1d(28, eps=1e-05, momentum=0.1, affine=True)\n",
      "    (14): ReLU()\n",
      "    (15): Dropout(p=0)\n",
      "    (16): Flatten(\n",
      "    )\n",
      "    (17): Linear(in_features=1176, out_features=200, bias=True)\n",
      "    (18): ReLU()\n",
      "    (19): Linear(in_features=200, out_features=2, bias=True)\n",
      "  )\n",
      ")\n",
      "Repetition 0\n"
     ]
    },
    {
     "name": "stderr",
     "output_type": "stream",
     "text": [
      "100%|██████████| 300/300 [00:04<00:00, 74.07it/s]\n",
      "100%|██████████| 300/300 [00:04<00:00, 73.99it/s]\n",
      "100%|██████████| 300/300 [00:04<00:00, 73.79it/s]\n",
      "100%|██████████| 300/300 [00:04<00:00, 73.91it/s]\n",
      "100%|██████████| 300/300 [00:05<00:00, 57.77it/s]\n",
      "100%|██████████| 300/300 [00:05<00:00, 57.84it/s]\n",
      "100%|██████████| 300/300 [00:05<00:00, 57.39it/s]\n",
      "100%|██████████| 300/300 [00:05<00:00, 57.93it/s]\n",
      "  2%|▏         | 7/300 [00:00<00:04, 68.49it/s]"
     ]
    },
    {
     "name": "stdout",
     "output_type": "stream",
     "text": [
      "Performance train: 0.000309423347398\n",
      "Performance validation: 0.232067510549\n",
      "Performance test: 0.258633333333\n",
      "Dropout 0.1\n",
      "FourCNNLayers(\n",
      "  (sequential): Sequential(\n",
      "    (0): Conv1d(28, 28, kernel_size=(3,), stride=(1,))\n",
      "    (1): BatchNorm1d(28, eps=1e-05, momentum=0.1, affine=True)\n",
      "    (2): ReLU()\n",
      "    (3): Dropout(p=0.1)\n",
      "    (4): Conv1d(28, 28, kernel_size=(3,), stride=(1,))\n",
      "    (5): BatchNorm1d(28, eps=1e-05, momentum=0.1, affine=True)\n",
      "    (6): ReLU()\n",
      "    (7): Dropout(p=0.1)\n",
      "    (8): Conv1d(28, 28, kernel_size=(3,), stride=(1,))\n",
      "    (9): BatchNorm1d(28, eps=1e-05, momentum=0.1, affine=True)\n",
      "    (10): ReLU()\n",
      "    (11): Dropout(p=0.1)\n",
      "    (12): Conv1d(28, 28, kernel_size=(3,), stride=(1,))\n",
      "    (13): BatchNorm1d(28, eps=1e-05, momentum=0.1, affine=True)\n",
      "    (14): ReLU()\n",
      "    (15): Dropout(p=0.1)\n",
      "    (16): Flatten(\n",
      "    )\n",
      "    (17): Linear(in_features=1176, out_features=200, bias=True)\n",
      "    (18): ReLU()\n",
      "    (19): Linear(in_features=200, out_features=2, bias=True)\n",
      "  )\n",
      ")\n",
      "Repetition 0\n"
     ]
    },
    {
     "name": "stderr",
     "output_type": "stream",
     "text": [
      "100%|██████████| 300/300 [00:04<00:00, 69.18it/s]\n",
      "100%|██████████| 300/300 [00:04<00:00, 68.76it/s]\n",
      "100%|██████████| 300/300 [00:04<00:00, 68.47it/s]\n",
      "100%|██████████| 300/300 [00:04<00:00, 65.85it/s]\n",
      "100%|██████████| 300/300 [00:06<00:00, 52.02it/s]\n",
      "100%|██████████| 300/300 [00:05<00:00, 50.85it/s]\n",
      "100%|██████████| 300/300 [00:08<00:00, 37.37it/s]\n",
      "100%|██████████| 300/300 [00:06<00:00, 45.74it/s]\n",
      "  2%|▏         | 7/300 [00:00<00:04, 65.95it/s]"
     ]
    },
    {
     "name": "stdout",
     "output_type": "stream",
     "text": [
      "Performance train: 0.00867791842475\n",
      "Performance validation: 0.220801687764\n",
      "Performance test: 0.2704\n",
      "Dropout 0.2\n",
      "FourCNNLayers(\n",
      "  (sequential): Sequential(\n",
      "    (0): Conv1d(28, 28, kernel_size=(3,), stride=(1,))\n",
      "    (1): BatchNorm1d(28, eps=1e-05, momentum=0.1, affine=True)\n",
      "    (2): ReLU()\n",
      "    (3): Dropout(p=0.2)\n",
      "    (4): Conv1d(28, 28, kernel_size=(3,), stride=(1,))\n",
      "    (5): BatchNorm1d(28, eps=1e-05, momentum=0.1, affine=True)\n",
      "    (6): ReLU()\n",
      "    (7): Dropout(p=0.2)\n",
      "    (8): Conv1d(28, 28, kernel_size=(3,), stride=(1,))\n",
      "    (9): BatchNorm1d(28, eps=1e-05, momentum=0.1, affine=True)\n",
      "    (10): ReLU()\n",
      "    (11): Dropout(p=0.2)\n",
      "    (12): Conv1d(28, 28, kernel_size=(3,), stride=(1,))\n",
      "    (13): BatchNorm1d(28, eps=1e-05, momentum=0.1, affine=True)\n",
      "    (14): ReLU()\n",
      "    (15): Dropout(p=0.2)\n",
      "    (16): Flatten(\n",
      "    )\n",
      "    (17): Linear(in_features=1176, out_features=200, bias=True)\n",
      "    (18): ReLU()\n",
      "    (19): Linear(in_features=200, out_features=2, bias=True)\n",
      "  )\n",
      ")\n",
      "Repetition 0\n"
     ]
    },
    {
     "name": "stderr",
     "output_type": "stream",
     "text": [
      "100%|██████████| 300/300 [00:04<00:00, 68.64it/s]\n",
      "100%|██████████| 300/300 [00:04<00:00, 68.99it/s]\n",
      "100%|██████████| 300/300 [00:04<00:00, 61.84it/s]\n",
      "100%|██████████| 300/300 [00:05<00:00, 57.48it/s]\n",
      "100%|██████████| 300/300 [00:05<00:00, 52.79it/s]\n",
      "100%|██████████| 300/300 [00:05<00:00, 52.13it/s]\n",
      "100%|██████████| 300/300 [00:05<00:00, 52.09it/s]\n",
      "100%|██████████| 300/300 [00:05<00:00, 52.47it/s]\n",
      "  2%|▏         | 7/300 [00:00<00:04, 65.30it/s]"
     ]
    },
    {
     "name": "stdout",
     "output_type": "stream",
     "text": [
      "Performance train: 0.0144163150492\n",
      "Performance validation: 0.226919831224\n",
      "Performance test: 0.2686\n",
      "Dropout 0.3\n",
      "FourCNNLayers(\n",
      "  (sequential): Sequential(\n",
      "    (0): Conv1d(28, 28, kernel_size=(3,), stride=(1,))\n",
      "    (1): BatchNorm1d(28, eps=1e-05, momentum=0.1, affine=True)\n",
      "    (2): ReLU()\n",
      "    (3): Dropout(p=0.3)\n",
      "    (4): Conv1d(28, 28, kernel_size=(3,), stride=(1,))\n",
      "    (5): BatchNorm1d(28, eps=1e-05, momentum=0.1, affine=True)\n",
      "    (6): ReLU()\n",
      "    (7): Dropout(p=0.3)\n",
      "    (8): Conv1d(28, 28, kernel_size=(3,), stride=(1,))\n",
      "    (9): BatchNorm1d(28, eps=1e-05, momentum=0.1, affine=True)\n",
      "    (10): ReLU()\n",
      "    (11): Dropout(p=0.3)\n",
      "    (12): Conv1d(28, 28, kernel_size=(3,), stride=(1,))\n",
      "    (13): BatchNorm1d(28, eps=1e-05, momentum=0.1, affine=True)\n",
      "    (14): ReLU()\n",
      "    (15): Dropout(p=0.3)\n",
      "    (16): Flatten(\n",
      "    )\n",
      "    (17): Linear(in_features=1176, out_features=200, bias=True)\n",
      "    (18): ReLU()\n",
      "    (19): Linear(in_features=200, out_features=2, bias=True)\n",
      "  )\n",
      ")\n",
      "Repetition 0\n"
     ]
    },
    {
     "name": "stderr",
     "output_type": "stream",
     "text": [
      "100%|██████████| 300/300 [00:06<00:00, 37.34it/s]\n",
      "100%|██████████| 300/300 [00:05<00:00, 68.19it/s]\n",
      "100%|██████████| 300/300 [00:04<00:00, 67.24it/s]\n",
      "100%|██████████| 300/300 [00:04<00:00, 68.44it/s]\n",
      "100%|██████████| 300/300 [00:05<00:00, 50.45it/s]\n",
      "100%|██████████| 300/300 [00:07<00:00, 41.20it/s]\n",
      "100%|██████████| 300/300 [00:05<00:00, 51.24it/s]\n",
      "100%|██████████| 300/300 [00:08<00:00, 37.34it/s]\n",
      "  2%|▏         | 5/300 [00:00<00:06, 46.94it/s]"
     ]
    },
    {
     "name": "stdout",
     "output_type": "stream",
     "text": [
      "Performance train: 0.0213924050633\n",
      "Performance validation: 0.266962025316\n",
      "Performance test: 0.248366666667\n",
      "Dropout 0.4\n",
      "FourCNNLayers(\n",
      "  (sequential): Sequential(\n",
      "    (0): Conv1d(28, 28, kernel_size=(3,), stride=(1,))\n",
      "    (1): BatchNorm1d(28, eps=1e-05, momentum=0.1, affine=True)\n",
      "    (2): ReLU()\n",
      "    (3): Dropout(p=0.4)\n",
      "    (4): Conv1d(28, 28, kernel_size=(3,), stride=(1,))\n",
      "    (5): BatchNorm1d(28, eps=1e-05, momentum=0.1, affine=True)\n",
      "    (6): ReLU()\n",
      "    (7): Dropout(p=0.4)\n",
      "    (8): Conv1d(28, 28, kernel_size=(3,), stride=(1,))\n",
      "    (9): BatchNorm1d(28, eps=1e-05, momentum=0.1, affine=True)\n",
      "    (10): ReLU()\n",
      "    (11): Dropout(p=0.4)\n",
      "    (12): Conv1d(28, 28, kernel_size=(3,), stride=(1,))\n",
      "    (13): BatchNorm1d(28, eps=1e-05, momentum=0.1, affine=True)\n",
      "    (14): ReLU()\n",
      "    (15): Dropout(p=0.4)\n",
      "    (16): Flatten(\n",
      "    )\n",
      "    (17): Linear(in_features=1176, out_features=200, bias=True)\n",
      "    (18): ReLU()\n",
      "    (19): Linear(in_features=200, out_features=2, bias=True)\n",
      "  )\n",
      ")\n",
      "Repetition 0\n"
     ]
    },
    {
     "name": "stderr",
     "output_type": "stream",
     "text": [
      "100%|██████████| 300/300 [00:05<00:00, 53.78it/s]\n",
      "100%|██████████| 300/300 [00:04<00:00, 66.41it/s]\n",
      "100%|██████████| 300/300 [00:04<00:00, 67.10it/s]\n",
      "100%|██████████| 300/300 [00:06<00:00, 44.29it/s]\n",
      "100%|██████████| 300/300 [00:06<00:00, 48.92it/s]\n",
      "100%|██████████| 300/300 [00:05<00:00, 52.72it/s]\n",
      "100%|██████████| 300/300 [00:05<00:00, 53.60it/s]\n",
      "100%|██████████| 300/300 [00:06<00:00, 29.88it/s]\n",
      "  1%|▏         | 4/300 [00:00<00:07, 39.28it/s]"
     ]
    },
    {
     "name": "stdout",
     "output_type": "stream",
     "text": [
      "Performance train: 0.0366385372714\n",
      "Performance validation: 0.239789029536\n",
      "Performance test: 0.233166666667\n",
      "Dropout 0.5\n",
      "FourCNNLayers(\n",
      "  (sequential): Sequential(\n",
      "    (0): Conv1d(28, 28, kernel_size=(3,), stride=(1,))\n",
      "    (1): BatchNorm1d(28, eps=1e-05, momentum=0.1, affine=True)\n",
      "    (2): ReLU()\n",
      "    (3): Dropout(p=0.5)\n",
      "    (4): Conv1d(28, 28, kernel_size=(3,), stride=(1,))\n",
      "    (5): BatchNorm1d(28, eps=1e-05, momentum=0.1, affine=True)\n",
      "    (6): ReLU()\n",
      "    (7): Dropout(p=0.5)\n",
      "    (8): Conv1d(28, 28, kernel_size=(3,), stride=(1,))\n",
      "    (9): BatchNorm1d(28, eps=1e-05, momentum=0.1, affine=True)\n",
      "    (10): ReLU()\n",
      "    (11): Dropout(p=0.5)\n",
      "    (12): Conv1d(28, 28, kernel_size=(3,), stride=(1,))\n",
      "    (13): BatchNorm1d(28, eps=1e-05, momentum=0.1, affine=True)\n",
      "    (14): ReLU()\n",
      "    (15): Dropout(p=0.5)\n",
      "    (16): Flatten(\n",
      "    )\n",
      "    (17): Linear(in_features=1176, out_features=200, bias=True)\n",
      "    (18): ReLU()\n",
      "    (19): Linear(in_features=200, out_features=2, bias=True)\n",
      "  )\n",
      ")\n",
      "Repetition 0\n"
     ]
    },
    {
     "name": "stderr",
     "output_type": "stream",
     "text": [
      "100%|██████████| 300/300 [00:06<00:00, 67.81it/s]\n",
      "100%|██████████| 300/300 [00:04<00:00, 68.83it/s]\n",
      "100%|██████████| 300/300 [00:04<00:00, 69.90it/s]\n",
      "100%|██████████| 300/300 [00:04<00:00, 69.28it/s]\n",
      "100%|██████████| 300/300 [00:05<00:00, 54.06it/s]\n",
      "100%|██████████| 300/300 [00:06<00:00, 49.84it/s]\n",
      "100%|██████████| 300/300 [00:06<00:00, 46.59it/s]\n",
      "100%|██████████| 300/300 [00:05<00:00, 53.43it/s]\n",
      "  3%|▎         | 8/300 [00:00<00:04, 70.48it/s]"
     ]
    },
    {
     "name": "stdout",
     "output_type": "stream",
     "text": [
      "Performance train: 0.0557665260197\n",
      "Performance validation: 0.208691983122\n",
      "Performance test: 0.249966666667\n",
      "Dropout 0.6\n",
      "FourCNNLayers(\n",
      "  (sequential): Sequential(\n",
      "    (0): Conv1d(28, 28, kernel_size=(3,), stride=(1,))\n",
      "    (1): BatchNorm1d(28, eps=1e-05, momentum=0.1, affine=True)\n",
      "    (2): ReLU()\n",
      "    (3): Dropout(p=0.6)\n",
      "    (4): Conv1d(28, 28, kernel_size=(3,), stride=(1,))\n",
      "    (5): BatchNorm1d(28, eps=1e-05, momentum=0.1, affine=True)\n",
      "    (6): ReLU()\n",
      "    (7): Dropout(p=0.6)\n",
      "    (8): Conv1d(28, 28, kernel_size=(3,), stride=(1,))\n",
      "    (9): BatchNorm1d(28, eps=1e-05, momentum=0.1, affine=True)\n",
      "    (10): ReLU()\n",
      "    (11): Dropout(p=0.6)\n",
      "    (12): Conv1d(28, 28, kernel_size=(3,), stride=(1,))\n",
      "    (13): BatchNorm1d(28, eps=1e-05, momentum=0.1, affine=True)\n",
      "    (14): ReLU()\n",
      "    (15): Dropout(p=0.6)\n",
      "    (16): Flatten(\n",
      "    )\n",
      "    (17): Linear(in_features=1176, out_features=200, bias=True)\n",
      "    (18): ReLU()\n",
      "    (19): Linear(in_features=200, out_features=2, bias=True)\n",
      "  )\n",
      ")\n",
      "Repetition 0\n"
     ]
    },
    {
     "name": "stderr",
     "output_type": "stream",
     "text": [
      "100%|██████████| 300/300 [00:04<00:00, 68.57it/s]\n",
      "100%|██████████| 300/300 [00:06<00:00, 45.65it/s]\n",
      "100%|██████████| 300/300 [00:04<00:00, 63.54it/s]\n",
      "100%|██████████| 300/300 [00:05<00:00, 57.41it/s]\n",
      "100%|██████████| 300/300 [00:05<00:00, 54.26it/s]\n",
      "100%|██████████| 300/300 [00:05<00:00, 54.46it/s]\n",
      "100%|██████████| 300/300 [00:05<00:00, 52.94it/s]\n",
      "100%|██████████| 300/300 [00:05<00:00, 52.96it/s]\n",
      "  2%|▏         | 7/300 [00:00<00:04, 67.88it/s]"
     ]
    },
    {
     "name": "stdout",
     "output_type": "stream",
     "text": [
      "Performance train: 0.0914908579466\n",
      "Performance validation: 0.234683544304\n",
      "Performance test: 0.212666666667\n",
      "Dropout 0.7\n",
      "FourCNNLayers(\n",
      "  (sequential): Sequential(\n",
      "    (0): Conv1d(28, 28, kernel_size=(3,), stride=(1,))\n",
      "    (1): BatchNorm1d(28, eps=1e-05, momentum=0.1, affine=True)\n",
      "    (2): ReLU()\n",
      "    (3): Dropout(p=0.7)\n",
      "    (4): Conv1d(28, 28, kernel_size=(3,), stride=(1,))\n",
      "    (5): BatchNorm1d(28, eps=1e-05, momentum=0.1, affine=True)\n",
      "    (6): ReLU()\n",
      "    (7): Dropout(p=0.7)\n",
      "    (8): Conv1d(28, 28, kernel_size=(3,), stride=(1,))\n",
      "    (9): BatchNorm1d(28, eps=1e-05, momentum=0.1, affine=True)\n",
      "    (10): ReLU()\n",
      "    (11): Dropout(p=0.7)\n",
      "    (12): Conv1d(28, 28, kernel_size=(3,), stride=(1,))\n",
      "    (13): BatchNorm1d(28, eps=1e-05, momentum=0.1, affine=True)\n",
      "    (14): ReLU()\n",
      "    (15): Dropout(p=0.7)\n",
      "    (16): Flatten(\n",
      "    )\n",
      "    (17): Linear(in_features=1176, out_features=200, bias=True)\n",
      "    (18): ReLU()\n",
      "    (19): Linear(in_features=200, out_features=2, bias=True)\n",
      "  )\n",
      ")\n",
      "Repetition 0\n"
     ]
    },
    {
     "name": "stderr",
     "output_type": "stream",
     "text": [
      "100%|██████████| 300/300 [00:04<00:00, 68.32it/s]\n",
      "100%|██████████| 300/300 [00:04<00:00, 68.23it/s]\n",
      "100%|██████████| 300/300 [00:04<00:00, 68.43it/s]\n",
      "100%|██████████| 300/300 [00:04<00:00, 68.15it/s]\n",
      "100%|██████████| 300/300 [00:05<00:00, 53.21it/s]\n",
      "100%|██████████| 300/300 [00:05<00:00, 53.10it/s]\n",
      "100%|██████████| 300/300 [00:05<00:00, 53.73it/s]\n",
      "100%|██████████| 300/300 [00:05<00:00, 53.93it/s]\n",
      "  2%|▏         | 7/300 [00:00<00:04, 69.51it/s]"
     ]
    },
    {
     "name": "stdout",
     "output_type": "stream",
     "text": [
      "Performance train: 0.135316455696\n",
      "Performance validation: 0.234303797468\n",
      "Performance test: 0.2348\n",
      "Dropout 0.8\n",
      "FourCNNLayers(\n",
      "  (sequential): Sequential(\n",
      "    (0): Conv1d(28, 28, kernel_size=(3,), stride=(1,))\n",
      "    (1): BatchNorm1d(28, eps=1e-05, momentum=0.1, affine=True)\n",
      "    (2): ReLU()\n",
      "    (3): Dropout(p=0.8)\n",
      "    (4): Conv1d(28, 28, kernel_size=(3,), stride=(1,))\n",
      "    (5): BatchNorm1d(28, eps=1e-05, momentum=0.1, affine=True)\n",
      "    (6): ReLU()\n",
      "    (7): Dropout(p=0.8)\n",
      "    (8): Conv1d(28, 28, kernel_size=(3,), stride=(1,))\n",
      "    (9): BatchNorm1d(28, eps=1e-05, momentum=0.1, affine=True)\n",
      "    (10): ReLU()\n",
      "    (11): Dropout(p=0.8)\n",
      "    (12): Conv1d(28, 28, kernel_size=(3,), stride=(1,))\n",
      "    (13): BatchNorm1d(28, eps=1e-05, momentum=0.1, affine=True)\n",
      "    (14): ReLU()\n",
      "    (15): Dropout(p=0.8)\n",
      "    (16): Flatten(\n",
      "    )\n",
      "    (17): Linear(in_features=1176, out_features=200, bias=True)\n",
      "    (18): ReLU()\n",
      "    (19): Linear(in_features=200, out_features=2, bias=True)\n",
      "  )\n",
      ")\n",
      "Repetition 0\n"
     ]
    },
    {
     "name": "stderr",
     "output_type": "stream",
     "text": [
      "100%|██████████| 300/300 [00:04<00:00, 69.39it/s]\n",
      "100%|██████████| 300/300 [00:04<00:00, 60.15it/s]\n",
      "100%|██████████| 300/300 [00:05<00:00, 58.80it/s]\n",
      "100%|██████████| 300/300 [00:06<00:00, 47.46it/s]\n",
      "100%|██████████| 300/300 [00:05<00:00, 53.91it/s]\n",
      "100%|██████████| 300/300 [00:05<00:00, 53.63it/s]\n",
      "100%|██████████| 300/300 [00:05<00:00, 53.10it/s]\n",
      "100%|██████████| 300/300 [00:05<00:00, 54.33it/s]\n",
      "  2%|▏         | 7/300 [00:00<00:04, 69.92it/s]"
     ]
    },
    {
     "name": "stdout",
     "output_type": "stream",
     "text": [
      "Performance train: 0.276343178622\n",
      "Performance validation: 0.337637130802\n",
      "Performance test: 0.272266666667\n",
      "Dropout 0.9\n",
      "FourCNNLayers(\n",
      "  (sequential): Sequential(\n",
      "    (0): Conv1d(28, 28, kernel_size=(3,), stride=(1,))\n",
      "    (1): BatchNorm1d(28, eps=1e-05, momentum=0.1, affine=True)\n",
      "    (2): ReLU()\n",
      "    (3): Dropout(p=0.9)\n",
      "    (4): Conv1d(28, 28, kernel_size=(3,), stride=(1,))\n",
      "    (5): BatchNorm1d(28, eps=1e-05, momentum=0.1, affine=True)\n",
      "    (6): ReLU()\n",
      "    (7): Dropout(p=0.9)\n",
      "    (8): Conv1d(28, 28, kernel_size=(3,), stride=(1,))\n",
      "    (9): BatchNorm1d(28, eps=1e-05, momentum=0.1, affine=True)\n",
      "    (10): ReLU()\n",
      "    (11): Dropout(p=0.9)\n",
      "    (12): Conv1d(28, 28, kernel_size=(3,), stride=(1,))\n",
      "    (13): BatchNorm1d(28, eps=1e-05, momentum=0.1, affine=True)\n",
      "    (14): ReLU()\n",
      "    (15): Dropout(p=0.9)\n",
      "    (16): Flatten(\n",
      "    )\n",
      "    (17): Linear(in_features=1176, out_features=200, bias=True)\n",
      "    (18): ReLU()\n",
      "    (19): Linear(in_features=200, out_features=2, bias=True)\n",
      "  )\n",
      ")\n",
      "Repetition 0\n"
     ]
    },
    {
     "name": "stderr",
     "output_type": "stream",
     "text": [
      "100%|██████████| 300/300 [00:04<00:00, 48.85it/s]\n",
      "100%|██████████| 300/300 [00:06<00:00, 43.65it/s]\n",
      "100%|██████████| 300/300 [00:05<00:00, 58.50it/s]\n",
      "100%|██████████| 300/300 [00:04<00:00, 60.85it/s]\n",
      "100%|██████████| 300/300 [00:05<00:00, 51.52it/s]\n",
      "100%|██████████| 300/300 [00:06<00:00, 28.67it/s]\n",
      "100%|██████████| 300/300 [00:07<00:00, 38.87it/s]\n",
      "100%|██████████| 300/300 [00:05<00:00, 54.20it/s]"
     ]
    },
    {
     "name": "stdout",
     "output_type": "stream",
     "text": [
      "Performance train: 0.355710267229\n",
      "Performance validation: 0.410886075949\n",
      "Performance test: 0.496\n"
     ]
    },
    {
     "name": "stderr",
     "output_type": "stream",
     "text": [
      "\n"
     ]
    }
   ],
   "source": [
    "dropout_values=[0,0.1,0.2,0.3,0.4,0.5,0.6,0.7,0.8,0.9]\n",
    "results=[]\n",
    "for dropout in dropout_values:\n",
    "    print('Dropout',dropout)\n",
    "    cv=CrossValidation(k=4,train_dataset=train_dataset,test_dataset=test_dataset,\n",
    "                   train_target=train_target,test_target=test_target,cuda=True)\n",
    "    \n",
    "    net_type=FourCNNLayers\n",
    "    optimizer_type=optim.Adam\n",
    "    criterion_type=nn.CrossEntropyLoss\n",
    "    network_params=NetworkParams(conv_filters=[28,28,28],conv_kernels=[3,3,3],\n",
    "                                 linear_filters=[200,2],\n",
    "                                 dropout_rate=dropout,batch_norm=True,conv1D=True)\n",
    "    optimizer_params=OptimizerParams()\n",
    "    train_params=TrainParams(max_epoch=300,mini_batch_size=79)\n",
    "\n",
    "\n",
    "    params=Params(net_type,optimizer_type,criterion_type,network_params=network_params,\n",
    "                  optimizer_params=optimizer_params,train_params=train_params,cuda=True,plot=False)\n",
    "\n",
    "    cv(params,repetitions=1,cross_validation=True,repetitions_test=4)\n",
    "    results.append(cv.result)"
   ]
  },
  {
   "cell_type": "code",
   "execution_count": null,
   "metadata": {
    "collapsed": false
   },
   "outputs": [],
   "source": [
    "params.network"
   ]
  },
  {
   "cell_type": "code",
   "execution_count": null,
   "metadata": {
    "collapsed": true
   },
   "outputs": [],
   "source": [
    "save=True\n",
    "if save:\n",
    "    file_name=folder.stored+'four_layers'\n",
    "    write_pickle(results,file_name)"
   ]
  },
  {
   "cell_type": "code",
   "execution_count": null,
   "metadata": {
    "collapsed": true
   },
   "outputs": [],
   "source": []
  },
  {
   "cell_type": "code",
   "execution_count": null,
   "metadata": {
    "collapsed": true,
    "scrolled": false
   },
   "outputs": [],
   "source": [
    "cv=CrossValidation(k=2,train_dataset=train_dataset,test_dataset=test_dataset,\n",
    "                   train_target=train_target,test_target=test_target)\n",
    "\n",
    "net_type=ThreeLayers2D\n",
    "optimizer_type=optim.Adam\n",
    "criterion_type=nn.CrossEntropyLoss\n",
    "network_params=NetworkParams(conv_filters=[28,28,28],conv_kernels=[(3,1),(5,3),(3,3)],\n",
    "                             linear_filters=[200,2],\n",
    "                             dropout_rate=0,batch_norm=False,conv1D=False)\n",
    "optimizer_params=OptimizerParams()\n",
    "train_params=TrainParams(max_epoch=100,mini_batch_size=79)\n",
    "\n",
    "\n",
    "params=Params(net_type,optimizer_type,criterion_type,network_params=network_params,\n",
    "              optimizer_params=optimizer_params,train_params=train_params,)\n",
    "\n",
    "cv(params)"
   ]
  },
  {
   "cell_type": "code",
   "execution_count": null,
   "metadata": {
    "collapsed": true,
    "scrolled": false
   },
   "outputs": [],
   "source": [
    "net_type=ThreeLayers\n",
    "optimizer_type=optim.Adam\n",
    "criterion_type=nn.CrossEntropyLoss\n",
    "network_params=NetworkParams(linear_filters=[200,2],dropout_rate=0)\n",
    "optimizer_params=OptimizerParams()\n",
    "train_params=TrainParams(max_epoch=100)\n",
    "\n",
    "\n",
    "params=Params(net_type,optimizer_type,criterion_type,network_params=network_params,\n",
    "              optimizer_params=optimizer_params,train_params=train_params,)\n",
    "\n",
    "train=Train(train_dataset=train_dataset,test_dataset=test_dataset,\n",
    "            train_target=train_target,test_target=test_target)\n",
    "train(params)"
   ]
  },
  {
   "cell_type": "code",
   "execution_count": null,
   "metadata": {
    "collapsed": true
   },
   "outputs": [],
   "source": []
  },
  {
   "cell_type": "code",
   "execution_count": null,
   "metadata": {
    "collapsed": true
   },
   "outputs": [],
   "source": []
  },
  {
   "cell_type": "code",
   "execution_count": null,
   "metadata": {
    "collapsed": true
   },
   "outputs": [],
   "source": []
  },
  {
   "cell_type": "code",
   "execution_count": null,
   "metadata": {
    "collapsed": true
   },
   "outputs": [],
   "source": []
  },
  {
   "cell_type": "code",
   "execution_count": null,
   "metadata": {
    "collapsed": true
   },
   "outputs": [],
   "source": []
  },
  {
   "cell_type": "code",
   "execution_count": null,
   "metadata": {
    "collapsed": true
   },
   "outputs": [],
   "source": []
  },
  {
   "cell_type": "code",
   "execution_count": null,
   "metadata": {
    "collapsed": true
   },
   "outputs": [],
   "source": []
  },
  {
   "cell_type": "code",
   "execution_count": null,
   "metadata": {
    "collapsed": true
   },
   "outputs": [],
   "source": []
  },
  {
   "cell_type": "code",
   "execution_count": null,
   "metadata": {
    "collapsed": true
   },
   "outputs": [],
   "source": []
  }
 ],
 "metadata": {
  "kernelspec": {
   "display_name": "Python 3",
   "language": "python",
   "name": "python3"
  },
  "language_info": {
   "codemirror_mode": {
    "name": "ipython",
    "version": 3
   },
   "file_extension": ".py",
   "mimetype": "text/x-python",
   "name": "python",
   "nbconvert_exporter": "python",
   "pygments_lexer": "ipython3",
   "version": "3.6.0"
  },
  "notify_time": "5"
 },
 "nbformat": 4,
 "nbformat_minor": 2
}
