{
 "cells": [
  {
   "cell_type": "markdown",
   "metadata": {},
   "source": [
    "In this notebook we will use the nn class **Sequential** to model a CNN"
   ]
  },
  {
   "cell_type": "markdown",
   "metadata": {},
   "source": [
    "We will use the single target network"
   ]
  },
  {
   "cell_type": "markdown",
   "metadata": {},
   "source": [
    "# Import"
   ]
  },
  {
   "cell_type": "code",
   "execution_count": 4,
   "metadata": {
    "ExecuteTime": {
     "end_time": "2018-04-29T15:45:48.039674Z",
     "start_time": "2018-04-29T15:45:46.586434Z"
    },
    "collapsed": true
   },
   "outputs": [],
   "source": [
    "import torch\n",
    "import numpy as np\n",
    "import matplotlib.pyplot as plt\n",
    "from torch.autograd import Variable\n",
    "\n",
    "import torch.nn as nn\n",
    "import torch.nn.functional as F\n",
    "\n",
    "import torch.optim as optim\n",
    "from torch.optim.lr_scheduler import StepLR\n",
    "\n",
    "from sklearn.model_selection import KFold\n",
    "\n",
    "from tqdm import tqdm\n",
    "\n",
    "import load_script\n",
    "from params import *\n",
    "from custom_layers import *\n",
    "from training import *\n",
    "from networks import *\n",
    "from result import *\n",
    "\n",
    "from utilities import *\n",
    "from parse_dataset import *"
   ]
  },
  {
   "cell_type": "code",
   "execution_count": 5,
   "metadata": {
    "ExecuteTime": {
     "end_time": "2018-04-29T15:45:48.086364Z",
     "start_time": "2018-04-29T15:45:48.065870Z"
    },
    "collapsed": true
   },
   "outputs": [],
   "source": [
    "%load_ext autoreload\n",
    "%autoreload 2"
   ]
  },
  {
   "cell_type": "markdown",
   "metadata": {},
   "source": [
    "# Loading the dataset"
   ]
  },
  {
   "cell_type": "code",
   "execution_count": 6,
   "metadata": {},
   "outputs": [
    {
     "name": "stdout",
     "output_type": "stream",
     "text": [
      "Reading data from /home/stefano/EEG//\n",
      "Reading data from /home/stefano/EEG//stored//\n",
      "Reading data from /home/stefano/EEG//__pycache__//\n",
      "Reading data from /home/stefano/EEG//data//\n",
      "Reading data from /home/stefano/EEG//stefano//\n",
      "Reading data from /home/stefano/EEG//stefano//figures//\n",
      "Reading data from /home/stefano/EEG//stefano//__pycache__//\n",
      "Reading data from /home/stefano/EEG//stefano//notebook//\n"
     ]
    }
   ],
   "source": [
    "folder=Dataset(base_directory='/home/stefano/',dataset='eeg')"
   ]
  },
  {
   "cell_type": "code",
   "execution_count": 7,
   "metadata": {
    "collapsed": true
   },
   "outputs": [],
   "source": [
    "# train_dataset,train_target=load_script.load_dataset_1000hz(train=True)"
   ]
  },
  {
   "cell_type": "code",
   "execution_count": 8,
   "metadata": {
    "collapsed": true
   },
   "outputs": [],
   "source": [
    "# test_dataset,test_target=load_script.load_dataset_1000hz(train=False)"
   ]
  },
  {
   "cell_type": "code",
   "execution_count": 9,
   "metadata": {
    "ExecuteTime": {
     "end_time": "2018-04-29T15:45:48.583592Z",
     "start_time": "2018-04-29T15:45:48.088414Z"
    },
    "collapsed": true
   },
   "outputs": [],
   "source": [
    "train_dataset,train_target=load_script.load_dataset(train=True)"
   ]
  },
  {
   "cell_type": "code",
   "execution_count": 10,
   "metadata": {
    "ExecuteTime": {
     "end_time": "2018-04-29T15:45:48.754805Z",
     "start_time": "2018-04-29T15:45:48.585273Z"
    },
    "collapsed": true
   },
   "outputs": [],
   "source": [
    "test_dataset,test_target=load_script.load_dataset(train=False)"
   ]
  },
  {
   "cell_type": "markdown",
   "metadata": {},
   "source": [
    "# Normalization"
   ]
  },
  {
   "cell_type": "code",
   "execution_count": 11,
   "metadata": {},
   "outputs": [
    {
     "data": {
      "text/plain": [
       "torch.Size([316, 28, 50])"
      ]
     },
     "execution_count": 11,
     "metadata": {},
     "output_type": "execute_result"
    }
   ],
   "source": [
    "train_dataset.shape"
   ]
  },
  {
   "cell_type": "code",
   "execution_count": 12,
   "metadata": {
    "ExecuteTime": {
     "end_time": "2018-04-29T15:45:48.828631Z",
     "start_time": "2018-04-29T15:45:48.814246Z"
    },
    "scrolled": true
   },
   "outputs": [
    {
     "data": {
      "text/plain": [
       "torch.Size([100, 28, 50])"
      ]
     },
     "execution_count": 12,
     "metadata": {},
     "output_type": "execute_result"
    }
   ],
   "source": [
    "test_dataset.shape"
   ]
  },
  {
   "cell_type": "code",
   "execution_count": 13,
   "metadata": {
    "ExecuteTime": {
     "end_time": "2018-04-29T15:45:49.133752Z",
     "start_time": "2018-04-29T15:45:49.109222Z"
    },
    "collapsed": true
   },
   "outputs": [],
   "source": [
    "mean=train_dataset.mean(0).mean(1).view(1,28,1)\n",
    "std=train_dataset.std(2).mean(0).view(1,28,1)"
   ]
  },
  {
   "cell_type": "code",
   "execution_count": 14,
   "metadata": {
    "ExecuteTime": {
     "end_time": "2018-04-29T15:45:49.557152Z",
     "start_time": "2018-04-29T15:45:49.525799Z"
    },
    "collapsed": true,
    "scrolled": true
   },
   "outputs": [],
   "source": [
    "train_dataset=(train_dataset-mean)/std\n",
    "test_dataset=(test_dataset-mean)/std"
   ]
  },
  {
   "cell_type": "markdown",
   "metadata": {},
   "source": [
    "# Defining the network"
   ]
  },
  {
   "cell_type": "markdown",
   "metadata": {},
   "source": [
    "### Simple Network"
   ]
  },
  {
   "cell_type": "markdown",
   "metadata": {},
   "source": [
    "# Training"
   ]
  },
  {
   "cell_type": "code",
   "execution_count": null,
   "metadata": {
    "scrolled": false
   },
   "outputs": [
    {
     "name": "stdout",
     "output_type": "stream",
     "text": [
      "Dropout 0\n"
     ]
    },
    {
     "name": "stderr",
     "output_type": "stream",
     "text": [
      "/home/stefano/anaconda3/lib/python3.6/site-packages/torch/cuda/__init__.py:97: UserWarning: \n",
      "    Found GPU0 GeForce GTX 960M which is of cuda capability 5.0.\n",
      "    PyTorch no longer supports this GPU because it is too old.\n",
      "    \n",
      "  warnings.warn(old_gpu_warn % (d, name, major, capability[1]))\n",
      "\r",
      "  0%|          | 0/300 [00:00<?, ?it/s]"
     ]
    },
    {
     "name": "stdout",
     "output_type": "stream",
     "text": [
      "ThreeCNNLayers(\n",
      "  (sequential): Sequential(\n",
      "    (0): Conv1d(28, 14, kernel_size=(3,), stride=(1,))\n",
      "    (1): BatchNorm1d(14, eps=1e-05, momentum=0.1, affine=True)\n",
      "    (2): ReLU()\n",
      "    (3): Dropout(p=0)\n",
      "    (4): Conv1d(14, 28, kernel_size=(3,), stride=(1,))\n",
      "    (5): BatchNorm1d(28, eps=1e-05, momentum=0.1, affine=True)\n",
      "    (6): ReLU()\n",
      "    (7): Dropout(p=0)\n",
      "    (8): Conv1d(28, 42, kernel_size=(3,), stride=(1,))\n",
      "    (9): BatchNorm1d(42, eps=1e-05, momentum=0.1, affine=True)\n",
      "    (10): ReLU()\n",
      "    (11): Dropout(p=0)\n",
      "    (12): Flatten(\n",
      "    )\n",
      "    (13): Linear(in_features=1848, out_features=200, bias=True)\n",
      "    (14): ReLU()\n",
      "    (15): Linear(in_features=200, out_features=2, bias=True)\n",
      "  )\n",
      ")\n"
     ]
    },
    {
     "name": "stderr",
     "output_type": "stream",
     "text": [
      "100%|██████████| 300/300 [00:04<00:00, 69.33it/s]\n",
      "100%|██████████| 300/300 [00:03<00:00, 82.61it/s]\n",
      "100%|██████████| 300/300 [00:03<00:00, 81.34it/s]\n",
      "100%|██████████| 300/300 [00:03<00:00, 79.99it/s]\n",
      "100%|██████████| 300/300 [00:05<00:00, 59.12it/s]\n",
      "100%|██████████| 300/300 [00:05<00:00, 58.58it/s]\n",
      "100%|██████████| 300/300 [00:04<00:00, 64.35it/s]\n",
      "100%|██████████| 300/300 [00:04<00:00, 64.36it/s]\n",
      "  2%|▏         | 7/300 [00:00<00:04, 68.58it/s]"
     ]
    },
    {
     "name": "stdout",
     "output_type": "stream",
     "text": [
      "Performance train: 0.0\n",
      "Performance validation: 0.244725738397\n",
      "Performance test: 0.2911\n",
      "Dropout 0.1\n",
      "ThreeCNNLayers(\n",
      "  (sequential): Sequential(\n",
      "    (0): Conv1d(28, 14, kernel_size=(3,), stride=(1,))\n",
      "    (1): BatchNorm1d(14, eps=1e-05, momentum=0.1, affine=True)\n",
      "    (2): ReLU()\n",
      "    (3): Dropout(p=0.1)\n",
      "    (4): Conv1d(14, 28, kernel_size=(3,), stride=(1,))\n",
      "    (5): BatchNorm1d(28, eps=1e-05, momentum=0.1, affine=True)\n",
      "    (6): ReLU()\n",
      "    (7): Dropout(p=0.1)\n",
      "    (8): Conv1d(28, 42, kernel_size=(3,), stride=(1,))\n",
      "    (9): BatchNorm1d(42, eps=1e-05, momentum=0.1, affine=True)\n",
      "    (10): ReLU()\n",
      "    (11): Dropout(p=0.1)\n",
      "    (12): Flatten(\n",
      "    )\n",
      "    (13): Linear(in_features=1848, out_features=200, bias=True)\n",
      "    (14): ReLU()\n",
      "    (15): Linear(in_features=200, out_features=2, bias=True)\n",
      "  )\n",
      ")\n"
     ]
    },
    {
     "name": "stderr",
     "output_type": "stream",
     "text": [
      "100%|██████████| 300/300 [00:03<00:00, 75.63it/s]\n",
      "100%|██████████| 300/300 [00:03<00:00, 78.19it/s]\n",
      "100%|██████████| 300/300 [00:04<00:00, 69.72it/s]\n",
      "100%|██████████| 300/300 [00:03<00:00, 75.06it/s]\n",
      "100%|██████████| 300/300 [00:04<00:00, 60.75it/s]\n",
      "100%|██████████| 300/300 [00:04<00:00, 61.85it/s]\n",
      "100%|██████████| 300/300 [00:05<00:00, 58.85it/s]\n",
      "100%|██████████| 300/300 [00:05<00:00, 59.85it/s]\n",
      "  3%|▎         | 8/300 [00:00<00:03, 75.72it/s]"
     ]
    },
    {
     "name": "stdout",
     "output_type": "stream",
     "text": [
      "Performance train: 0.0034317862166\n",
      "Performance validation: 0.212995780591\n",
      "Performance test: 0.2763\n",
      "Dropout 0.2\n",
      "ThreeCNNLayers(\n",
      "  (sequential): Sequential(\n",
      "    (0): Conv1d(28, 14, kernel_size=(3,), stride=(1,))\n",
      "    (1): BatchNorm1d(14, eps=1e-05, momentum=0.1, affine=True)\n",
      "    (2): ReLU()\n",
      "    (3): Dropout(p=0.2)\n",
      "    (4): Conv1d(14, 28, kernel_size=(3,), stride=(1,))\n",
      "    (5): BatchNorm1d(28, eps=1e-05, momentum=0.1, affine=True)\n",
      "    (6): ReLU()\n",
      "    (7): Dropout(p=0.2)\n",
      "    (8): Conv1d(28, 42, kernel_size=(3,), stride=(1,))\n",
      "    (9): BatchNorm1d(42, eps=1e-05, momentum=0.1, affine=True)\n",
      "    (10): ReLU()\n",
      "    (11): Dropout(p=0.2)\n",
      "    (12): Flatten(\n",
      "    )\n",
      "    (13): Linear(in_features=1848, out_features=200, bias=True)\n",
      "    (14): ReLU()\n",
      "    (15): Linear(in_features=200, out_features=2, bias=True)\n",
      "  )\n",
      ")\n"
     ]
    },
    {
     "name": "stderr",
     "output_type": "stream",
     "text": [
      "100%|██████████| 300/300 [00:03<00:00, 79.86it/s]\n",
      "100%|██████████| 300/300 [00:03<00:00, 79.62it/s]\n",
      "100%|██████████| 300/300 [00:03<00:00, 80.23it/s]\n",
      "100%|██████████| 300/300 [00:03<00:00, 80.08it/s]\n",
      "100%|██████████| 300/300 [00:04<00:00, 61.70it/s]\n",
      "100%|██████████| 300/300 [00:04<00:00, 61.04it/s]\n",
      "100%|██████████| 300/300 [00:05<00:00, 58.03it/s]\n",
      " 48%|████▊     | 143/300 [00:02<00:02, 59.63it/s]"
     ]
    }
   ],
   "source": [
    "dropout_values=[0,0.1,0.2,0.3,0.4,0.5,0.6,0.7,0.8,0.9]\n",
    "results=[]\n",
    "for dropout in dropout_values:\n",
    "    print('Dropout',dropout)\n",
    "    cv=CrossValidation(k=4,train_dataset=train_dataset,test_dataset=test_dataset,\n",
    "                   train_target=train_target,test_target=test_target,cuda=True)\n",
    "    \n",
    "    net_type=ThreeCNNLayers\n",
    "    optimizer_type=optim.Adam\n",
    "    criterion_type=nn.CrossEntropyLoss\n",
    "    network_params=NetworkParams(conv_filters=[14,28,42],conv_kernels=[3,3,3],\n",
    "                                 linear_filters=[200,2],\n",
    "                                 dropout_rate=dropout,batch_norm=True,conv1D=True)\n",
    "    optimizer_params=OptimizerParams()\n",
    "    train_params=TrainParams(max_epoch=300,mini_batch_size=79)\n",
    "\n",
    "\n",
    "    params=Params(net_type,optimizer_type,criterion_type,network_params=network_params,\n",
    "                  optimizer_params=optimizer_params,train_params=train_params,cuda=True,plot=False)\n",
    "\n",
    "    cv(params,repetitions=1,cross_validation=True,repetitions_test=4)\n",
    "    results.append(cv.result)"
   ]
  },
  {
   "cell_type": "code",
   "execution_count": null,
   "metadata": {},
   "outputs": [],
   "source": [
    "params.network"
   ]
  },
  {
   "cell_type": "code",
   "execution_count": null,
   "metadata": {
    "collapsed": true
   },
   "outputs": [],
   "source": [
    "save=True\n",
    "if save:\n",
    "    file_name=folder.stored+'four_layers'\n",
    "    write_pickle(results,file_name)"
   ]
  },
  {
   "cell_type": "code",
   "execution_count": null,
   "metadata": {
    "collapsed": true
   },
   "outputs": [],
   "source": []
  },
  {
   "cell_type": "code",
   "execution_count": null,
   "metadata": {
    "collapsed": true,
    "scrolled": false
   },
   "outputs": [],
   "source": [
    "cv=CrossValidation(k=2,train_dataset=train_dataset,test_dataset=test_dataset,\n",
    "                   train_target=train_target,test_target=test_target)\n",
    "\n",
    "net_type=ThreeLayers2D\n",
    "optimizer_type=optim.Adam\n",
    "criterion_type=nn.CrossEntropyLoss\n",
    "network_params=NetworkParams(conv_filters=[28,28,28],conv_kernels=[(3,1),(5,3),(3,3)],\n",
    "                             linear_filters=[200,2],\n",
    "                             dropout_rate=0,batch_norm=False,conv1D=False)\n",
    "optimizer_params=OptimizerParams()\n",
    "train_params=TrainParams(max_epoch=100,mini_batch_size=79)\n",
    "\n",
    "\n",
    "params=Params(net_type,optimizer_type,criterion_type,network_params=network_params,\n",
    "              optimizer_params=optimizer_params,train_params=train_params,)\n",
    "\n",
    "cv(params)"
   ]
  },
  {
   "cell_type": "code",
   "execution_count": null,
   "metadata": {
    "collapsed": true,
    "scrolled": false
   },
   "outputs": [],
   "source": [
    "net_type=ThreeLayers\n",
    "optimizer_type=optim.Adam\n",
    "criterion_type=nn.CrossEntropyLoss\n",
    "network_params=NetworkParams(linear_filters=[200,2],dropout_rate=0)\n",
    "optimizer_params=OptimizerParams()\n",
    "train_params=TrainParams(max_epoch=100)\n",
    "\n",
    "\n",
    "params=Params(net_type,optimizer_type,criterion_type,network_params=network_params,\n",
    "              optimizer_params=optimizer_params,train_params=train_params,)\n",
    "\n",
    "train=Train(train_dataset=train_dataset,test_dataset=test_dataset,\n",
    "            train_target=train_target,test_target=test_target)\n",
    "train(params)"
   ]
  },
  {
   "cell_type": "code",
   "execution_count": null,
   "metadata": {
    "collapsed": true
   },
   "outputs": [],
   "source": []
  },
  {
   "cell_type": "code",
   "execution_count": null,
   "metadata": {
    "collapsed": true
   },
   "outputs": [],
   "source": []
  },
  {
   "cell_type": "code",
   "execution_count": null,
   "metadata": {
    "collapsed": true
   },
   "outputs": [],
   "source": []
  },
  {
   "cell_type": "code",
   "execution_count": null,
   "metadata": {
    "collapsed": true
   },
   "outputs": [],
   "source": []
  },
  {
   "cell_type": "code",
   "execution_count": null,
   "metadata": {
    "collapsed": true
   },
   "outputs": [],
   "source": []
  },
  {
   "cell_type": "code",
   "execution_count": null,
   "metadata": {
    "collapsed": true
   },
   "outputs": [],
   "source": []
  },
  {
   "cell_type": "code",
   "execution_count": null,
   "metadata": {
    "collapsed": true
   },
   "outputs": [],
   "source": []
  },
  {
   "cell_type": "code",
   "execution_count": null,
   "metadata": {
    "collapsed": true
   },
   "outputs": [],
   "source": []
  },
  {
   "cell_type": "code",
   "execution_count": null,
   "metadata": {
    "collapsed": true
   },
   "outputs": [],
   "source": []
  }
 ],
 "metadata": {
  "kernelspec": {
   "display_name": "Python 3",
   "language": "python",
   "name": "python3"
  },
  "language_info": {
   "codemirror_mode": {
    "name": "ipython",
    "version": 3
   },
   "file_extension": ".py",
   "mimetype": "text/x-python",
   "name": "python",
   "nbconvert_exporter": "python",
   "pygments_lexer": "ipython3",
   "version": "3.6.1"
  },
  "notify_time": "5"
 },
 "nbformat": 4,
 "nbformat_minor": 2
}
