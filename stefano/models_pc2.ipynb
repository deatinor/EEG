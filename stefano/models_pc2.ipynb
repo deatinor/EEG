{
 "cells": [
  {
   "cell_type": "markdown",
   "metadata": {},
   "source": [
    "In this notebook we will use the nn class **Sequential** to model a CNN"
   ]
  },
  {
   "cell_type": "markdown",
   "metadata": {},
   "source": [
    "We will use the single target network"
   ]
  },
  {
   "cell_type": "markdown",
   "metadata": {},
   "source": [
    "# Import"
   ]
  },
  {
   "cell_type": "code",
   "execution_count": 1,
   "metadata": {
    "ExecuteTime": {
     "end_time": "2018-04-29T15:45:48.039674Z",
     "start_time": "2018-04-29T15:45:46.586434Z"
    },
    "collapsed": true
   },
   "outputs": [],
   "source": [
    "import torch\n",
    "import numpy as np\n",
    "import matplotlib.pyplot as plt\n",
    "from torch.autograd import Variable\n",
    "\n",
    "import torch.nn as nn\n",
    "import torch.nn.functional as F\n",
    "\n",
    "import torch.optim as optim\n",
    "from torch.optim.lr_scheduler import StepLR\n",
    "\n",
    "from sklearn.model_selection import KFold\n",
    "\n",
    "from tqdm import tqdm\n",
    "\n",
    "import load_script\n",
    "from params import *\n",
    "from custom_layers import *\n",
    "from training import *\n",
    "from networks import *\n",
    "from result import *\n",
    "\n",
    "from utilities import *\n",
    "from parse_dataset import *"
   ]
  },
  {
   "cell_type": "code",
   "execution_count": 2,
   "metadata": {
    "ExecuteTime": {
     "end_time": "2018-04-29T15:45:48.086364Z",
     "start_time": "2018-04-29T15:45:48.065870Z"
    },
    "collapsed": false
   },
   "outputs": [],
   "source": [
    "%load_ext autoreload\n",
    "%autoreload 2"
   ]
  },
  {
   "cell_type": "markdown",
   "metadata": {},
   "source": [
    "# Loading the dataset"
   ]
  },
  {
   "cell_type": "code",
   "execution_count": 3,
   "metadata": {
    "collapsed": false
   },
   "outputs": [
    {
     "name": "stdout",
     "output_type": "stream",
     "text": [
      "Reading data from /home/stefano/EEG//\n",
      "Reading data from /home/stefano/EEG//stored//\n",
      "Reading data from /home/stefano/EEG//__pycache__//\n",
      "Reading data from /home/stefano/EEG//data//\n",
      "Reading data from /home/stefano/EEG//stefano//\n",
      "Reading data from /home/stefano/EEG//stefano//figures//\n",
      "Reading data from /home/stefano/EEG//stefano//__pycache__//\n",
      "Reading data from /home/stefano/EEG//stefano//notebook//\n"
     ]
    }
   ],
   "source": [
    "folder=Dataset(base_directory='/home/stefano/',dataset='eeg')"
   ]
  },
  {
   "cell_type": "code",
   "execution_count": null,
   "metadata": {
    "collapsed": true
   },
   "outputs": [],
   "source": [
    "train_dataset,train_target=load_script.load_dataset_1000hz(train=True)"
   ]
  },
  {
   "cell_type": "code",
   "execution_count": null,
   "metadata": {
    "collapsed": true
   },
   "outputs": [],
   "source": [
    "test_dataset,test_target=load_script.load_dataset_1000hz(train=False)"
   ]
  },
  {
   "cell_type": "code",
   "execution_count": 4,
   "metadata": {
    "ExecuteTime": {
     "end_time": "2018-04-29T15:45:48.583592Z",
     "start_time": "2018-04-29T15:45:48.088414Z"
    },
    "collapsed": true
   },
   "outputs": [],
   "source": [
    "train_dataset,train_target=load_script.load_dataset(train=True)"
   ]
  },
  {
   "cell_type": "code",
   "execution_count": 5,
   "metadata": {
    "ExecuteTime": {
     "end_time": "2018-04-29T15:45:48.754805Z",
     "start_time": "2018-04-29T15:45:48.585273Z"
    },
    "collapsed": true
   },
   "outputs": [],
   "source": [
    "test_dataset,test_target=load_script.load_dataset(train=False)"
   ]
  },
  {
   "cell_type": "code",
   "execution_count": 6,
   "metadata": {
    "collapsed": false
   },
   "outputs": [],
   "source": [
    "train_ds = []\n",
    "train_ds.append(train_dataset.data.numpy())\n",
    "for i in range(4):\n",
    "    train_ds.append(train_ds[0] + np.random.normal(scale = 0.5, size = train_ds[0].shape))\n",
    "\n",
    "train_ds = np.asarray(train_ds).reshape(316 * 5, 28, 50)\n",
    "\n",
    "train_dataset = Variable(torch.FloatTensor(train_ds))\n",
    "train_target = Variable(torch.LongTensor(np.tile(train_target.data.numpy().T, 5).T)) #Repeat target values"
   ]
  },
  {
   "cell_type": "markdown",
   "metadata": {},
   "source": [
    "# Normalization"
   ]
  },
  {
   "cell_type": "code",
   "execution_count": 7,
   "metadata": {
    "collapsed": false
   },
   "outputs": [
    {
     "data": {
      "text/plain": [
       "torch.Size([1580, 28, 50])"
      ]
     },
     "execution_count": 7,
     "metadata": {},
     "output_type": "execute_result"
    }
   ],
   "source": [
    "train_dataset.shape"
   ]
  },
  {
   "cell_type": "code",
   "execution_count": 8,
   "metadata": {
    "ExecuteTime": {
     "end_time": "2018-04-29T15:45:48.828631Z",
     "start_time": "2018-04-29T15:45:48.814246Z"
    },
    "collapsed": false,
    "scrolled": true
   },
   "outputs": [
    {
     "data": {
      "text/plain": [
       "torch.Size([100, 28, 50])"
      ]
     },
     "execution_count": 8,
     "metadata": {},
     "output_type": "execute_result"
    }
   ],
   "source": [
    "test_dataset.shape"
   ]
  },
  {
   "cell_type": "code",
   "execution_count": 9,
   "metadata": {
    "ExecuteTime": {
     "end_time": "2018-04-29T15:45:49.133752Z",
     "start_time": "2018-04-29T15:45:49.109222Z"
    },
    "collapsed": true
   },
   "outputs": [],
   "source": [
    "mean=train_dataset.mean(0).mean(1).view(1,28,1)\n",
    "std=train_dataset.std(2).mean(0).view(1,28,1)"
   ]
  },
  {
   "cell_type": "code",
   "execution_count": 10,
   "metadata": {
    "ExecuteTime": {
     "end_time": "2018-04-29T15:45:49.557152Z",
     "start_time": "2018-04-29T15:45:49.525799Z"
    },
    "collapsed": true,
    "scrolled": true
   },
   "outputs": [],
   "source": [
    "train_dataset=(train_dataset-mean)/std\n",
    "test_dataset=(test_dataset-mean)/std"
   ]
  },
  {
   "cell_type": "markdown",
   "metadata": {},
   "source": [
    "# Defining the network"
   ]
  },
  {
   "cell_type": "markdown",
   "metadata": {},
   "source": [
    "### Simple Network"
   ]
  },
  {
   "cell_type": "markdown",
   "metadata": {},
   "source": [
    "# Training"
   ]
  },
  {
   "cell_type": "code",
   "execution_count": null,
   "metadata": {
    "collapsed": false,
    "scrolled": true
   },
   "outputs": [],
   "source": [
    "dropout_values=[0,0.1,0.2,0.3,0.4,0.5,0.6,0.7,0.8,0.9]\n",
    "results=[]\n",
    "for dropout in dropout_values:\n",
    "    print('Dropout',dropout)\n",
    "    cv=CrossValidation(k=4,train_dataset=train_dataset,test_dataset=test_dataset,\n",
    "                   train_target=train_target,test_target=test_target,cuda=True)\n",
    "    \n",
    "    net_type=ThreeCNNLayers\n",
    "    optimizer_type=optim.Adam\n",
    "    criterion_type=nn.CrossEntropyLoss\n",
    "    network_params=NetworkParams(conv_filters=[28,28,28],conv_kernels=[3,3,3],\n",
    "                                 linear_filters=[200,2],\n",
    "                                 dropout_rate=dropout,batch_norm=True,conv1D=True)\n",
    "    optimizer_params=OptimizerParams()\n",
    "    train_params=TrainParams(max_epoch=100,mini_batch_size=79*5)\n",
    "\n",
    "\n",
    "    params=Params(net_type,optimizer_type,criterion_type,network_params=network_params,\n",
    "                  optimizer_params=optimizer_params,train_params=train_params,cuda=True,plot=True)\n",
    "\n",
    "    cv(params,repetitions=1,cross_validation=True,repetitions_test=4)\n",
    "    results.append(cv.result)"
   ]
  },
  {
   "cell_type": "code",
   "execution_count": null,
   "metadata": {
    "collapsed": false
   },
   "outputs": [],
   "source": [
    "params.network"
   ]
  },
  {
   "cell_type": "code",
   "execution_count": null,
   "metadata": {
    "collapsed": true
   },
   "outputs": [],
   "source": [
    "save=True\n",
    "if save:\n",
    "    file_name=folder.stored+'1000hz'\n",
    "    write_pickle(results,file_name)"
   ]
  },
  {
   "cell_type": "code",
   "execution_count": null,
   "metadata": {
    "collapsed": true
   },
   "outputs": [],
   "source": []
  },
  {
   "cell_type": "code",
   "execution_count": null,
   "metadata": {
    "collapsed": true,
    "scrolled": false
   },
   "outputs": [],
   "source": [
    "cv=CrossValidation(k=2,train_dataset=train_dataset,test_dataset=test_dataset,\n",
    "                   train_target=train_target,test_target=test_target)\n",
    "\n",
    "net_type=ThreeLayers2D\n",
    "optimizer_type=optim.Adam\n",
    "criterion_type=nn.CrossEntropyLoss\n",
    "network_params=NetworkParams(conv_filters=[28,28,28],conv_kernels=[(3,1),(5,3),(3,3)],\n",
    "                             linear_filters=[200,2],\n",
    "                             dropout_rate=0,batch_norm=False,conv1D=False)\n",
    "optimizer_params=OptimizerParams()\n",
    "train_params=TrainParams(max_epoch=100,mini_batch_size=79)\n",
    "\n",
    "\n",
    "params=Params(net_type,optimizer_type,criterion_type,network_params=network_params,\n",
    "              optimizer_params=optimizer_params,train_params=train_params,)\n",
    "\n",
    "cv(params)"
   ]
  },
  {
   "cell_type": "code",
   "execution_count": null,
   "metadata": {
    "collapsed": true,
    "scrolled": false
   },
   "outputs": [],
   "source": [
    "net_type=ThreeLayers\n",
    "optimizer_type=optim.Adam\n",
    "criterion_type=nn.CrossEntropyLoss\n",
    "network_params=NetworkParams(linear_filters=[200,2],dropout_rate=0)\n",
    "optimizer_params=OptimizerParams()\n",
    "train_params=TrainParams(max_epoch=100)\n",
    "\n",
    "\n",
    "params=Params(net_type,optimizer_type,criterion_type,network_params=network_params,\n",
    "              optimizer_params=optimizer_params,train_params=train_params,)\n",
    "\n",
    "train=Train(train_dataset=train_dataset,test_dataset=test_dataset,\n",
    "            train_target=train_target,test_target=test_target)\n",
    "train(params)"
   ]
  },
  {
   "cell_type": "code",
   "execution_count": null,
   "metadata": {
    "collapsed": false
   },
   "outputs": [],
   "source": [
    "class ThreeLayers2D(nn.Module):\n",
    "    \n",
    "    num_my_conv_layers=2\n",
    "    num_linear_layers=3\n",
    "    \n",
    "    def __init__(self,params):\n",
    "        super(ThreeLayers2D,self).__init__()\n",
    "        \n",
    "        self.params=params\n",
    "        \n",
    "        layers=[]\n",
    "        layers.append(Tensor4D())\n",
    "        for i in range(self.num_my_conv_layers): \n",
    "            layers+=MyConv2D(*self.params[i]).layers\n",
    "            \n",
    "        layers.append(Flatten())\n",
    "        layers.append(nn.Linear(*self.params[self.num_my_conv_layers]))\n",
    "        layers.append(nn.BatchNorm1d(self.params[self.num_my_conv_layers][1]))\n",
    "        layers.append(nn.ReLU())\n",
    "        layers.append(nn.Dropout(0.7))\n",
    "        \n",
    "        layers.append(nn.Linear(*self.params[self.num_my_conv_layers+1]))   \n",
    "        layers.append(nn.BatchNorm1d(self.params[self.num_my_conv_layers+1][1]))\n",
    "        layers.append(nn.ReLU())\n",
    "        layers.append(nn.Dropout(0))\n",
    "        \n",
    "        layers.append(nn.Linear(*self.params[self.num_my_conv_layers+2]))\n",
    "        \n",
    "        self.sequential=nn.Sequential(*layers)\n",
    "        \n",
    "    def forward(self,x):\n",
    "        x=self.sequential(x)\n",
    "        \n",
    "        return x\n",
    "    \n",
    "cv=CrossValidation(k=2,train_dataset=train_dataset,test_dataset=test_dataset,\n",
    "                   train_target=train_target,test_target=test_target,cuda=True)\n",
    "\n",
    "net_type=ThreeLayers2D\n",
    "optimizer_type=optim.Adam\n",
    "criterion_type=nn.CrossEntropyLoss\n",
    "network_params=NetworkParams(conv_filters=[3,5], conv_kernels=[(1,5),(28,3)],\n",
    "                             linear_filters=[100, 50, 2],\n",
    "                             dropout_rate=0.7,batch_norm=True,conv1D=False)\n",
    "optimizer_params=OptimizerParams()\n",
    "train_params=TrainParams(max_epoch=1000,mini_batch_size=79*2)\n",
    "\n",
    "params=Params(net_type,optimizer_type,criterion_type,network_params=network_params,\n",
    "              optimizer_params=optimizer_params,train_params=train_params,cuda=True)\n",
    "\n",
    "cv(params, cross_validation=False, repetitions=1)"
   ]
  },
  {
   "cell_type": "code",
   "execution_count": null,
   "metadata": {
    "collapsed": true
   },
   "outputs": [],
   "source": []
  },
  {
   "cell_type": "code",
   "execution_count": null,
   "metadata": {
    "collapsed": true
   },
   "outputs": [],
   "source": []
  },
  {
   "cell_type": "code",
   "execution_count": null,
   "metadata": {
    "collapsed": true
   },
   "outputs": [],
   "source": []
  },
  {
   "cell_type": "code",
   "execution_count": null,
   "metadata": {
    "collapsed": true
   },
   "outputs": [],
   "source": []
  },
  {
   "cell_type": "code",
   "execution_count": null,
   "metadata": {
    "collapsed": true
   },
   "outputs": [],
   "source": []
  },
  {
   "cell_type": "code",
   "execution_count": null,
   "metadata": {
    "collapsed": true
   },
   "outputs": [],
   "source": []
  },
  {
   "cell_type": "code",
   "execution_count": null,
   "metadata": {
    "collapsed": true
   },
   "outputs": [],
   "source": []
  },
  {
   "cell_type": "code",
   "execution_count": null,
   "metadata": {
    "collapsed": true
   },
   "outputs": [],
   "source": []
  }
 ],
 "metadata": {
  "kernelspec": {
   "display_name": "Python 3",
   "language": "python",
   "name": "python3"
  },
  "language_info": {
   "codemirror_mode": {
    "name": "ipython",
    "version": 3
   },
   "file_extension": ".py",
   "mimetype": "text/x-python",
   "name": "python",
   "nbconvert_exporter": "python",
   "pygments_lexer": "ipython3",
   "version": "3.6.0"
  },
  "notify_time": "5"
 },
 "nbformat": 4,
 "nbformat_minor": 2
}
