{
 "cells": [
  {
   "cell_type": "markdown",
   "metadata": {},
   "source": [
    "# Import"
   ]
  },
  {
   "cell_type": "code",
   "execution_count": 2,
   "metadata": {
    "collapsed": true
   },
   "outputs": [],
   "source": [
    "import torch\n",
    "import numpy as np\n",
    "import matplotlib.pyplot as plt\n",
    "from torch.autograd import Variable\n",
    "\n",
    "import torch.nn as nn\n",
    "import torch.nn.functional as F\n",
    "\n",
    "import torch.optim as optim"
   ]
  },
  {
   "cell_type": "code",
   "execution_count": 2,
   "metadata": {
    "collapsed": true
   },
   "outputs": [],
   "source": [
    "import load_script"
   ]
  },
  {
   "cell_type": "code",
   "execution_count": 3,
   "metadata": {
    "collapsed": true
   },
   "outputs": [],
   "source": [
    "%load_ext autoreload\n",
    "%autoreload 2"
   ]
  },
  {
   "cell_type": "markdown",
   "metadata": {},
   "source": [
    "# Loading the dataset"
   ]
  },
  {
   "cell_type": "code",
   "execution_count": 4,
   "metadata": {
    "collapsed": true,
    "scrolled": true
   },
   "outputs": [],
   "source": [
    "train_dataset,target=load_script.load_dataset(train=True)"
   ]
  },
  {
   "cell_type": "code",
   "execution_count": 5,
   "metadata": {
    "collapsed": true
   },
   "outputs": [],
   "source": [
    "test_dataset,test_target=load_script.load_dataset(train=False)"
   ]
  },
  {
   "cell_type": "code",
   "execution_count": 6,
   "metadata": {
    "collapsed": true
   },
   "outputs": [],
   "source": [
    "single_target=(target[:,1]>target[:,0]).type(torch.FloatTensor)\n",
    "single_test_target=(test_target[:,1]>test_target[:,0]).type(torch.FloatTensor)"
   ]
  },
  {
   "cell_type": "code",
   "execution_count": 7,
   "metadata": {
    "scrolled": true
   },
   "outputs": [
    {
     "data": {
      "text/plain": [
       "Variable containing:\n",
       "  41.8000   44.8000   47.1000  ...    69.8000   72.6000   76.1000\n",
       " -10.3000   -5.9000   -3.3000  ...    12.6000   24.0000   26.5000\n",
       "  38.1000   25.2000   46.0000  ...    45.1000   74.1000   64.8000\n",
       "             ...                ⋱                ...             \n",
       "   7.9000   11.2000   14.3000  ...    32.7000   43.4000   45.5000\n",
       "  19.2000   33.6000   33.8000  ...    46.7000   53.7000   43.4000\n",
       "  -0.4000   12.7000   12.0000  ...    30.7000   40.6000   33.1000\n",
       "[torch.FloatTensor of size 28x50]"
      ]
     },
     "execution_count": 7,
     "metadata": {},
     "output_type": "execute_result"
    }
   ],
   "source": [
    "train_dataset[0]"
   ]
  },
  {
   "cell_type": "code",
   "execution_count": 8,
   "metadata": {
    "scrolled": true
   },
   "outputs": [
    {
     "data": {
      "text/plain": [
       "Variable containing:\n",
       " 1\n",
       " 0\n",
       "[torch.FloatTensor of size 2]"
      ]
     },
     "execution_count": 8,
     "metadata": {},
     "output_type": "execute_result"
    }
   ],
   "source": [
    "target[0]"
   ]
  },
  {
   "cell_type": "markdown",
   "metadata": {},
   "source": [
    "# Defining the network"
   ]
  },
  {
   "cell_type": "markdown",
   "metadata": {},
   "source": [
    "### Simplest network as possible"
   ]
  },
  {
   "cell_type": "code",
   "execution_count": 5,
   "metadata": {},
   "outputs": [
    {
     "ename": "TypeError",
     "evalue": "max_pool1d() missing 1 required positional argument: 'input'",
     "output_type": "error",
     "traceback": [
      "\u001b[0;31m---------------------------------------------------------------------------\u001b[0m",
      "\u001b[0;31mTypeError\u001b[0m                                 Traceback (most recent call last)",
      "\u001b[0;32m<ipython-input-5-927e407f1b80>\u001b[0m in \u001b[0;36m<module>\u001b[0;34m()\u001b[0m\n\u001b[0;32m----> 1\u001b[0;31m \u001b[0mF\u001b[0m\u001b[0;34m.\u001b[0m\u001b[0mmax_pool1d\u001b[0m\u001b[0;34m(\u001b[0m\u001b[0mkernel_size\u001b[0m\u001b[0;34m=\u001b[0m\u001b[0;36m3\u001b[0m\u001b[0;34m)\u001b[0m\u001b[0;34m\u001b[0m\u001b[0m\n\u001b[0m",
      "\u001b[0;31mTypeError\u001b[0m: max_pool1d() missing 1 required positional argument: 'input'"
     ]
    }
   ],
   "source": [
    "F.max_pool1d(kernel_size=3)"
   ]
  },
  {
   "cell_type": "code",
   "execution_count": 9,
   "metadata": {
    "collapsed": true
   },
   "outputs": [],
   "source": [
    "class Simple(nn.Module):\n",
    "    def __init__(self):\n",
    "        super(Simple,self).__init__()\n",
    "\n",
    "        self.conv1=nn.Conv1d(28,14,5)\n",
    "        self.full1=nn.Linear(14*46,100)\n",
    "        self.full2=nn.Linear(100,2)\n",
    "        \n",
    "    def forward(self,x):\n",
    "        x=F.max_pool1d(F.relu(self.conv1(x)),1)\n",
    "        x=x.view(-1)\n",
    "        x=F.relu(self.full1(x.view(-1,14*46)))\n",
    "        x=F.sigmoid(self.full2(x))\n",
    "        \n",
    "        return x"
   ]
  },
  {
   "cell_type": "markdown",
   "metadata": {},
   "source": [
    "### Got from this paper https://tdk.bme.hu/VIK/DownloadPaper/Kezmozdulatok-detektalasa-EEG-jel-alapjan"
   ]
  },
  {
   "cell_type": "code",
   "execution_count": 10,
   "metadata": {
    "collapsed": true
   },
   "outputs": [],
   "source": [
    "class Paper(nn.Module):\n",
    "    def __init__(self):\n",
    "        super(Paper,self).__init__()\n",
    "\n",
    "        self.conv1=nn.Conv1d(28,28,5)\n",
    "        self.full1=nn.Linear(28*23,512)\n",
    "        self.full2=nn.Linear(512,512)\n",
    "        self.full3=nn.Linear(512,2)\n",
    "        \n",
    "    def forward(self,x):\n",
    "        x=F.max_pool1d(F.relu(self.conv1(x)),2)\n",
    "\n",
    "        x=F.relu(self.full1(x.view(-1,28*23)))\n",
    "        x=F.relu(self.full2(x))\n",
    "        \n",
    "        x=F.sigmoid(self.full3(x))\n",
    "        \n",
    "        return x"
   ]
  },
  {
   "cell_type": "markdown",
   "metadata": {},
   "source": [
    "### Single output"
   ]
  },
  {
   "cell_type": "code",
   "execution_count": 11,
   "metadata": {
    "collapsed": true
   },
   "outputs": [],
   "source": [
    "class SingleOutput(nn.Module):\n",
    "    def __init__(self):\n",
    "        super(SingleOutput,self).__init__()\n",
    "\n",
    "        self.conv1=nn.Conv1d(28,14,5)\n",
    "        self.full1=nn.Linear(14*46,100)\n",
    "        self.full2=nn.Linear(100,1)\n",
    "        \n",
    "    def forward(self,x):\n",
    "        x=F.max_pool1d(F.relu(self.conv1(x)),1)\n",
    "        x=x.view(-1)\n",
    "        x=F.relu(self.full1(x.view(-1,14*46)))\n",
    "        x=F.sigmoid(self.full2(x))\n",
    "        \n",
    "        return x"
   ]
  },
  {
   "cell_type": "markdown",
   "metadata": {
    "collapsed": true
   },
   "source": [
    "# Training"
   ]
  },
  {
   "cell_type": "markdown",
   "metadata": {},
   "source": [
    "### Standard training"
   ]
  },
  {
   "cell_type": "code",
   "execution_count": 12,
   "metadata": {
    "scrolled": true
   },
   "outputs": [
    {
     "name": "stdout",
     "output_type": "stream",
     "text": [
      "Epoch: 0 Loss: 89.37661999091506 Correct: 54.74% Correct test: 49.0%\n",
      "Epoch: 10 Loss: 69.01822441164404 Correct: 67.40% Correct test: 51.0%\n",
      "Epoch: 20 Loss: 61.20998738706112 Correct: 73.41% Correct test: 51.0%\n",
      "Epoch: 30 Loss: 54.76791105698794 Correct: 76.58% Correct test: 52.0%\n",
      "Epoch: 40 Loss: 48.00250121485442 Correct: 81.01% Correct test: 53.0%\n",
      "Epoch: 50 Loss: 41.47877614246681 Correct: 85.12% Correct test: 56.0%\n",
      "Epoch: 60 Loss: 35.262712138239294 Correct: 88.60% Correct test: 56.0%\n",
      "Epoch: 70 Loss: 29.459269742888864 Correct: 91.45% Correct test: 60.0%\n",
      "Epoch: 80 Loss: 24.260416189405078 Correct: 93.03% Correct test: 61.0%\n",
      "Epoch: 90 Loss: 19.640424454242748 Correct: 96.20% Correct test: 64.0%\n",
      "Epoch: 100 Loss: 15.789122350417529 Correct: 98.73% Correct test: 66.0%\n",
      "Epoch: 110 Loss: 12.59495668621912 Correct: 98.73% Correct test: 65.0%\n",
      "Epoch: 120 Loss: 10.074616905423227 Correct: 98.73% Correct test: 67.0%\n"
     ]
    },
    {
     "ename": "KeyboardInterrupt",
     "evalue": "",
     "output_type": "error",
     "traceback": [
      "\u001b[0;31m---------------------------------------------------------------------------\u001b[0m",
      "\u001b[0;31mKeyboardInterrupt\u001b[0m                         Traceback (most recent call last)",
      "\u001b[0;32m<ipython-input-12-a8962aa04b37>\u001b[0m in \u001b[0;36m<module>\u001b[0;34m()\u001b[0m\n\u001b[1;32m     23\u001b[0m         \u001b[0moutput_target\u001b[0m\u001b[0;34m[\u001b[0m\u001b[0mb\u001b[0m\u001b[0;34m:\u001b[0m\u001b[0mb\u001b[0m\u001b[0;34m+\u001b[0m\u001b[0mmini_batch_size\u001b[0m\u001b[0;34m]\u001b[0m\u001b[0;34m=\u001b[0m\u001b[0;34m(\u001b[0m\u001b[0mout\u001b[0m\u001b[0;34m[\u001b[0m\u001b[0;34m:\u001b[0m\u001b[0;34m,\u001b[0m\u001b[0;36m1\u001b[0m\u001b[0;34m]\u001b[0m\u001b[0;34m>\u001b[0m\u001b[0mout\u001b[0m\u001b[0;34m[\u001b[0m\u001b[0;34m:\u001b[0m\u001b[0;34m,\u001b[0m\u001b[0;36m0\u001b[0m\u001b[0;34m]\u001b[0m\u001b[0;34m)\u001b[0m\u001b[0;34m.\u001b[0m\u001b[0mdata\u001b[0m\u001b[0;34m\u001b[0m\u001b[0m\n\u001b[1;32m     24\u001b[0m         \u001b[0mloss\u001b[0m\u001b[0;34m=\u001b[0m\u001b[0mcriterion\u001b[0m\u001b[0;34m(\u001b[0m\u001b[0mout\u001b[0m\u001b[0;34m,\u001b[0m\u001b[0mtarget_element\u001b[0m\u001b[0;34m)\u001b[0m\u001b[0;34m\u001b[0m\u001b[0m\n\u001b[0;32m---> 25\u001b[0;31m         \u001b[0mloss\u001b[0m\u001b[0;34m.\u001b[0m\u001b[0mbackward\u001b[0m\u001b[0;34m(\u001b[0m\u001b[0;34m)\u001b[0m\u001b[0;34m\u001b[0m\u001b[0m\n\u001b[0m\u001b[1;32m     26\u001b[0m         \u001b[0moptimizer\u001b[0m\u001b[0;34m.\u001b[0m\u001b[0mstep\u001b[0m\u001b[0;34m(\u001b[0m\u001b[0;34m)\u001b[0m\u001b[0;34m\u001b[0m\u001b[0m\n\u001b[1;32m     27\u001b[0m         \u001b[0mtotal_loss\u001b[0m\u001b[0;34m+=\u001b[0m\u001b[0mloss\u001b[0m\u001b[0;34m.\u001b[0m\u001b[0mdata\u001b[0m\u001b[0;34m[\u001b[0m\u001b[0;36m0\u001b[0m\u001b[0;34m]\u001b[0m\u001b[0;34m\u001b[0m\u001b[0m\n",
      "\u001b[0;32m/Users/savare/anaconda3/lib/python3.6/site-packages/torch/autograd/variable.py\u001b[0m in \u001b[0;36mbackward\u001b[0;34m(self, gradient, retain_graph, create_graph, retain_variables)\u001b[0m\n\u001b[1;32m    165\u001b[0m                 \u001b[0mVariable\u001b[0m\u001b[0;34m.\u001b[0m\u001b[0;34m\u001b[0m\u001b[0m\n\u001b[1;32m    166\u001b[0m         \"\"\"\n\u001b[0;32m--> 167\u001b[0;31m         \u001b[0mtorch\u001b[0m\u001b[0;34m.\u001b[0m\u001b[0mautograd\u001b[0m\u001b[0;34m.\u001b[0m\u001b[0mbackward\u001b[0m\u001b[0;34m(\u001b[0m\u001b[0mself\u001b[0m\u001b[0;34m,\u001b[0m \u001b[0mgradient\u001b[0m\u001b[0;34m,\u001b[0m \u001b[0mretain_graph\u001b[0m\u001b[0;34m,\u001b[0m \u001b[0mcreate_graph\u001b[0m\u001b[0;34m,\u001b[0m \u001b[0mretain_variables\u001b[0m\u001b[0;34m)\u001b[0m\u001b[0;34m\u001b[0m\u001b[0m\n\u001b[0m\u001b[1;32m    168\u001b[0m \u001b[0;34m\u001b[0m\u001b[0m\n\u001b[1;32m    169\u001b[0m     \u001b[0;32mdef\u001b[0m \u001b[0mregister_hook\u001b[0m\u001b[0;34m(\u001b[0m\u001b[0mself\u001b[0m\u001b[0;34m,\u001b[0m \u001b[0mhook\u001b[0m\u001b[0;34m)\u001b[0m\u001b[0;34m:\u001b[0m\u001b[0;34m\u001b[0m\u001b[0m\n",
      "\u001b[0;32m/Users/savare/anaconda3/lib/python3.6/site-packages/torch/autograd/__init__.py\u001b[0m in \u001b[0;36mbackward\u001b[0;34m(variables, grad_variables, retain_graph, create_graph, retain_variables)\u001b[0m\n\u001b[1;32m     97\u001b[0m \u001b[0;34m\u001b[0m\u001b[0m\n\u001b[1;32m     98\u001b[0m     Variable._execution_engine.run_backward(\n\u001b[0;32m---> 99\u001b[0;31m         variables, grad_variables, retain_graph)\n\u001b[0m\u001b[1;32m    100\u001b[0m \u001b[0;34m\u001b[0m\u001b[0m\n\u001b[1;32m    101\u001b[0m \u001b[0;34m\u001b[0m\u001b[0m\n",
      "\u001b[0;31mKeyboardInterrupt\u001b[0m: "
     ]
    }
   ],
   "source": [
    "net=Paper()\n",
    "\n",
    "optimizer = optim.SGD(net.parameters(), lr=0.0001)\n",
    "criterion=nn.MSELoss()\n",
    "mini_batch_size=1\n",
    "\n",
    "for epoch in range(1001):\n",
    "    \n",
    "    total_loss=0\n",
    "    output_target=torch.zeros(target.shape[0])\n",
    "    for b in range(0,train_dataset.shape[0],mini_batch_size):\n",
    "        \n",
    "        train_element=train_dataset.narrow(0,b,mini_batch_size)\n",
    "#         train_element=train_element.view(1,28,-1)\n",
    "        \n",
    "        target_element=target.narrow(0,b,mini_batch_size)\n",
    "        \n",
    "        optimizer.zero_grad()\n",
    "        \n",
    "#         print(train_element.shape)\n",
    "        out=net(train_element)\n",
    "#         print(out)\n",
    "        output_target[b:b+mini_batch_size]=(out[:,1]>out[:,0]).data\n",
    "        loss=criterion(out,target_element)\n",
    "        loss.backward()\n",
    "        optimizer.step()\n",
    "        total_loss+=loss.data[0]\n",
    "        \n",
    "    output_test=torch.zeros(test_target.shape[0])\n",
    "    out=net(test_dataset)\n",
    "#         print(out)\n",
    "    output_test=(out[:,1]>out[:,0]).data.type(torch.FloatTensor)\n",
    "        \n",
    "    \n",
    "#     print(type(output_test))\n",
    "        \n",
    "    error_train=np.sum(list(output_target==target[:,1].data))/target.shape[0]\n",
    "    error_test=np.sum(list(output_test==test_target[:,1].data))/test_target.shape[0]\n",
    "    if epoch%10==0:\n",
    "        print('Epoch:',epoch,'Loss:',total_loss,'Correct:',str(error_train*100)[:5]+\"%\",\n",
    "             'Correct test:',str(error_test*100)[:5]+\"%\")"
   ]
  },
  {
   "cell_type": "markdown",
   "metadata": {},
   "source": [
    "### Single output training"
   ]
  },
  {
   "cell_type": "code",
   "execution_count": null,
   "metadata": {
    "collapsed": true
   },
   "outputs": [],
   "source": [
    "net=SingleOutput()\n",
    "\n",
    "optimizer = optim.SGD(net.parameters(), lr=0.0001)\n",
    "criterion=nn.MSELoss()\n",
    "mini_batch_size=1\n",
    "\n",
    "for epoch in range(1001):\n",
    "    \n",
    "    total_loss=0\n",
    "    output_target=torch.zeros(single_target.shape[0])\n",
    "    for b in range(0,train_dataset.shape[0],mini_batch_size):\n",
    "        \n",
    "        train_element=train_dataset.narrow(0,b,mini_batch_size)\n",
    "#         train_element=train_element.view(1,28,-1)\n",
    "        \n",
    "        target_element=single_target.narrow(0,b,mini_batch_size)\n",
    "        \n",
    "        optimizer.zero_grad()\n",
    "        \n",
    "#         print(train_element.shape)\n",
    "        out=net(train_element)\n",
    "#         print(out)\n",
    "        output_target[b:b+mini_batch_size]=(out>0.5).data\n",
    "#         print(out)\n",
    "#         print(target_element)\n",
    "        loss=criterion(out,target_element)\n",
    "        loss.backward()\n",
    "        optimizer.step()\n",
    "        total_loss+=loss.data[0]\n",
    "        \n",
    "    output_test=torch.zeros(single_test_target.shape[0])\n",
    "    out=net(test_dataset)\n",
    "#         print(out)\n",
    "    output_test=(out>0.5).data.type(torch.FloatTensor)\n",
    "        \n",
    "    \n",
    "#     print(type(output_test))\n",
    "        \n",
    "    error_train=np.sum(list(output_target==single_target.data))/single_target.shape[0]\n",
    "    error_test=np.sum(list(output_test[:,0]==single_test_target.data))/single_test_target.shape[0]\n",
    "    if epoch%10==0:\n",
    "        print('Epoch:',epoch,'Loss:',total_loss,'Correct:',str(error_train*100)[:5]+\"%\",\n",
    "             'Correct test:',str(error_test*100)[:5]+\"%\")"
   ]
  },
  {
   "cell_type": "code",
   "execution_count": null,
   "metadata": {
    "collapsed": true
   },
   "outputs": [],
   "source": []
  },
  {
   "cell_type": "code",
   "execution_count": null,
   "metadata": {
    "collapsed": true
   },
   "outputs": [],
   "source": []
  },
  {
   "cell_type": "code",
   "execution_count": null,
   "metadata": {
    "collapsed": true
   },
   "outputs": [],
   "source": []
  },
  {
   "cell_type": "code",
   "execution_count": null,
   "metadata": {
    "collapsed": true
   },
   "outputs": [],
   "source": []
  },
  {
   "cell_type": "code",
   "execution_count": null,
   "metadata": {
    "collapsed": true
   },
   "outputs": [],
   "source": []
  },
  {
   "cell_type": "code",
   "execution_count": null,
   "metadata": {
    "collapsed": true
   },
   "outputs": [],
   "source": []
  }
 ],
 "metadata": {
  "kernelspec": {
   "display_name": "Python 3",
   "language": "python",
   "name": "python3"
  },
  "language_info": {
   "codemirror_mode": {
    "name": "ipython",
    "version": 3
   },
   "file_extension": ".py",
   "mimetype": "text/x-python",
   "name": "python",
   "nbconvert_exporter": "python",
   "pygments_lexer": "ipython3",
   "version": "3.6.1"
  }
 },
 "nbformat": 4,
 "nbformat_minor": 2
}
