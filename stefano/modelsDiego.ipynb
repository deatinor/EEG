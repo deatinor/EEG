{
 "cells": [
  {
   "cell_type": "markdown",
   "metadata": {},
   "source": [
    "In this notebook we will use the nn class **Sequential** to model a CNN"
   ]
  },
  {
   "cell_type": "markdown",
   "metadata": {},
   "source": [
    "We will use the single target network"
   ]
  },
  {
   "cell_type": "markdown",
   "metadata": {},
   "source": [
    "# Import"
   ]
  },
  {
   "cell_type": "code",
   "execution_count": 17,
   "metadata": {
    "ExecuteTime": {
     "end_time": "2018-04-29T15:45:48.039674Z",
     "start_time": "2018-04-29T15:45:46.586434Z"
    },
    "collapsed": false
   },
   "outputs": [],
   "source": [
    "import torch\n",
    "import numpy as np\n",
    "import matplotlib.pyplot as plt\n",
    "from torch.autograd import Variable\n",
    "\n",
    "import torch.nn as nn\n",
    "import torch.nn.functional as F\n",
    "\n",
    "import torch.optim as optim\n",
    "from torch.optim.lr_scheduler import StepLR\n",
    "\n",
    "from sklearn.model_selection import KFold\n",
    "\n",
    "from tqdm import tqdm\n",
    "\n",
    "import load_script\n",
    "from params import *\n",
    "from custom_layers import *\n",
    "from training import *"
   ]
  },
  {
   "cell_type": "code",
   "execution_count": 18,
   "metadata": {
    "ExecuteTime": {
     "end_time": "2018-04-29T15:45:48.086364Z",
     "start_time": "2018-04-29T15:45:48.065870Z"
    },
    "collapsed": false
   },
   "outputs": [
    {
     "name": "stdout",
     "output_type": "stream",
     "text": [
      "The autoreload extension is already loaded. To reload it, use:\n",
      "  %reload_ext autoreload\n"
     ]
    }
   ],
   "source": [
    "%load_ext autoreload\n",
    "%autoreload 2"
   ]
  },
  {
   "cell_type": "markdown",
   "metadata": {},
   "source": [
    "# Loading the dataset"
   ]
  },
  {
   "cell_type": "code",
   "execution_count": 19,
   "metadata": {
    "collapsed": false
   },
   "outputs": [],
   "source": [
    "train_dataset,train_target=load_script.load_dataset_1000hz(train=True)"
   ]
  },
  {
   "cell_type": "code",
   "execution_count": 20,
   "metadata": {
    "collapsed": false
   },
   "outputs": [],
   "source": [
    "test_dataset,test_target=load_script.load_dataset_1000hz(train=False)"
   ]
  },
  {
   "cell_type": "code",
   "execution_count": 21,
   "metadata": {
    "ExecuteTime": {
     "end_time": "2018-04-29T15:45:48.583592Z",
     "start_time": "2018-04-29T15:45:48.088414Z"
    },
    "collapsed": false
   },
   "outputs": [],
   "source": [
    "train_dataset,train_target=load_script.load_dataset(train=True)"
   ]
  },
  {
   "cell_type": "code",
   "execution_count": 22,
   "metadata": {
    "ExecuteTime": {
     "end_time": "2018-04-29T15:45:48.754805Z",
     "start_time": "2018-04-29T15:45:48.585273Z"
    },
    "collapsed": false
   },
   "outputs": [],
   "source": [
    "test_dataset,test_target=load_script.load_dataset(train=False)"
   ]
  },
  {
   "cell_type": "markdown",
   "metadata": {},
   "source": [
    "# Normalization"
   ]
  },
  {
   "cell_type": "code",
   "execution_count": 23,
   "metadata": {
    "collapsed": false
   },
   "outputs": [
    {
     "data": {
      "text/plain": [
       "torch.Size([316, 28, 50])"
      ]
     },
     "execution_count": 23,
     "metadata": {},
     "output_type": "execute_result"
    }
   ],
   "source": [
    "train_dataset.shape"
   ]
  },
  {
   "cell_type": "code",
   "execution_count": 24,
   "metadata": {
    "ExecuteTime": {
     "end_time": "2018-04-29T15:45:48.828631Z",
     "start_time": "2018-04-29T15:45:48.814246Z"
    },
    "collapsed": false,
    "scrolled": true
   },
   "outputs": [
    {
     "data": {
      "text/plain": [
       "torch.Size([100, 28, 50])"
      ]
     },
     "execution_count": 24,
     "metadata": {},
     "output_type": "execute_result"
    }
   ],
   "source": [
    "test_dataset.shape"
   ]
  },
  {
   "cell_type": "code",
   "execution_count": 25,
   "metadata": {
    "ExecuteTime": {
     "end_time": "2018-04-29T15:45:49.133752Z",
     "start_time": "2018-04-29T15:45:49.109222Z"
    },
    "collapsed": true
   },
   "outputs": [],
   "source": [
    "mean=train_dataset.mean(0).view(1,28,50)\n",
    "std=train_dataset.std(0).view(1,28,50)"
   ]
  },
  {
   "cell_type": "code",
   "execution_count": 26,
   "metadata": {
    "ExecuteTime": {
     "end_time": "2018-04-29T15:45:49.557152Z",
     "start_time": "2018-04-29T15:45:49.525799Z"
    },
    "collapsed": true,
    "scrolled": true
   },
   "outputs": [],
   "source": [
    "train_dataset=(train_dataset-mean)/std\n",
    "test_dataset=(test_dataset-mean)/std"
   ]
  },
  {
   "cell_type": "markdown",
   "metadata": {},
   "source": [
    "# Defining the network"
   ]
  },
  {
   "cell_type": "markdown",
   "metadata": {},
   "source": [
    "### Simple Network"
   ]
  },
  {
   "cell_type": "code",
   "execution_count": 27,
   "metadata": {
    "collapsed": true
   },
   "outputs": [],
   "source": [
    "class ThreeLayers(nn.Module):\n",
    "    \n",
    "    num_my_conv_layers=3\n",
    "    num_linear_layers=2\n",
    "    \n",
    "    def __init__(self,params):\n",
    "        super(ThreeLayers,self).__init__()\n",
    "        \n",
    "        self.params=params\n",
    "        \n",
    "        layers=[]\n",
    "        for i in range(self.num_my_conv_layers): \n",
    "            layers+=MyConv1D(*self.params[i]).layers\n",
    "        \n",
    "        layers.append(Flatten())\n",
    "        layers.append(nn.Linear(*self.params[self.num_my_conv_layers]))\n",
    "        layers.append(nn.ReLU())\n",
    "        layers.append(nn.Dropout(0.6))\n",
    "        \n",
    "        layers.append(nn.Linear(*self.params[self.num_my_conv_layers+1]))\n",
    "        \n",
    "        \n",
    "        self.sequential=nn.Sequential(*layers)\n",
    "        \n",
    "    def forward(self,x):\n",
    "        x=self.sequential(x)\n",
    "        \n",
    "        return x"
   ]
  },
  {
   "cell_type": "code",
   "execution_count": 37,
   "metadata": {
    "collapsed": false
   },
   "outputs": [],
   "source": [
    "class FullConnect(nn.Module):\n",
    "    num_my_conv_layers=0\n",
    "    num_linear_layers=4\n",
    "    \n",
    "    def __init__(self,params):\n",
    "        super(FullConnect,self).__init__()\n",
    "        self.dropouts=[0.8,0.8,0.8,0]\n",
    "        self.params=params\n",
    "        layers=[]\n",
    "        layers.append(Flatten())\n",
    "        for i in range(self.num_linear_layers):\n",
    "            layers.append(nn.Linear(*self.params[self.num_my_conv_layers+i]))\n",
    "            layers.append(nn.BatchNorm1d(self.params[self.num_my_conv_layers+i][1]))\n",
    "            layers.append(nn.ReLU())\n",
    "            layers.append(nn.Dropout(self.dropouts[i]))\n",
    "        \n",
    "        self.sequential=nn.Sequential(*layers)\n",
    "        \n",
    "    def forward(self,x):\n",
    "        x=self.sequential(x)\n",
    "        \n",
    "        return x\n",
    "        "
   ]
  },
  {
   "cell_type": "code",
   "execution_count": 35,
   "metadata": {
    "collapsed": false
   },
   "outputs": [],
   "source": [
    "class FullConv(nn.Module):\n",
    "    num_my_conv_layers=4\n",
    "    num_linear_layers=0\n",
    "    def __init__(self,params):\n",
    "        super(FullConv,self).__init__()\n",
    "        \n",
    "        self.params=params\n",
    "        layers=[]\n",
    "        for i in range(self.num_my_conv_layers):\n",
    "            layers+=MyConv1D(*self.params[i]).layers\n",
    "        \n",
    "        layers.append(Flatten())\n",
    "        self.sequential=nn.Sequential(*layers)\n",
    "        \n",
    "    def forward(self,x):\n",
    "        x=self.sequential(x)\n",
    "        \n",
    "        return x"
   ]
  },
  {
   "cell_type": "markdown",
   "metadata": {},
   "source": [
    "# Training"
   ]
  },
  {
   "cell_type": "markdown",
   "metadata": {},
   "source": [
    "## Full Convolutional training"
   ]
  },
  {
   "cell_type": "code",
   "execution_count": 31,
   "metadata": {
    "collapsed": false,
    "scrolled": false
   },
   "outputs": [
    {
     "name": "stderr",
     "output_type": "stream",
     "text": [
      "  1%|          | 3/500 [00:00<00:19, 26.08it/s]"
     ]
    },
    {
     "name": "stdout",
     "output_type": "stream",
     "text": [
      "FullConv(\n",
      "  (sequential): Sequential(\n",
      "    (0): Conv1d(28, 28, kernel_size=(5,), stride=(1,), dilation=(3,))\n",
      "    (1): BatchNorm1d(28, eps=1e-05, momentum=0.1, affine=True)\n",
      "    (2): ReLU()\n",
      "    (3): Dropout(p=0.8)\n",
      "    (4): Conv1d(28, 14, kernel_size=(9,), stride=(1,))\n",
      "    (5): BatchNorm1d(14, eps=1e-05, momentum=0.1, affine=True)\n",
      "    (6): ReLU()\n",
      "    (7): Dropout(p=0.8)\n",
      "    (8): Conv1d(14, 7, kernel_size=(11,), stride=(1,))\n",
      "    (9): BatchNorm1d(7, eps=1e-05, momentum=0.1, affine=True)\n",
      "    (10): ReLU()\n",
      "    (11): Dropout(p=0)\n",
      "    (12): Conv1d(7, 2, kernel_size=(20,), stride=(1,))\n",
      "    (13): BatchNorm1d(2, eps=1e-05, momentum=0.1, affine=True)\n",
      "    (14): ReLU()\n",
      "    (15): Dropout(p=0)\n",
      "    (16): Flatten(\n",
      "    )\n",
      "  )\n",
      ")\n"
     ]
    },
    {
     "name": "stderr",
     "output_type": "stream",
     "text": [
      "100%|██████████| 500/500 [00:16<00:00, 31.72it/s]\n",
      " 22%|██▏       | 108/500 [00:03<00:11, 32.87it/s]\n"
     ]
    },
    {
     "ename": "KeyboardInterrupt",
     "evalue": "",
     "output_type": "error",
     "traceback": [
      "\u001b[0;31m---------------------------------------------------------------------------\u001b[0m",
      "\u001b[0;31mKeyboardInterrupt\u001b[0m                         Traceback (most recent call last)",
      "\u001b[0;32m<ipython-input-31-7357b1483e00>\u001b[0m in \u001b[0;36m<module>\u001b[0;34m()\u001b[0m\n\u001b[1;32m     13\u001b[0m \u001b[0mparams\u001b[0m\u001b[0;34m=\u001b[0m\u001b[0mParams\u001b[0m\u001b[0;34m(\u001b[0m\u001b[0mnet_type\u001b[0m\u001b[0;34m,\u001b[0m\u001b[0moptimizer_type\u001b[0m\u001b[0;34m,\u001b[0m\u001b[0mcriterion_type\u001b[0m\u001b[0;34m,\u001b[0m\u001b[0mnetwork_params\u001b[0m\u001b[0;34m=\u001b[0m\u001b[0mnetwork_params\u001b[0m\u001b[0;34m,\u001b[0m              \u001b[0moptimizer_params\u001b[0m\u001b[0;34m=\u001b[0m\u001b[0moptimizer_params\u001b[0m\u001b[0;34m,\u001b[0m\u001b[0mtrain_params\u001b[0m\u001b[0;34m=\u001b[0m\u001b[0mtrain_params\u001b[0m\u001b[0;34m)\u001b[0m\u001b[0;34m\u001b[0m\u001b[0m\n\u001b[1;32m     14\u001b[0m \u001b[0;34m\u001b[0m\u001b[0m\n\u001b[0;32m---> 15\u001b[0;31m \u001b[0mcv\u001b[0m\u001b[0;34m(\u001b[0m\u001b[0mparams\u001b[0m\u001b[0;34m)\u001b[0m\u001b[0;34m\u001b[0m\u001b[0m\n\u001b[0m",
      "\u001b[0;32m/home/stefano/EEG/stefano/training.py\u001b[0m in \u001b[0;36m__call__\u001b[0;34m(self, params, repetitions, repetitions_test, cross_validation)\u001b[0m\n\u001b[1;32m     31\u001b[0m             \u001b[0mself\u001b[0m\u001b[0;34m.\u001b[0m\u001b[0mresult\u001b[0m\u001b[0;34m.\u001b[0m\u001b[0mstart\u001b[0m\u001b[0;34m(\u001b[0m\u001b[0mcross_validation\u001b[0m\u001b[0;34m=\u001b[0m\u001b[0;32mTrue\u001b[0m\u001b[0;34m)\u001b[0m\u001b[0;34m\u001b[0m\u001b[0m\n\u001b[1;32m     32\u001b[0m             \u001b[0;32mif\u001b[0m \u001b[0mcross_validation\u001b[0m\u001b[0;34m:\u001b[0m\u001b[0;34m\u001b[0m\u001b[0m\n\u001b[0;32m---> 33\u001b[0;31m                 \u001b[0mself\u001b[0m\u001b[0;34m.\u001b[0m\u001b[0mtrain_validate_network\u001b[0m\u001b[0;34m(\u001b[0m\u001b[0mparams\u001b[0m\u001b[0;34m,\u001b[0m\u001b[0mself\u001b[0m\u001b[0;34m.\u001b[0m\u001b[0mresult\u001b[0m\u001b[0;34m)\u001b[0m\u001b[0;34m\u001b[0m\u001b[0m\n\u001b[0m\u001b[1;32m     34\u001b[0m             \u001b[0;32mfor\u001b[0m \u001b[0mj\u001b[0m \u001b[0;32min\u001b[0m \u001b[0mrange\u001b[0m\u001b[0;34m(\u001b[0m\u001b[0mrepetitions_test\u001b[0m\u001b[0;34m)\u001b[0m\u001b[0;34m:\u001b[0m\u001b[0;34m\u001b[0m\u001b[0m\n\u001b[1;32m     35\u001b[0m                 \u001b[0mself\u001b[0m\u001b[0;34m.\u001b[0m\u001b[0mtrain_test_network\u001b[0m\u001b[0;34m(\u001b[0m\u001b[0mparams\u001b[0m\u001b[0;34m,\u001b[0m\u001b[0mself\u001b[0m\u001b[0;34m.\u001b[0m\u001b[0mresult\u001b[0m\u001b[0;34m)\u001b[0m\u001b[0;34m\u001b[0m\u001b[0m\n",
      "\u001b[0;32m/home/stefano/EEG/stefano/training.py\u001b[0m in \u001b[0;36mtrain_validate_network\u001b[0;34m(self, params, result)\u001b[0m\n\u001b[1;32m     57\u001b[0m             \u001b[0;32mfor\u001b[0m \u001b[0mepoch\u001b[0m \u001b[0;32min\u001b[0m \u001b[0mtqdm\u001b[0m\u001b[0;34m(\u001b[0m\u001b[0mrange\u001b[0m\u001b[0;34m(\u001b[0m\u001b[0mparams\u001b[0m\u001b[0;34m.\u001b[0m\u001b[0mtrain_params\u001b[0m\u001b[0;34m.\u001b[0m\u001b[0mmax_epoch\u001b[0m\u001b[0;34m)\u001b[0m\u001b[0;34m)\u001b[0m\u001b[0;34m:\u001b[0m\u001b[0;34m\u001b[0m\u001b[0m\n\u001b[1;32m     58\u001b[0m \u001b[0;34m\u001b[0m\u001b[0m\n\u001b[0;32m---> 59\u001b[0;31m                 \u001b[0mself\u001b[0m\u001b[0;34m.\u001b[0m\u001b[0mtrain_epoch\u001b[0m\u001b[0;34m(\u001b[0m\u001b[0mparams\u001b[0m\u001b[0;34m,\u001b[0m\u001b[0mtrain\u001b[0m\u001b[0;34m,\u001b[0m\u001b[0mtrain_target\u001b[0m\u001b[0;34m,\u001b[0m\u001b[0mresult\u001b[0m\u001b[0;34m)\u001b[0m\u001b[0;34m\u001b[0m\u001b[0m\n\u001b[0m\u001b[1;32m     60\u001b[0m                 \u001b[0mself\u001b[0m\u001b[0;34m.\u001b[0m\u001b[0mvalidate_epoch\u001b[0m\u001b[0;34m(\u001b[0m\u001b[0mparams\u001b[0m\u001b[0;34m,\u001b[0m\u001b[0mvalidation\u001b[0m\u001b[0;34m,\u001b[0m\u001b[0mvalidation_target\u001b[0m\u001b[0;34m,\u001b[0m\u001b[0mresult\u001b[0m\u001b[0;34m)\u001b[0m\u001b[0;34m\u001b[0m\u001b[0m\n\u001b[1;32m     61\u001b[0m \u001b[0;34m\u001b[0m\u001b[0m\n",
      "\u001b[0;32m/home/stefano/EEG/stefano/training.py\u001b[0m in \u001b[0;36mtrain_epoch\u001b[0;34m(self, params, train_dataset, target, result)\u001b[0m\n\u001b[1;32m    104\u001b[0m \u001b[0;34m\u001b[0m\u001b[0m\n\u001b[1;32m    105\u001b[0m             \u001b[0mloss\u001b[0m\u001b[0;34m=\u001b[0m\u001b[0mparams\u001b[0m\u001b[0;34m.\u001b[0m\u001b[0mcriterion\u001b[0m\u001b[0;34m(\u001b[0m\u001b[0mout\u001b[0m\u001b[0;34m,\u001b[0m\u001b[0mtarget_element\u001b[0m\u001b[0;34m)\u001b[0m\u001b[0;34m\u001b[0m\u001b[0m\n\u001b[0;32m--> 106\u001b[0;31m             \u001b[0mloss\u001b[0m\u001b[0;34m.\u001b[0m\u001b[0mbackward\u001b[0m\u001b[0;34m(\u001b[0m\u001b[0;34m)\u001b[0m\u001b[0;34m\u001b[0m\u001b[0m\n\u001b[0m\u001b[1;32m    107\u001b[0m             \u001b[0mparams\u001b[0m\u001b[0;34m.\u001b[0m\u001b[0moptimizer\u001b[0m\u001b[0;34m.\u001b[0m\u001b[0mstep\u001b[0m\u001b[0;34m(\u001b[0m\u001b[0;34m)\u001b[0m\u001b[0;34m\u001b[0m\u001b[0m\n\u001b[1;32m    108\u001b[0m             \u001b[0mtotal_loss\u001b[0m\u001b[0;34m+=\u001b[0m\u001b[0mloss\u001b[0m\u001b[0;34m.\u001b[0m\u001b[0mdata\u001b[0m\u001b[0;34m[\u001b[0m\u001b[0;36m0\u001b[0m\u001b[0;34m]\u001b[0m\u001b[0;34m\u001b[0m\u001b[0m\n",
      "\u001b[0;32m/home/stefano/anaconda3/lib/python3.6/site-packages/torch/autograd/variable.py\u001b[0m in \u001b[0;36mbackward\u001b[0;34m(self, gradient, retain_graph, create_graph, retain_variables)\u001b[0m\n\u001b[1;32m    165\u001b[0m                 \u001b[0mVariable\u001b[0m\u001b[0;34m.\u001b[0m\u001b[0;34m\u001b[0m\u001b[0m\n\u001b[1;32m    166\u001b[0m         \"\"\"\n\u001b[0;32m--> 167\u001b[0;31m         \u001b[0mtorch\u001b[0m\u001b[0;34m.\u001b[0m\u001b[0mautograd\u001b[0m\u001b[0;34m.\u001b[0m\u001b[0mbackward\u001b[0m\u001b[0;34m(\u001b[0m\u001b[0mself\u001b[0m\u001b[0;34m,\u001b[0m \u001b[0mgradient\u001b[0m\u001b[0;34m,\u001b[0m \u001b[0mretain_graph\u001b[0m\u001b[0;34m,\u001b[0m \u001b[0mcreate_graph\u001b[0m\u001b[0;34m,\u001b[0m \u001b[0mretain_variables\u001b[0m\u001b[0;34m)\u001b[0m\u001b[0;34m\u001b[0m\u001b[0m\n\u001b[0m\u001b[1;32m    168\u001b[0m \u001b[0;34m\u001b[0m\u001b[0m\n\u001b[1;32m    169\u001b[0m     \u001b[0;32mdef\u001b[0m \u001b[0mregister_hook\u001b[0m\u001b[0;34m(\u001b[0m\u001b[0mself\u001b[0m\u001b[0;34m,\u001b[0m \u001b[0mhook\u001b[0m\u001b[0;34m)\u001b[0m\u001b[0;34m:\u001b[0m\u001b[0;34m\u001b[0m\u001b[0m\n",
      "\u001b[0;32m/home/stefano/anaconda3/lib/python3.6/site-packages/torch/autograd/__init__.py\u001b[0m in \u001b[0;36mbackward\u001b[0;34m(variables, grad_variables, retain_graph, create_graph, retain_variables)\u001b[0m\n\u001b[1;32m     97\u001b[0m \u001b[0;34m\u001b[0m\u001b[0m\n\u001b[1;32m     98\u001b[0m     Variable._execution_engine.run_backward(\n\u001b[0;32m---> 99\u001b[0;31m         variables, grad_variables, retain_graph)\n\u001b[0m\u001b[1;32m    100\u001b[0m \u001b[0;34m\u001b[0m\u001b[0m\n\u001b[1;32m    101\u001b[0m \u001b[0;34m\u001b[0m\u001b[0m\n",
      "\u001b[0;31mKeyboardInterrupt\u001b[0m: "
     ]
    }
   ],
   "source": [
    "cv=CrossValidation(k=2,train_dataset=train_dataset,test_dataset=test_dataset,\n",
    "                   train_target=train_target,test_target=test_target)\n",
    "\n",
    "net_type=FullConv\n",
    "optimizer_type=optim.Adam\n",
    "criterion_type=nn.CrossEntropyLoss\n",
    "network_params=NetworkParams(conv_filters=[28,14,7,2],conv_kernels=[5,9,11,20],dropout_rate=[0.8,0.8,0,0],\\\n",
    "                             stride=1,dilation=[3,1,1,1])\n",
    "#network_params=NetworkParams(linear_filters=[244,2],dropout_rate=0.8,dilation=[5,1,1])\n",
    "optimizer_params=OptimizerParams()\n",
    "train_params=TrainParams(max_epoch=500,mini_batch_size=2*79)\n",
    "\n",
    "\n",
    "params=Params(net_type,optimizer_type,criterion_type,network_params=network_params,\\\n",
    "              optimizer_params=optimizer_params,train_params=train_params)\n",
    "\n",
    "cv(params)"
   ]
  },
  {
   "cell_type": "markdown",
   "metadata": {},
   "source": [
    "# Train full connnected"
   ]
  },
  {
   "cell_type": "code",
   "execution_count": 38,
   "metadata": {
    "collapsed": false
   },
   "outputs": [
    {
     "name": "stderr",
     "output_type": "stream",
     "text": [
      "  1%|          | 7/1000 [00:00<00:15, 64.51it/s]"
     ]
    },
    {
     "name": "stdout",
     "output_type": "stream",
     "text": [
      "FullConnect(\n",
      "  (sequential): Sequential(\n",
      "    (0): Flatten(\n",
      "    )\n",
      "    (1): Linear(in_features=1400, out_features=500, bias=True)\n",
      "    (2): BatchNorm1d(500, eps=1e-05, momentum=0.1, affine=True)\n",
      "    (3): ReLU()\n",
      "    (4): Dropout(p=0.8)\n",
      "    (5): Linear(in_features=500, out_features=100, bias=True)\n",
      "    (6): BatchNorm1d(100, eps=1e-05, momentum=0.1, affine=True)\n",
      "    (7): ReLU()\n",
      "    (8): Dropout(p=0.8)\n",
      "    (9): Linear(in_features=100, out_features=50, bias=True)\n",
      "    (10): BatchNorm1d(50, eps=1e-05, momentum=0.1, affine=True)\n",
      "    (11): ReLU()\n",
      "    (12): Dropout(p=0.8)\n",
      "    (13): Linear(in_features=50, out_features=2, bias=True)\n",
      "    (14): BatchNorm1d(2, eps=1e-05, momentum=0.1, affine=True)\n",
      "    (15): ReLU()\n",
      "    (16): Dropout(p=0)\n",
      "  )\n",
      ")\n"
     ]
    },
    {
     "name": "stderr",
     "output_type": "stream",
     "text": [
      "100%|██████████| 1000/1000 [00:15<00:00, 65.26it/s]\n",
      "100%|██████████| 1000/1000 [00:14<00:00, 67.81it/s]\n",
      "100%|██████████| 1000/1000 [00:15<00:00, 66.59it/s]\n",
      "100%|██████████| 1000/1000 [00:15<00:00, 66.58it/s]\n"
     ]
    },
    {
     "data": {
      "image/png": "[encoded data removed]",
      "text/plain": [
       "<matplotlib.figure.Figure at 0x7fb284544320>"
      ]
     },
     "metadata": {},
     "output_type": "display_data"
    },
    {
     "name": "stdout",
     "output_type": "stream",
     "text": [
      "Performance train: 0.194575949367\n",
      "Performance test: 0.33342\n"
     ]
    }
   ],
   "source": [
    "cv=CrossValidation(k=2,train_dataset=train_dataset,test_dataset=test_dataset,\n",
    "                   train_target=train_target,test_target=test_target,cuda=True)\n",
    "\n",
    "net_type=FullConnect\n",
    "optimizer_type=optim.Adam\n",
    "criterion_type=nn.CrossEntropyLoss\n",
    "#network_params=NetworkParams(conv_filters=[28,14,7,2],conv_kernels=[5,9,11,20],dropout_rate=[0.6,0.6,0,0],\\\n",
    " #                            stride=1,dilation=[3,1,1,1])\n",
    "network_params=NetworkParams(linear_filters=[500,100,50,2],conv1D=False)\n",
    "optimizer_params=OptimizerParams()\n",
    "train_params=TrainParams(max_epoch=1000,mini_batch_size=79)\n",
    "\n",
    "params=Params(net_type,optimizer_type,criterion_type,network_params=network_params,\\\n",
    "              optimizer_params=optimizer_params,train_params=train_params,cuda=True)\n",
    "\n",
    "cv(params, cross_validation=False, repetitions=1, repetitions_test=4)"
   ]
  },
  {
   "cell_type": "code",
   "execution_count": null,
   "metadata": {
    "collapsed": false
   },
   "outputs": [],
   "source": [
    "? nn.Conv1d"
   ]
  },
  {
   "cell_type": "code",
   "execution_count": null,
   "metadata": {
    "collapsed": false
   },
   "outputs": [],
   "source": [
    "list_diego=[1,2,3]\n",
    "list_rosa=[4,5,6]\n",
    "fiori=zip(list_diego,list_rosa)\n",
    "for i in fiori: print(i)"
   ]
  },
  {
   "cell_type": "code",
   "execution_count": null,
   "metadata": {
    "collapsed": true
   },
   "outputs": [],
   "source": [
    "? zip"
   ]
  },
  {
   "cell_type": "code",
   "execution_count": null,
   "metadata": {
    "collapsed": true
   },
   "outputs": [],
   "source": [
    "? nn.Conv2d"
   ]
  },
  {
   "cell_type": "code",
   "execution_count": null,
   "metadata": {
    "collapsed": true
   },
   "outputs": [],
   "source": []
  },
  {
   "cell_type": "code",
   "execution_count": null,
   "metadata": {
    "collapsed": true
   },
   "outputs": [],
   "source": []
  },
  {
   "cell_type": "code",
   "execution_count": null,
   "metadata": {
    "collapsed": true
   },
   "outputs": [],
   "source": []
  },
  {
   "cell_type": "code",
   "execution_count": null,
   "metadata": {
    "collapsed": true
   },
   "outputs": [],
   "source": []
  }
 ],
 "metadata": {
  "kernelspec": {
   "display_name": "Python 3",
   "language": "python",
   "name": "python3"
  },
  "language_info": {
   "codemirror_mode": {
    "name": "ipython",
    "version": 3
   },
   "file_extension": ".py",
   "mimetype": "text/x-python",
   "name": "python",
   "nbconvert_exporter": "python",
   "pygments_lexer": "ipython3",
   "version": "3.6.0"
  },
  "notify_time": "5"
 },
 "nbformat": 4,
 "nbformat_minor": 2
}
