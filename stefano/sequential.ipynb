{
 "cells": [
  {
   "cell_type": "markdown",
   "metadata": {},
   "source": [
    "In this notebook we will use the nn class **Sequential** to model a CNN"
   ]
  },
  {
   "cell_type": "markdown",
   "metadata": {},
   "source": [
    "We will use the single target network"
   ]
  },
  {
   "cell_type": "markdown",
   "metadata": {},
   "source": [
    "# Import"
   ]
  },
  {
   "cell_type": "code",
   "execution_count": 1,
   "metadata": {
    "collapsed": true
   },
   "outputs": [],
   "source": [
    "import torch\n",
    "import numpy as np\n",
    "import matplotlib.pyplot as plt\n",
    "from torch.autograd import Variable\n",
    "\n",
    "import torch.nn as nn\n",
    "import torch.nn.functional as F\n",
    "\n",
    "import torch.optim as optim"
   ]
  },
  {
   "cell_type": "code",
   "execution_count": 2,
   "metadata": {
    "collapsed": true
   },
   "outputs": [],
   "source": [
    "import load_script"
   ]
  },
  {
   "cell_type": "code",
   "execution_count": 3,
   "metadata": {
    "collapsed": true
   },
   "outputs": [],
   "source": [
    "%load_ext autoreload\n",
    "%autoreload 2"
   ]
  },
  {
   "cell_type": "markdown",
   "metadata": {},
   "source": [
    "# Loading the dataset"
   ]
  },
  {
   "cell_type": "code",
   "execution_count": 4,
   "metadata": {
    "collapsed": true
   },
   "outputs": [],
   "source": [
    "train_dataset,target=load_script.load_dataset(train=True,single_target=True)"
   ]
  },
  {
   "cell_type": "code",
   "execution_count": 5,
   "metadata": {
    "collapsed": true
   },
   "outputs": [],
   "source": [
    "test_dataset,test_target=load_script.load_dataset(train=False,single_target=True)"
   ]
  },
  {
   "cell_type": "markdown",
   "metadata": {},
   "source": [
    "# Added modules"
   ]
  },
  {
   "cell_type": "code",
   "execution_count": 33,
   "metadata": {
    "collapsed": true
   },
   "outputs": [],
   "source": [
    "class Flatten(nn.Module):\n",
    "    def forward(self, input):\n",
    "        return input.view(input.size(0), -1)"
   ]
  },
  {
   "cell_type": "markdown",
   "metadata": {},
   "source": [
    "# Defining the network"
   ]
  },
  {
   "cell_type": "markdown",
   "metadata": {},
   "source": [
    "### Single output"
   ]
  },
  {
   "cell_type": "code",
   "execution_count": 6,
   "metadata": {
    "collapsed": true
   },
   "outputs": [],
   "source": [
    "class SingleOutput(nn.Module):\n",
    "    def __init__(self):\n",
    "        super(SingleOutput,self).__init__()\n",
    "\n",
    "        self.conv1=nn.Conv1d(28,14,5)\n",
    "        self.full1=nn.Linear(14*46,100)\n",
    "        self.full2=nn.Linear(100,1)\n",
    "        \n",
    "    def forward(self,x):\n",
    "        x=F.max_pool1d(F.relu(self.conv1(x)),1)\n",
    "        x=x.view(-1)\n",
    "        x=F.relu(self.full1(x.view(-1,14*46)))\n",
    "        x=F.sigmoid(self.full2(x))\n",
    "        \n",
    "        return x"
   ]
  },
  {
   "cell_type": "markdown",
   "metadata": {},
   "source": [
    "# Sequential"
   ]
  },
  {
   "cell_type": "code",
   "execution_count": 47,
   "metadata": {
    "collapsed": true
   },
   "outputs": [],
   "source": [
    "class Sequential(nn.Module):\n",
    "    def __init__(self):\n",
    "        super(Sequential,self).__init__()\n",
    "        \n",
    "        layers=[]\n",
    "        layers.append(nn.Conv1d(28,14,5))\n",
    "        layers.append(nn.ReLU())\n",
    "        layers.append(nn.MaxPool1d(1))\n",
    "        layers.append(Flatten())\n",
    "        layers.append(nn.Linear(14*46,100))\n",
    "        layers.append(nn.ReLU())\n",
    "        layers.append(nn.Linear(100,1))\n",
    "        layers.append(nn.Sigmoid())\n",
    "        \n",
    "        self.sequential=nn.Sequential(*layers)\n",
    "        \n",
    "    def forward(self,x):\n",
    "        x=self.sequential(x)\n",
    "        \n",
    "        return x"
   ]
  },
  {
   "cell_type": "markdown",
   "metadata": {},
   "source": [
    "# Training"
   ]
  },
  {
   "cell_type": "code",
   "execution_count": 49,
   "metadata": {
    "scrolled": true
   },
   "outputs": [
    {
     "name": "stdout",
     "output_type": "stream",
     "text": [
      "Epoch: 0 Loss: 104.91785176397434 Correct: 50.31% Correct test: 49.0%\n",
      "Epoch: 10 Loss: 62.78841317223214 Correct: 71.51% Correct test: 50.0%\n",
      "Epoch: 20 Loss: 47.444731049294205 Correct: 83.22% Correct test: 57.0%\n",
      "Epoch: 30 Loss: 36.23769949478174 Correct: 90.18% Correct test: 59.0%\n",
      "Epoch: 40 Loss: 27.211828998774763 Correct: 93.98% Correct test: 62.0%\n",
      "Epoch: 50 Loss: 20.21680698651562 Correct: 95.25% Correct test: 62.0%\n",
      "Epoch: 60 Loss: 14.899908392814666 Correct: 97.15% Correct test: 63.0%\n"
     ]
    },
    {
     "ename": "KeyboardInterrupt",
     "evalue": "",
     "output_type": "error",
     "traceback": [
      "\u001b[0;31m---------------------------------------------------------------------------\u001b[0m",
      "\u001b[0;31mKeyboardInterrupt\u001b[0m                         Traceback (most recent call last)",
      "\u001b[0;32m<ipython-input-49-9ca1b6fe0bc9>\u001b[0m in \u001b[0;36m<module>\u001b[0;34m()\u001b[0m\n\u001b[1;32m     28\u001b[0m         \u001b[0mloss\u001b[0m\u001b[0;34m.\u001b[0m\u001b[0mbackward\u001b[0m\u001b[0;34m(\u001b[0m\u001b[0;34m)\u001b[0m\u001b[0;34m\u001b[0m\u001b[0m\n\u001b[1;32m     29\u001b[0m         \u001b[0moptimizer\u001b[0m\u001b[0;34m.\u001b[0m\u001b[0mstep\u001b[0m\u001b[0;34m(\u001b[0m\u001b[0;34m)\u001b[0m\u001b[0;34m\u001b[0m\u001b[0m\n\u001b[0;32m---> 30\u001b[0;31m         \u001b[0mtotal_loss\u001b[0m\u001b[0;34m+=\u001b[0m\u001b[0mloss\u001b[0m\u001b[0;34m.\u001b[0m\u001b[0mdata\u001b[0m\u001b[0;34m[\u001b[0m\u001b[0;36m0\u001b[0m\u001b[0;34m]\u001b[0m\u001b[0;34m\u001b[0m\u001b[0m\n\u001b[0m\u001b[1;32m     31\u001b[0m \u001b[0;34m\u001b[0m\u001b[0m\n\u001b[1;32m     32\u001b[0m     \u001b[0moutput_test\u001b[0m\u001b[0;34m=\u001b[0m\u001b[0mtorch\u001b[0m\u001b[0;34m.\u001b[0m\u001b[0mzeros\u001b[0m\u001b[0;34m(\u001b[0m\u001b[0mtest_target\u001b[0m\u001b[0;34m.\u001b[0m\u001b[0mshape\u001b[0m\u001b[0;34m[\u001b[0m\u001b[0;36m0\u001b[0m\u001b[0;34m]\u001b[0m\u001b[0;34m)\u001b[0m\u001b[0;34m\u001b[0m\u001b[0m\n",
      "\u001b[0;31mKeyboardInterrupt\u001b[0m: "
     ]
    }
   ],
   "source": [
    "net=Sequential()\n",
    "\n",
    "optimizer = optim.SGD(net.parameters(), lr=0.0001)\n",
    "criterion=nn.MSELoss()\n",
    "mini_batch_size=1\n",
    "\n",
    "for epoch in range(1001):\n",
    "    \n",
    "    total_loss=0\n",
    "    output_target=torch.zeros(target.shape[0])\n",
    "    for b in range(0,train_dataset.shape[0],mini_batch_size):\n",
    "        \n",
    "        \n",
    "        train_element=train_dataset.narrow(0,b,mini_batch_size)\n",
    "#         train_element=train_element.view(1,28,-1)\n",
    "        \n",
    "        target_element=target.narrow(0,b,mini_batch_size)\n",
    "        \n",
    "        optimizer.zero_grad()\n",
    "        \n",
    "#         print(train_element.shape)\n",
    "\n",
    "        out=net(train_element)\n",
    "        output_target[b:b+mini_batch_size]=(out>0.5).data\n",
    "#         print(out)\n",
    "#         print(target_element)\n",
    "        loss=criterion(out,target_element)\n",
    "        loss.backward()\n",
    "        optimizer.step()\n",
    "        total_loss+=loss.data[0]\n",
    "        \n",
    "    output_test=torch.zeros(test_target.shape[0])\n",
    "    out=net(test_dataset)\n",
    "#         print(out)\n",
    "    output_test=(out>0.5).data.type(torch.FloatTensor)\n",
    "        \n",
    "    \n",
    "#     print(type(output_test))\n",
    "        \n",
    "    error_train=np.sum(list(output_target==target.data))/target.shape[0]\n",
    "    error_test=np.sum(list(output_test[:,0]==test_target.data))/test_target.shape[0]\n",
    "    if epoch%10==0:\n",
    "        print('Epoch:',epoch,'Loss:',total_loss,'Correct:',str(error_train*100)[:5]+\"%\",\n",
    "             'Correct test:',str(error_test*100)[:5]+\"%\")"
   ]
  },
  {
   "cell_type": "code",
   "execution_count": null,
   "metadata": {
    "collapsed": true
   },
   "outputs": [],
   "source": []
  }
 ],
 "metadata": {
  "kernelspec": {
   "display_name": "Python 3",
   "language": "python",
   "name": "python3"
  },
  "language_info": {
   "codemirror_mode": {
    "name": "ipython",
    "version": 3
   },
   "file_extension": ".py",
   "mimetype": "text/x-python",
   "name": "python",
   "nbconvert_exporter": "python",
   "pygments_lexer": "ipython3",
   "version": "3.6.1"
  }
 },
 "nbformat": 4,
 "nbformat_minor": 2
}
