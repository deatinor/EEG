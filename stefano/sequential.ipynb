{
 "cells": [
  {
   "cell_type": "markdown",
   "metadata": {},
   "source": [
    "In this notebook we will use the nn class **Sequential** to model a CNN"
   ]
  },
  {
   "cell_type": "markdown",
   "metadata": {},
   "source": [
    "We will use the single target network"
   ]
  },
  {
   "cell_type": "markdown",
   "metadata": {},
   "source": [
    "# Import"
   ]
  },
  {
   "cell_type": "code",
   "execution_count": 1,
   "metadata": {
    "ExecuteTime": {
     "end_time": "2018-04-29T15:45:48.039674Z",
     "start_time": "2018-04-29T15:45:46.586434Z"
    },
    "collapsed": true
   },
   "outputs": [],
   "source": [
    "import torch\n",
    "import numpy as np\n",
    "import matplotlib.pyplot as plt\n",
    "from torch.autograd import Variable\n",
    "\n",
    "import torch.nn as nn\n",
    "import torch.nn.functional as F\n",
    "\n",
    "import torch.optim as optim\n",
    "\n",
    "from tqdm import tqdm"
   ]
  },
  {
   "cell_type": "code",
   "execution_count": 2,
   "metadata": {
    "ExecuteTime": {
     "end_time": "2018-04-29T15:45:48.063733Z",
     "start_time": "2018-04-29T15:45:48.042443Z"
    },
    "collapsed": true
   },
   "outputs": [],
   "source": [
    "import load_script"
   ]
  },
  {
   "cell_type": "code",
   "execution_count": 3,
   "metadata": {
    "ExecuteTime": {
     "end_time": "2018-04-29T15:45:48.086364Z",
     "start_time": "2018-04-29T15:45:48.065870Z"
    }
   },
   "outputs": [],
   "source": [
    "%load_ext autoreload\n",
    "%autoreload 2"
   ]
  },
  {
   "cell_type": "markdown",
   "metadata": {},
   "source": [
    "# Loading the dataset"
   ]
  },
  {
   "cell_type": "code",
   "execution_count": 4,
   "metadata": {
    "ExecuteTime": {
     "end_time": "2018-04-29T15:45:48.583592Z",
     "start_time": "2018-04-29T15:45:48.088414Z"
    },
    "collapsed": true
   },
   "outputs": [],
   "source": [
    "train_dataset,target=load_script.load_dataset(train=True)"
   ]
  },
  {
   "cell_type": "code",
   "execution_count": 5,
   "metadata": {
    "ExecuteTime": {
     "end_time": "2018-04-29T15:45:48.754805Z",
     "start_time": "2018-04-29T15:45:48.585273Z"
    },
    "collapsed": true
   },
   "outputs": [],
   "source": [
    "test_dataset,test_target=load_script.load_dataset(train=False)"
   ]
  },
  {
   "cell_type": "code",
   "execution_count": 6,
   "metadata": {
    "ExecuteTime": {
     "end_time": "2018-04-29T15:45:48.768848Z",
     "start_time": "2018-04-29T15:45:48.756513Z"
    },
    "collapsed": true
   },
   "outputs": [],
   "source": [
    "target=target.long()\n",
    "test_target=test_target.long()"
   ]
  },
  {
   "cell_type": "markdown",
   "metadata": {},
   "source": [
    "# Added modules"
   ]
  },
  {
   "cell_type": "code",
   "execution_count": 7,
   "metadata": {
    "ExecuteTime": {
     "end_time": "2018-04-29T15:45:48.783664Z",
     "start_time": "2018-04-29T15:45:48.770418Z"
    },
    "collapsed": true
   },
   "outputs": [],
   "source": [
    "class Flatten(nn.Module):\n",
    "    def forward(self, input):\n",
    "        return input.view(input.size(0), -1)"
   ]
  },
  {
   "cell_type": "code",
   "execution_count": 8,
   "metadata": {
    "ExecuteTime": {
     "end_time": "2018-04-29T15:45:48.798360Z",
     "start_time": "2018-04-29T15:45:48.785171Z"
    },
    "collapsed": true
   },
   "outputs": [],
   "source": [
    "class Tensor4D(nn.Module):\n",
    "    def forward(self,input):\n",
    "        return input.view(input.shape[0],1,*input.shape[1:])"
   ]
  },
  {
   "cell_type": "code",
   "execution_count": 9,
   "metadata": {
    "ExecuteTime": {
     "end_time": "2018-04-29T15:45:48.812756Z",
     "start_time": "2018-04-29T15:45:48.799877Z"
    },
    "collapsed": true
   },
   "outputs": [],
   "source": [
    "class Tensor3D(nn.Module):\n",
    "    def forward(self,input):\n",
    "        return input.view(input.shape[0],input.shape[1],-1)"
   ]
  },
  {
   "cell_type": "markdown",
   "metadata": {},
   "source": [
    "# Normalization"
   ]
  },
  {
   "cell_type": "code",
   "execution_count": 10,
   "metadata": {
    "ExecuteTime": {
     "end_time": "2018-04-29T15:45:48.828631Z",
     "start_time": "2018-04-29T15:45:48.814246Z"
    }
   },
   "outputs": [
    {
     "data": {
      "text/plain": [
       "Variable containing:\n",
       " 7.3101e+01  7.3109e+01  7.2001e+01  ...   6.4324e+01  6.5037e+01  6.5048e+01\n",
       " 5.0706e+00  5.9728e+00  4.1829e+00  ...  -3.1212e+00 -2.7500e+00 -2.3117e+00\n",
       " 5.3022e+01  5.3706e+01  5.2293e+01  ...   4.5319e+01  4.5553e+01  4.6292e+01\n",
       "                ...                   ⋱                   ...                \n",
       " 1.3597e+01  1.3734e+01  1.3298e+01  ...   1.0306e+01  1.0556e+01  1.0504e+01\n",
       " 2.3973e+01  2.3983e+01  2.2980e+01  ...   2.2531e+01  2.2226e+01  2.2265e+01\n",
       " 9.5851e+00  9.5892e+00  8.4953e+00  ...   8.9079e+00  9.0392e+00  8.8203e+00\n",
       "[torch.FloatTensor of size 28x50]"
      ]
     },
     "execution_count": 10,
     "metadata": {},
     "output_type": "execute_result"
    }
   ],
   "source": [
    "train_dataset.mean(0)"
   ]
  },
  {
   "cell_type": "code",
   "execution_count": 11,
   "metadata": {
    "ExecuteTime": {
     "end_time": "2018-04-29T15:45:49.133752Z",
     "start_time": "2018-04-29T15:45:49.109222Z"
    },
    "collapsed": true
   },
   "outputs": [],
   "source": [
    "mean=train_dataset.mean(0).view(1,28,-1)\n",
    "std=train_dataset.std(0).view(1,28,-1)"
   ]
  },
  {
   "cell_type": "code",
   "execution_count": 12,
   "metadata": {
    "ExecuteTime": {
     "end_time": "2018-04-29T15:45:49.557152Z",
     "start_time": "2018-04-29T15:45:49.525799Z"
    },
    "collapsed": true,
    "scrolled": true
   },
   "outputs": [],
   "source": [
    "train_dataset=(train_dataset-mean)/std\n",
    "test_dataset=(test_dataset-mean)/std"
   ]
  },
  {
   "cell_type": "markdown",
   "metadata": {},
   "source": [
    "# Defining the network"
   ]
  },
  {
   "cell_type": "markdown",
   "metadata": {},
   "source": [
    "### Single output"
   ]
  },
  {
   "cell_type": "code",
   "execution_count": 13,
   "metadata": {
    "ExecuteTime": {
     "end_time": "2018-04-29T15:45:50.068451Z",
     "start_time": "2018-04-29T15:45:50.031933Z"
    },
    "collapsed": true
   },
   "outputs": [],
   "source": [
    "class SingleOutput(nn.Module):\n",
    "    def __init__(self):\n",
    "        super(SingleOutput,self).__init__()\n",
    "\n",
    "        self.conv1=nn.Conv1d(28,14,5)\n",
    "        self.full1=nn.Linear(14*46,100)\n",
    "        self.full2=nn.Linear(100,1)\n",
    "        \n",
    "    def forward(self,x):\n",
    "        x=F.max_pool1d(F.relu(self.conv1(x)),1)\n",
    "        x=x.view(-1)\n",
    "        x=F.relu(self.full1(x.view(-1,14*46)))\n",
    "        x=F.sigmoid(self.full2(x))\n",
    "        \n",
    "        return x"
   ]
  },
  {
   "cell_type": "markdown",
   "metadata": {},
   "source": [
    "### Sequential"
   ]
  },
  {
   "cell_type": "code",
   "execution_count": 14,
   "metadata": {
    "ExecuteTime": {
     "end_time": "2018-04-29T15:45:50.669735Z",
     "start_time": "2018-04-29T15:45:50.646798Z"
    },
    "collapsed": true
   },
   "outputs": [],
   "source": [
    "# 50 -> 48 -> 24 -> 20 -> 10"
   ]
  },
  {
   "cell_type": "code",
   "execution_count": 15,
   "metadata": {
    "ExecuteTime": {
     "end_time": "2018-04-29T15:45:50.813978Z",
     "start_time": "2018-04-29T15:45:50.770703Z"
    },
    "collapsed": true
   },
   "outputs": [],
   "source": [
    "class Sequential(nn.Module):\n",
    "    def __init__(self):\n",
    "        super(Sequential,self).__init__()\n",
    "        \n",
    "        layers=[]\n",
    "        layers.append(nn.Conv1d(28,28,3))\n",
    "        layers.append(nn.ReLU())\n",
    "        layers.append(nn.MaxPool1d(2))\n",
    "        layers.append(nn.Conv1d(28,28,5))\n",
    "        layers.append(nn.ReLU())\n",
    "        layers.append(nn.MaxPool1d(2))\n",
    "        layers.append(nn.Conv1d(28,28,5))\n",
    "        layers.append(nn.ReLU())\n",
    "        layers.append(nn.MaxPool1d(2))\n",
    "        layers.append(Flatten())\n",
    "        layers.append(nn.Linear(28*3,200))\n",
    "        layers.append(nn.ReLU())\n",
    "#         layers.append(nn.Linear(200,20))\n",
    "#         layers.append(nn.ReLU())\n",
    "        layers.append(nn.Linear(200,2))\n",
    "#         layers.append(nn.Sigmoid())\n",
    "        \n",
    "        self.sequential=nn.Sequential(*layers)\n",
    "        \n",
    "    def forward(self,x):\n",
    "        x=self.sequential(x)\n",
    "        \n",
    "        return x"
   ]
  },
  {
   "cell_type": "markdown",
   "metadata": {},
   "source": [
    "### Convolution 2d"
   ]
  },
  {
   "cell_type": "code",
   "execution_count": 16,
   "metadata": {
    "ExecuteTime": {
     "end_time": "2018-04-29T15:45:51.693231Z",
     "start_time": "2018-04-29T15:45:51.612559Z"
    },
    "collapsed": true
   },
   "outputs": [],
   "source": [
    "class CNN2D(nn.Module):\n",
    "    def __init__(self):\n",
    "        super(CNN2D,self).__init__()\n",
    "        \n",
    "        # 28*50\n",
    "        layers=[]\n",
    "        layers.append(nn.Conv1d(28,28,3))\n",
    "        layers.append(nn.ReLU())\n",
    "        layers.append(nn.MaxPool1d(2))\n",
    "        \n",
    "        # Dropout\n",
    "        layers.append(nn.Dropout(0.8))\n",
    "        \n",
    "        # 28*24\n",
    "        layers.append(nn.Conv1d(28,28,5))\n",
    "        layers.append(nn.ReLU())\n",
    "        layers.append(nn.MaxPool1d(2))\n",
    "        \n",
    "        # Dropout\n",
    "        layers.append(nn.Dropout(0.8))\n",
    "        \n",
    "        # 28*10\n",
    "        layers.append(Tensor4D())\n",
    "        layers.append(nn.Conv2d(1,10,5))\n",
    "        # 10*24*6\n",
    "        layers.append(Tensor3D())\n",
    "        # 10*144\n",
    "        layers.append(nn.ReLU())\n",
    "        layers.append(nn.MaxPool1d(2))\n",
    "        # 10*72\n",
    "        \n",
    "        # Dropout\n",
    "        layers.append(nn.Dropout(0.8))\n",
    "        \n",
    "        layers.append(Flatten())\n",
    "        layers.append(nn.Linear(10*72,200))\n",
    "        layers.append(nn.ReLU())\n",
    "        \n",
    "        # Dropout\n",
    "        layers.append(nn.Dropout(0.8))\n",
    "        \n",
    "        layers.append(nn.Linear(200,20))\n",
    "        layers.append(nn.ReLU())\n",
    "        \n",
    "        # Dropout\n",
    "        layers.append(nn.Dropout(0.8))\n",
    "        \n",
    "        layers.append(nn.Linear(20,2))        \n",
    "        \n",
    "        self.sequential=nn.Sequential(*layers)\n",
    "        \n",
    "    def forward(self,x):\n",
    "        x=self.sequential(x)\n",
    "        \n",
    "        return x"
   ]
  },
  {
   "cell_type": "markdown",
   "metadata": {},
   "source": [
    "### Simple Network"
   ]
  },
  {
   "cell_type": "code",
   "execution_count": 17,
   "metadata": {
    "ExecuteTime": {
     "end_time": "2018-04-29T15:55:20.996042Z",
     "start_time": "2018-04-29T15:55:20.964306Z"
    },
    "collapsed": true
   },
   "outputs": [],
   "source": [
    "class MyConv1D:\n",
    "    def __init__(self,input_channels,output_channels,kernel,dropout_rate=0.8):\n",
    "        self.conv=nn.Conv1d(input_channels,output_channels,kernel)\n",
    "        self.relu=nn.ReLU()\n",
    "        self.batch_norm=nn.BatchNorm1d(output_channels)\n",
    "        self.dropout=nn.Dropout(dropout_rate)\n",
    "        self._layers=[self.conv,self.relu,self.batch_norm,self.dropout]\n",
    "    \n",
    "    @property\n",
    "    def layers(self):\n",
    "        return self._layers"
   ]
  },
  {
   "cell_type": "code",
   "execution_count": 18,
   "metadata": {
    "ExecuteTime": {
     "end_time": "2018-04-29T15:56:25.312502Z",
     "start_time": "2018-04-29T15:56:25.266317Z"
    },
    "collapsed": true
   },
   "outputs": [],
   "source": [
    "class Simple(nn.Module):\n",
    "    def __init__(self):\n",
    "        super(Simple,self).__init__()\n",
    "        \n",
    "        layers=[]\n",
    "        layers+=MyConv1D(28,28,3,0.8).layers\n",
    "#         layers+=MyConv1D(28,28,5,0.8).layers\n",
    "#         layers+=MyConv1D(28,28,5,0.8).layers\n",
    "        \n",
    "        layers.append(Flatten())\n",
    "        layers.append(nn.Linear(28*48,200))\n",
    "        layers.append(nn.ReLU())\n",
    "        \n",
    "        layers.append(nn.Linear(200,2))\n",
    "        \n",
    "        self.sequential=nn.Sequential(*layers)\n",
    "        \n",
    "    def forward(self,x):\n",
    "        x=self.sequential(x)\n",
    "        \n",
    "        return x"
   ]
  },
  {
   "cell_type": "markdown",
   "metadata": {},
   "source": [
    "# Training"
   ]
  },
  {
   "cell_type": "code",
   "execution_count": 19,
   "metadata": {
    "ExecuteTime": {
     "end_time": "2018-04-29T15:56:26.834592Z",
     "start_time": "2018-04-29T15:56:26.763379Z"
    },
    "collapsed": true
   },
   "outputs": [],
   "source": [
    "def train_network(network,optimizer,verbose=False):\n",
    "    \n",
    "    criterion=nn.CrossEntropyLoss()\n",
    "    mini_batch_size=79\n",
    "\n",
    "    errors_test=[]\n",
    "    for epoch in range(1001):\n",
    "\n",
    "        total_loss=0\n",
    "        output_target=torch.zeros(target.shape[0])\n",
    "        for b in range(0,train_dataset.shape[0],mini_batch_size):\n",
    "\n",
    "\n",
    "            train_element=train_dataset.narrow(0,b,mini_batch_size)\n",
    "\n",
    "            target_element=target.narrow(0,b,mini_batch_size)\n",
    "\n",
    "            optimizer.zero_grad()\n",
    "\n",
    "\n",
    "            out=net(train_element)\n",
    "            output_target[b:b+mini_batch_size]=(out[:,1]>out[:,0]).data\n",
    "\n",
    "            loss=criterion(out,target_element)\n",
    "            loss.backward()\n",
    "            optimizer.step()\n",
    "            total_loss+=loss.data[0]\n",
    "\n",
    "        output_test=torch.zeros(test_target.shape[0])\n",
    "        out=net(test_dataset)\n",
    "        output_test=(out[:,1]>out[:,0]).data.long()\n",
    "\n",
    "\n",
    "    #     print(type(output_test))\n",
    "\n",
    "        error_train=np.sum(list(output_target.long()==target.data))/target.shape[0]\n",
    "        error_test=np.sum(list(output_test==test_target.data))/test_target.shape[0]\n",
    "        errors_test.append(error_test)\n",
    "        if epoch%10==0 and verbose:\n",
    "            print('Epoch:',epoch,'Loss:',total_loss,'Correct:',str(error_train*100)[:5]+\"%\",\n",
    "                 'Correct test:',str(error_test*100)[:5]+\"%\")\n",
    "        if error_train>0.995:# or (epoch>80 and np.abs(np.mean(errors_test[-80:])-np.mean(errors_test[-25:]))<0.01):\n",
    "            return epoch,np.max(errors_test)\n",
    "        \n",
    "    return epoch,np.max(errors_test)"
   ]
  },
  {
   "cell_type": "code",
   "execution_count": 25,
   "metadata": {
    "ExecuteTime": {
     "end_time": "2018-04-29T15:56:27.249573Z",
     "start_time": "2018-04-29T15:56:27.073138Z"
    },
    "collapsed": true
   },
   "outputs": [],
   "source": [
    "class Train:\n",
    "    \n",
    "    def __init__(self,network,optimizer,verbose=False,weights_initialization=0.01,\n",
    "                mini_batch_size=79,\n",
    "                criterion=nn.CrossEntropyLoss(),\n",
    "                max_epoch=1000,\n",
    "                randomize_training_dataset=True,plot=False):\n",
    "        self.network=network\n",
    "        self.optimizer=optimizer\n",
    "        self.verbose=verbose\n",
    "        self.weights_initialization=weights_initialization\n",
    "        self.criterion=criterion\n",
    "        self.mini_batch_size=mini_batch_size\n",
    "        self.max_epoch=max_epoch\n",
    "        self.randomize_training_dataset=randomize_training_dataset\n",
    "        self.plot=plot\n",
    "        \n",
    "    def __call__(self,repetitions=5):\n",
    "        epochs=[]\n",
    "        errors=[]\n",
    "        for i in range(repetitions):\n",
    "            for param in net.parameters():\n",
    "                param.data.normal_(0, self.weights_initialization)\n",
    "            print('Repetition',i)\n",
    "            epoch,error=self.train_network(self.network,self.optimizer,verbose=self.verbose,plot=self.plot)\n",
    "            epochs.append(epoch)\n",
    "            errors.append(error)\n",
    "        \n",
    "        return epochs,errors\n",
    "    \n",
    "    \n",
    "    def train_network(self,network,optimizer,randomize_training_dataset=True,\n",
    "                      verbose=False,plot=False):\n",
    "    \n",
    "        errors_train=[]\n",
    "        errors_test=[]\n",
    "        for epoch in tqdm(range(self.max_epoch)):\n",
    "            if self.randomize_training_dataset:\n",
    "                random_permutation=torch.randperm(train_dataset.shape[0])\n",
    "            else:\n",
    "                random_permutation=torch.arange(train_dataset.shape[0])\n",
    "                \n",
    "            train_dataset_shuffled=train_dataset[random_permutation]\n",
    "            target_shuffled=target[random_permutation]\n",
    "            total_loss,output_target=self.run_epoch(train_dataset_shuffled,target_shuffled)\n",
    "#             total_loss,output_target=self.run_epoch(train_dataset,target)\n",
    "\n",
    "            output_test=torch.zeros(test_target.shape[0])\n",
    "            out=net(test_dataset)\n",
    "            output_test=(out[:,1]>out[:,0]).data.long()\n",
    "\n",
    "\n",
    "\n",
    "            error_train=np.sum(list(output_target.long()==target_shuffled.data))/target.shape[0]\n",
    "            error_test=np.sum(list(output_test==test_target.data))/test_target.shape[0]\n",
    "            errors_train.append(error_train)\n",
    "            errors_test.append(error_test)\n",
    "            \n",
    "            if epoch%10==0 and verbose:\n",
    "                print('Epoch:',epoch,'Loss:',total_loss,'Correct:',str(error_train*100)[:5]+\"%\",\n",
    "                     'Correct test:',str(error_test*100)[:5]+\"%\")\n",
    "                \n",
    "#             if error_train>0.995:# or (epoch>150 and np.abs(np.mean(errors_train[-80:])-np.mean(errors_train[-25:]))<0.005):\n",
    "#                 return epoch,np.max(errors_test)\n",
    "        if plot:\n",
    "            \n",
    "            print('Performance:',np.mean(errors_test[300:]))\n",
    "            plt.plot(list(range(epoch+1)),errors_train,label='Errors train')\n",
    "            plt.plot(list(range(epoch+1)) ,errors_test,label='Errors test')\n",
    "            \n",
    "            plt.legend()\n",
    "            plt.show()\n",
    "                 \n",
    "        return epoch,np.max(errors_test)\n",
    "    \n",
    "    def run_epoch(self,train_dataset,target):\n",
    "        total_loss=0\n",
    "        output_target=torch.zeros(target.shape[0])\n",
    "        \n",
    "        for b in range(0,train_dataset.shape[0],self.mini_batch_size):\n",
    "\n",
    "            train_element=train_dataset.narrow(0,b,self.mini_batch_size)\n",
    "            target_element=target.narrow(0,b,self.mini_batch_size)\n",
    "\n",
    "            self.optimizer.zero_grad()\n",
    "\n",
    "            out=net(train_element)\n",
    "            output_target[b:b+self.mini_batch_size]=(out[:,1]>out[:,0]).data\n",
    "\n",
    "            loss=self.criterion(out,target_element)\n",
    "            loss.backward()\n",
    "            self.optimizer.step()\n",
    "            total_loss+=loss.data[0]\n",
    "            \n",
    "        return total_loss,output_target"
   ]
  },
  {
   "cell_type": "code",
   "execution_count": null,
   "metadata": {
    "ExecuteTime": {
     "start_time": "2018-04-29T15:56:27.356Z"
    },
    "scrolled": false
   },
   "outputs": [
    {
     "name": "stderr",
     "output_type": "stream",
     "text": [
      "  0%|          | 2/1000 [00:00<00:54, 18.17it/s]"
     ]
    },
    {
     "name": "stdout",
     "output_type": "stream",
     "text": [
      "Weight 0.02\n",
      "Repetition 0\n"
     ]
    },
    {
     "name": "stderr",
     "output_type": "stream",
     "text": [
      "100%|██████████| 1000/1000 [00:42<00:00, 23.37it/s]\n"
     ]
    },
    {
     "name": "stdout",
     "output_type": "stream",
     "text": [
      "Performance: 0.747985714286\n"
     ]
    },
    {
     "data": {
      "image/png": "[encoded data removed]",
      "text/plain": [
       "<matplotlib.figure.Figure at 0x112cb4ef0>"
      ]
     },
     "metadata": {},
     "output_type": "display_data"
    },
    {
     "name": "stderr",
     "output_type": "stream",
     "text": [
      "  0%|          | 3/1000 [00:00<00:47, 21.15it/s]"
     ]
    },
    {
     "name": "stdout",
     "output_type": "stream",
     "text": [
      "Repetition 1\n"
     ]
    },
    {
     "name": "stderr",
     "output_type": "stream",
     "text": [
      "100%|██████████| 1000/1000 [00:44<00:00, 22.41it/s]\n"
     ]
    },
    {
     "name": "stdout",
     "output_type": "stream",
     "text": [
      "Performance: 0.718585714286\n"
     ]
    },
    {
     "data": {
      "image/png": "[encoded data removed]",
      "text/plain": [
       "<matplotlib.figure.Figure at 0x1133a2c50>"
      ]
     },
     "metadata": {},
     "output_type": "display_data"
    },
    {
     "name": "stderr",
     "output_type": "stream",
     "text": [
      "\r",
      "  0%|          | 0/1000 [00:00<?, ?it/s]"
     ]
    },
    {
     "name": "stdout",
     "output_type": "stream",
     "text": [
      "Repetition 2\n"
     ]
    },
    {
     "name": "stderr",
     "output_type": "stream",
     "text": [
      " 75%|███████▍  | 746/1000 [00:36<00:12, 20.33it/s]"
     ]
    }
   ],
   "source": [
    "net=Simple()\n",
    "optimizer = optim.Adam(net.parameters(), lr=0.001,weight_decay=0)\n",
    "\n",
    "weight_dict={}\n",
    "for weight in [0.02]:\n",
    "    print('Weight',weight)\n",
    "    train=Train(net,optimizer,weights_initialization=weight,verbose=False,plot=True,max_epoch=1000)\n",
    "    \n",
    "    weight_dict[weight]=train()\n",
    "    print(weight_dict[weight])\n"
   ]
  },
  {
   "cell_type": "code",
   "execution_count": null,
   "metadata": {
    "collapsed": true
   },
   "outputs": [],
   "source": []
  },
  {
   "cell_type": "code",
   "execution_count": null,
   "metadata": {
    "collapsed": true
   },
   "outputs": [],
   "source": []
  },
  {
   "cell_type": "code",
   "execution_count": null,
   "metadata": {
    "collapsed": true
   },
   "outputs": [],
   "source": []
  },
  {
   "cell_type": "code",
   "execution_count": null,
   "metadata": {
    "collapsed": true
   },
   "outputs": [],
   "source": []
  },
  {
   "cell_type": "code",
   "execution_count": 15,
   "metadata": {
    "ExecuteTime": {
     "end_time": "2018-04-29T13:21:18.107249Z",
     "start_time": "2018-04-29T13:20:48.222765Z"
    },
    "scrolled": true
   },
   "outputs": [
    {
     "name": "stdout",
     "output_type": "stream",
     "text": [
      "Epoch: 0 Loss: 2.826216459274292 Correct: 41.77% Correct test: 53.0%\n",
      "Epoch: 10 Loss: 2.613489508628845 Correct: 65.50% Correct test: 52.0%\n",
      "Epoch: 20 Loss: 2.4392541646957397 Correct: 69.93% Correct test: 56.0%\n",
      "Epoch: 30 Loss: 2.2193009853363037 Correct: 74.05% Correct test: 55.0%\n",
      "Epoch: 40 Loss: 1.9510942995548248 Correct: 78.79% Correct test: 57.0%\n",
      "Epoch: 50 Loss: 1.6690470576286316 Correct: 83.54% Correct test: 61.0%\n",
      "Epoch: 60 Loss: 1.3851625621318817 Correct: 87.65% Correct test: 58.0%\n",
      "Epoch: 70 Loss: 1.115644097328186 Correct: 91.77% Correct test: 57.0%\n",
      "Epoch: 80 Loss: 0.8598392009735107 Correct: 94.62% Correct test: 57.0%\n",
      "Epoch: 90 Loss: 0.6713583469390869 Correct: 95.56% Correct test: 55.0%\n",
      "Epoch: 100 Loss: 0.5844872444868088 Correct: 95.88% Correct test: 57.0%\n",
      "Epoch: 110 Loss: 0.36556436121463776 Correct: 99.05% Correct test: 61.0%\n",
      "Epoch: 120 Loss: 0.2529432997107506 Correct: 99.68% Correct test: 62.0%\n",
      "Epoch: 130 Loss: 0.193000216037035 Correct: 100.0% Correct test: 62.0%\n",
      "Epoch: 140 Loss: 0.1373022347688675 Correct: 100.0% Correct test: 62.0%\n",
      "Epoch: 150 Loss: 0.10262885130941868 Correct: 100.0% Correct test: 62.0%\n",
      "Epoch: 160 Loss: 0.07761173602193594 Correct: 100.0% Correct test: 63.0%\n",
      "Epoch: 170 Loss: 0.06018909625709057 Correct: 100.0% Correct test: 63.0%\n",
      "Epoch: 180 Loss: 0.04776491038501263 Correct: 100.0% Correct test: 63.0%\n",
      "Epoch: 190 Loss: 0.03863748628646135 Correct: 100.0% Correct test: 62.0%\n",
      "Epoch: 200 Loss: 0.03137176902964711 Correct: 100.0% Correct test: 63.0%\n",
      "Epoch: 210 Loss: 0.026137457229197025 Correct: 100.0% Correct test: 63.0%\n",
      "Epoch: 220 Loss: 0.0220287861302495 Correct: 100.0% Correct test: 64.0%\n",
      "Epoch: 230 Loss: 0.01878658914938569 Correct: 100.0% Correct test: 64.0%\n",
      "Epoch: 240 Loss: 0.016142523381859064 Correct: 100.0% Correct test: 64.0%\n",
      "Epoch: 250 Loss: 0.014019876485690475 Correct: 100.0% Correct test: 64.0%\n",
      "Epoch: 260 Loss: 0.012247591046616435 Correct: 100.0% Correct test: 64.0%\n",
      "Epoch: 270 Loss: 0.010817408561706543 Correct: 100.0% Correct test: 64.0%\n",
      "Epoch: 280 Loss: 0.009632239816710353 Correct: 100.0% Correct test: 64.0%\n",
      "Epoch: 290 Loss: 0.00851328601129353 Correct: 100.0% Correct test: 64.0%\n",
      "Epoch: 300 Loss: 0.00761965592391789 Correct: 100.0% Correct test: 64.0%\n",
      "Epoch: 310 Loss: 0.006813139072619379 Correct: 100.0% Correct test: 64.0%\n",
      "Epoch: 320 Loss: 0.0061467664781957865 Correct: 100.0% Correct test: 64.0%\n",
      "Epoch: 330 Loss: 0.005568064632825553 Correct: 100.0% Correct test: 64.0%\n",
      "Epoch: 340 Loss: 0.005057311966083944 Correct: 100.0% Correct test: 64.0%\n",
      "Epoch: 350 Loss: 0.004610154661349952 Correct: 100.0% Correct test: 64.0%\n",
      "Epoch: 360 Loss: 0.004222826799377799 Correct: 100.0% Correct test: 64.0%\n"
     ]
    },
    {
     "ename": "KeyboardInterrupt",
     "evalue": "",
     "output_type": "error",
     "traceback": [
      "\u001b[0;31m---------------------------------------------------------------------------\u001b[0m",
      "\u001b[0;31mKeyboardInterrupt\u001b[0m                         Traceback (most recent call last)",
      "\u001b[0;32m<ipython-input-15-c5df2c96852c>\u001b[0m in \u001b[0;36m<module>\u001b[0;34m()\u001b[0m\n\u001b[1;32m     23\u001b[0m \u001b[0;34m\u001b[0m\u001b[0m\n\u001b[1;32m     24\u001b[0m \u001b[0;34m\u001b[0m\u001b[0m\n\u001b[0;32m---> 25\u001b[0;31m         \u001b[0mout\u001b[0m\u001b[0;34m=\u001b[0m\u001b[0mnet\u001b[0m\u001b[0;34m(\u001b[0m\u001b[0mtrain_element\u001b[0m\u001b[0;34m)\u001b[0m\u001b[0;34m\u001b[0m\u001b[0m\n\u001b[0m\u001b[1;32m     26\u001b[0m         \u001b[0moutput_target\u001b[0m\u001b[0;34m[\u001b[0m\u001b[0mb\u001b[0m\u001b[0;34m:\u001b[0m\u001b[0mb\u001b[0m\u001b[0;34m+\u001b[0m\u001b[0mmini_batch_size\u001b[0m\u001b[0;34m]\u001b[0m\u001b[0;34m=\u001b[0m\u001b[0;34m(\u001b[0m\u001b[0mout\u001b[0m\u001b[0;34m[\u001b[0m\u001b[0;34m:\u001b[0m\u001b[0;34m,\u001b[0m\u001b[0;36m1\u001b[0m\u001b[0;34m]\u001b[0m\u001b[0;34m>\u001b[0m\u001b[0mout\u001b[0m\u001b[0;34m[\u001b[0m\u001b[0;34m:\u001b[0m\u001b[0;34m,\u001b[0m\u001b[0;36m0\u001b[0m\u001b[0;34m]\u001b[0m\u001b[0;34m)\u001b[0m\u001b[0;34m.\u001b[0m\u001b[0mdata\u001b[0m\u001b[0;34m\u001b[0m\u001b[0m\n\u001b[1;32m     27\u001b[0m \u001b[0;34m\u001b[0m\u001b[0m\n",
      "\u001b[0;32m/home/savare/anaconda3/lib/python3.6/site-packages/torch/nn/modules/module.py\u001b[0m in \u001b[0;36m__call__\u001b[0;34m(self, *input, **kwargs)\u001b[0m\n\u001b[1;32m    323\u001b[0m         \u001b[0;32mfor\u001b[0m \u001b[0mhook\u001b[0m \u001b[0;32min\u001b[0m \u001b[0mself\u001b[0m\u001b[0;34m.\u001b[0m\u001b[0m_forward_pre_hooks\u001b[0m\u001b[0;34m.\u001b[0m\u001b[0mvalues\u001b[0m\u001b[0;34m(\u001b[0m\u001b[0;34m)\u001b[0m\u001b[0;34m:\u001b[0m\u001b[0;34m\u001b[0m\u001b[0m\n\u001b[1;32m    324\u001b[0m             \u001b[0mhook\u001b[0m\u001b[0;34m(\u001b[0m\u001b[0mself\u001b[0m\u001b[0;34m,\u001b[0m \u001b[0minput\u001b[0m\u001b[0;34m)\u001b[0m\u001b[0;34m\u001b[0m\u001b[0m\n\u001b[0;32m--> 325\u001b[0;31m         \u001b[0mresult\u001b[0m \u001b[0;34m=\u001b[0m \u001b[0mself\u001b[0m\u001b[0;34m.\u001b[0m\u001b[0mforward\u001b[0m\u001b[0;34m(\u001b[0m\u001b[0;34m*\u001b[0m\u001b[0minput\u001b[0m\u001b[0;34m,\u001b[0m \u001b[0;34m**\u001b[0m\u001b[0mkwargs\u001b[0m\u001b[0;34m)\u001b[0m\u001b[0;34m\u001b[0m\u001b[0m\n\u001b[0m\u001b[1;32m    326\u001b[0m         \u001b[0;32mfor\u001b[0m \u001b[0mhook\u001b[0m \u001b[0;32min\u001b[0m \u001b[0mself\u001b[0m\u001b[0;34m.\u001b[0m\u001b[0m_forward_hooks\u001b[0m\u001b[0;34m.\u001b[0m\u001b[0mvalues\u001b[0m\u001b[0;34m(\u001b[0m\u001b[0;34m)\u001b[0m\u001b[0;34m:\u001b[0m\u001b[0;34m\u001b[0m\u001b[0m\n\u001b[1;32m    327\u001b[0m             \u001b[0mhook_result\u001b[0m \u001b[0;34m=\u001b[0m \u001b[0mhook\u001b[0m\u001b[0;34m(\u001b[0m\u001b[0mself\u001b[0m\u001b[0;34m,\u001b[0m \u001b[0minput\u001b[0m\u001b[0;34m,\u001b[0m \u001b[0mresult\u001b[0m\u001b[0;34m)\u001b[0m\u001b[0;34m\u001b[0m\u001b[0m\n",
      "\u001b[0;32m<ipython-input-12-f393a19a52a5>\u001b[0m in \u001b[0;36mforward\u001b[0;34m(self, x)\u001b[0m\n\u001b[1;32m     37\u001b[0m \u001b[0;34m\u001b[0m\u001b[0m\n\u001b[1;32m     38\u001b[0m     \u001b[0;32mdef\u001b[0m \u001b[0mforward\u001b[0m\u001b[0;34m(\u001b[0m\u001b[0mself\u001b[0m\u001b[0;34m,\u001b[0m\u001b[0mx\u001b[0m\u001b[0;34m)\u001b[0m\u001b[0;34m:\u001b[0m\u001b[0;34m\u001b[0m\u001b[0m\n\u001b[0;32m---> 39\u001b[0;31m         \u001b[0mx\u001b[0m\u001b[0;34m=\u001b[0m\u001b[0mself\u001b[0m\u001b[0;34m.\u001b[0m\u001b[0msequential\u001b[0m\u001b[0;34m(\u001b[0m\u001b[0mx\u001b[0m\u001b[0;34m)\u001b[0m\u001b[0;34m\u001b[0m\u001b[0m\n\u001b[0m\u001b[1;32m     40\u001b[0m \u001b[0;34m\u001b[0m\u001b[0m\n\u001b[1;32m     41\u001b[0m         \u001b[0;32mreturn\u001b[0m \u001b[0mx\u001b[0m\u001b[0;34m\u001b[0m\u001b[0m\n",
      "\u001b[0;32m/home/savare/anaconda3/lib/python3.6/site-packages/torch/nn/modules/module.py\u001b[0m in \u001b[0;36m__call__\u001b[0;34m(self, *input, **kwargs)\u001b[0m\n\u001b[1;32m    323\u001b[0m         \u001b[0;32mfor\u001b[0m \u001b[0mhook\u001b[0m \u001b[0;32min\u001b[0m \u001b[0mself\u001b[0m\u001b[0;34m.\u001b[0m\u001b[0m_forward_pre_hooks\u001b[0m\u001b[0;34m.\u001b[0m\u001b[0mvalues\u001b[0m\u001b[0;34m(\u001b[0m\u001b[0;34m)\u001b[0m\u001b[0;34m:\u001b[0m\u001b[0;34m\u001b[0m\u001b[0m\n\u001b[1;32m    324\u001b[0m             \u001b[0mhook\u001b[0m\u001b[0;34m(\u001b[0m\u001b[0mself\u001b[0m\u001b[0;34m,\u001b[0m \u001b[0minput\u001b[0m\u001b[0;34m)\u001b[0m\u001b[0;34m\u001b[0m\u001b[0m\n\u001b[0;32m--> 325\u001b[0;31m         \u001b[0mresult\u001b[0m \u001b[0;34m=\u001b[0m \u001b[0mself\u001b[0m\u001b[0;34m.\u001b[0m\u001b[0mforward\u001b[0m\u001b[0;34m(\u001b[0m\u001b[0;34m*\u001b[0m\u001b[0minput\u001b[0m\u001b[0;34m,\u001b[0m \u001b[0;34m**\u001b[0m\u001b[0mkwargs\u001b[0m\u001b[0;34m)\u001b[0m\u001b[0;34m\u001b[0m\u001b[0m\n\u001b[0m\u001b[1;32m    326\u001b[0m         \u001b[0;32mfor\u001b[0m \u001b[0mhook\u001b[0m \u001b[0;32min\u001b[0m \u001b[0mself\u001b[0m\u001b[0;34m.\u001b[0m\u001b[0m_forward_hooks\u001b[0m\u001b[0;34m.\u001b[0m\u001b[0mvalues\u001b[0m\u001b[0;34m(\u001b[0m\u001b[0;34m)\u001b[0m\u001b[0;34m:\u001b[0m\u001b[0;34m\u001b[0m\u001b[0m\n\u001b[1;32m    327\u001b[0m             \u001b[0mhook_result\u001b[0m \u001b[0;34m=\u001b[0m \u001b[0mhook\u001b[0m\u001b[0;34m(\u001b[0m\u001b[0mself\u001b[0m\u001b[0;34m,\u001b[0m \u001b[0minput\u001b[0m\u001b[0;34m,\u001b[0m \u001b[0mresult\u001b[0m\u001b[0;34m)\u001b[0m\u001b[0;34m\u001b[0m\u001b[0m\n",
      "\u001b[0;32m/home/savare/anaconda3/lib/python3.6/site-packages/torch/nn/modules/container.py\u001b[0m in \u001b[0;36mforward\u001b[0;34m(self, input)\u001b[0m\n\u001b[1;32m     65\u001b[0m     \u001b[0;32mdef\u001b[0m \u001b[0mforward\u001b[0m\u001b[0;34m(\u001b[0m\u001b[0mself\u001b[0m\u001b[0;34m,\u001b[0m \u001b[0minput\u001b[0m\u001b[0;34m)\u001b[0m\u001b[0;34m:\u001b[0m\u001b[0;34m\u001b[0m\u001b[0m\n\u001b[1;32m     66\u001b[0m         \u001b[0;32mfor\u001b[0m \u001b[0mmodule\u001b[0m \u001b[0;32min\u001b[0m \u001b[0mself\u001b[0m\u001b[0;34m.\u001b[0m\u001b[0m_modules\u001b[0m\u001b[0;34m.\u001b[0m\u001b[0mvalues\u001b[0m\u001b[0;34m(\u001b[0m\u001b[0;34m)\u001b[0m\u001b[0;34m:\u001b[0m\u001b[0;34m\u001b[0m\u001b[0m\n\u001b[0;32m---> 67\u001b[0;31m             \u001b[0minput\u001b[0m \u001b[0;34m=\u001b[0m \u001b[0mmodule\u001b[0m\u001b[0;34m(\u001b[0m\u001b[0minput\u001b[0m\u001b[0;34m)\u001b[0m\u001b[0;34m\u001b[0m\u001b[0m\n\u001b[0m\u001b[1;32m     68\u001b[0m         \u001b[0;32mreturn\u001b[0m \u001b[0minput\u001b[0m\u001b[0;34m\u001b[0m\u001b[0m\n\u001b[1;32m     69\u001b[0m \u001b[0;34m\u001b[0m\u001b[0m\n",
      "\u001b[0;32m/home/savare/anaconda3/lib/python3.6/site-packages/torch/nn/modules/module.py\u001b[0m in \u001b[0;36m__call__\u001b[0;34m(self, *input, **kwargs)\u001b[0m\n\u001b[1;32m    323\u001b[0m         \u001b[0;32mfor\u001b[0m \u001b[0mhook\u001b[0m \u001b[0;32min\u001b[0m \u001b[0mself\u001b[0m\u001b[0;34m.\u001b[0m\u001b[0m_forward_pre_hooks\u001b[0m\u001b[0;34m.\u001b[0m\u001b[0mvalues\u001b[0m\u001b[0;34m(\u001b[0m\u001b[0;34m)\u001b[0m\u001b[0;34m:\u001b[0m\u001b[0;34m\u001b[0m\u001b[0m\n\u001b[1;32m    324\u001b[0m             \u001b[0mhook\u001b[0m\u001b[0;34m(\u001b[0m\u001b[0mself\u001b[0m\u001b[0;34m,\u001b[0m \u001b[0minput\u001b[0m\u001b[0;34m)\u001b[0m\u001b[0;34m\u001b[0m\u001b[0m\n\u001b[0;32m--> 325\u001b[0;31m         \u001b[0mresult\u001b[0m \u001b[0;34m=\u001b[0m \u001b[0mself\u001b[0m\u001b[0;34m.\u001b[0m\u001b[0mforward\u001b[0m\u001b[0;34m(\u001b[0m\u001b[0;34m*\u001b[0m\u001b[0minput\u001b[0m\u001b[0;34m,\u001b[0m \u001b[0;34m**\u001b[0m\u001b[0mkwargs\u001b[0m\u001b[0;34m)\u001b[0m\u001b[0;34m\u001b[0m\u001b[0m\n\u001b[0m\u001b[1;32m    326\u001b[0m         \u001b[0;32mfor\u001b[0m \u001b[0mhook\u001b[0m \u001b[0;32min\u001b[0m \u001b[0mself\u001b[0m\u001b[0;34m.\u001b[0m\u001b[0m_forward_hooks\u001b[0m\u001b[0;34m.\u001b[0m\u001b[0mvalues\u001b[0m\u001b[0;34m(\u001b[0m\u001b[0;34m)\u001b[0m\u001b[0;34m:\u001b[0m\u001b[0;34m\u001b[0m\u001b[0m\n\u001b[1;32m    327\u001b[0m             \u001b[0mhook_result\u001b[0m \u001b[0;34m=\u001b[0m \u001b[0mhook\u001b[0m\u001b[0;34m(\u001b[0m\u001b[0mself\u001b[0m\u001b[0;34m,\u001b[0m \u001b[0minput\u001b[0m\u001b[0;34m,\u001b[0m \u001b[0mresult\u001b[0m\u001b[0;34m)\u001b[0m\u001b[0;34m\u001b[0m\u001b[0m\n",
      "\u001b[0;32m/home/savare/anaconda3/lib/python3.6/site-packages/torch/nn/modules/activation.py\u001b[0m in \u001b[0;36mforward\u001b[0;34m(self, input)\u001b[0m\n\u001b[1;32m     41\u001b[0m \u001b[0;34m\u001b[0m\u001b[0m\n\u001b[1;32m     42\u001b[0m     \u001b[0;32mdef\u001b[0m \u001b[0mforward\u001b[0m\u001b[0;34m(\u001b[0m\u001b[0mself\u001b[0m\u001b[0;34m,\u001b[0m \u001b[0minput\u001b[0m\u001b[0;34m)\u001b[0m\u001b[0;34m:\u001b[0m\u001b[0;34m\u001b[0m\u001b[0m\n\u001b[0;32m---> 43\u001b[0;31m         \u001b[0;32mreturn\u001b[0m \u001b[0mF\u001b[0m\u001b[0;34m.\u001b[0m\u001b[0mthreshold\u001b[0m\u001b[0;34m(\u001b[0m\u001b[0minput\u001b[0m\u001b[0;34m,\u001b[0m \u001b[0mself\u001b[0m\u001b[0;34m.\u001b[0m\u001b[0mthreshold\u001b[0m\u001b[0;34m,\u001b[0m \u001b[0mself\u001b[0m\u001b[0;34m.\u001b[0m\u001b[0mvalue\u001b[0m\u001b[0;34m,\u001b[0m \u001b[0mself\u001b[0m\u001b[0;34m.\u001b[0m\u001b[0minplace\u001b[0m\u001b[0;34m)\u001b[0m\u001b[0;34m\u001b[0m\u001b[0m\n\u001b[0m\u001b[1;32m     44\u001b[0m \u001b[0;34m\u001b[0m\u001b[0m\n\u001b[1;32m     45\u001b[0m     \u001b[0;32mdef\u001b[0m \u001b[0m__repr__\u001b[0m\u001b[0;34m(\u001b[0m\u001b[0mself\u001b[0m\u001b[0;34m)\u001b[0m\u001b[0;34m:\u001b[0m\u001b[0;34m\u001b[0m\u001b[0m\n",
      "\u001b[0;31mKeyboardInterrupt\u001b[0m: "
     ]
    }
   ],
   "source": [
    "net=CNN2D()\n",
    "\n",
    "optimizer = optim.SGD(net.parameters(), lr=1)\n",
    "optimizer = optim.Adam(net.parameters(), lr=0.0001,weight_decay=0)\n",
    "\n",
    "\n",
    "criterion=nn.CrossEntropyLoss()\n",
    "mini_batch_size=79\n",
    "\n",
    "for epoch in range(1001):\n",
    "    \n",
    "    total_loss=0\n",
    "    output_target=torch.zeros(target.shape[0])\n",
    "    for b in range(0,train_dataset.shape[0],mini_batch_size):\n",
    "        \n",
    "        \n",
    "        train_element=train_dataset.narrow(0,b,mini_batch_size)\n",
    "#         train_element=train_element.view(1,28,-1)\n",
    "        \n",
    "        target_element=target.narrow(0,b,mini_batch_size)\n",
    "        \n",
    "        optimizer.zero_grad()\n",
    "        \n",
    "\n",
    "        out=net(train_element)\n",
    "        output_target[b:b+mini_batch_size]=(out[:,1]>out[:,0]).data\n",
    "        \n",
    "        loss=criterion(out,target_element)\n",
    "        loss.backward()\n",
    "        optimizer.step()\n",
    "        total_loss+=loss.data[0]\n",
    "        \n",
    "    output_test=torch.zeros(test_target.shape[0])\n",
    "    out=net(test_dataset)\n",
    "    output_test=(out[:,1]>out[:,0]).data.long()\n",
    "        \n",
    "    \n",
    "#     print(type(output_test))\n",
    "        \n",
    "    error_train=np.sum(list(output_target.long()==target.data))/target.shape[0]\n",
    "    error_test=np.sum(list(output_test==test_target.data))/test_target.shape[0]\n",
    "    if epoch%10==0:\n",
    "        print('Epoch:',epoch,'Loss:',total_loss,'Correct:',str(error_train*100)[:5]+\"%\",\n",
    "             'Correct test:',str(error_test*100)[:5]+\"%\")"
   ]
  },
  {
   "cell_type": "code",
   "execution_count": null,
   "metadata": {
    "collapsed": true,
    "scrolled": true
   },
   "outputs": [],
   "source": [
    "79*720"
   ]
  },
  {
   "cell_type": "code",
   "execution_count": 105,
   "metadata": {},
   "outputs": [
    {
     "data": {
      "text/plain": [
       "72000"
      ]
     },
     "execution_count": 105,
     "metadata": {},
     "output_type": "execute_result"
    }
   ],
   "source": [
    "360*200"
   ]
  },
  {
   "cell_type": "code",
   "execution_count": null,
   "metadata": {
    "collapsed": true
   },
   "outputs": [],
   "source": []
  }
 ],
 "metadata": {
  "kernelspec": {
   "display_name": "Python 3",
   "language": "python",
   "name": "python3"
  },
  "language_info": {
   "codemirror_mode": {
    "name": "ipython",
    "version": 3
   },
   "file_extension": ".py",
   "mimetype": "text/x-python",
   "name": "python",
   "nbconvert_exporter": "python",
   "pygments_lexer": "ipython3",
   "version": "3.6.1"
  }
 },
 "nbformat": 4,
 "nbformat_minor": 2
}
