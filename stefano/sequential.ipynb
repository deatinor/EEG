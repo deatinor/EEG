{
 "cells": [
  {
   "cell_type": "markdown",
   "metadata": {},
   "source": [
    "In this notebook we will use the nn class **Sequential** to model a CNN"
   ]
  },
  {
   "cell_type": "markdown",
   "metadata": {},
   "source": [
    "We will use the single target network"
   ]
  },
  {
   "cell_type": "markdown",
   "metadata": {},
   "source": [
    "# Import"
   ]
  },
  {
   "cell_type": "code",
   "execution_count": 1,
   "metadata": {
    "ExecuteTime": {
     "end_time": "2018-04-29T13:11:20.638444Z",
     "start_time": "2018-04-29T13:11:18.905986Z"
    },
    "collapsed": true
   },
   "outputs": [],
   "source": [
    "import torch\n",
    "import numpy as np\n",
    "import matplotlib.pyplot as plt\n",
    "from torch.autograd import Variable\n",
    "\n",
    "import torch.nn as nn\n",
    "import torch.nn.functional as F\n",
    "\n",
    "import torch.optim as optim"
   ]
  },
  {
   "cell_type": "code",
   "execution_count": 2,
   "metadata": {
    "ExecuteTime": {
     "end_time": "2018-04-29T13:11:21.086483Z",
     "start_time": "2018-04-29T13:11:20.640683Z"
    },
    "collapsed": true
   },
   "outputs": [],
   "source": [
    "import load_script"
   ]
  },
  {
   "cell_type": "code",
   "execution_count": 3,
   "metadata": {
    "ExecuteTime": {
     "end_time": "2018-04-29T13:11:21.119306Z",
     "start_time": "2018-04-29T13:11:21.089167Z"
    },
    "collapsed": true
   },
   "outputs": [],
   "source": [
    "%load_ext autoreload\n",
    "%autoreload 2"
   ]
  },
  {
   "cell_type": "markdown",
   "metadata": {},
   "source": [
    "# Loading the dataset"
   ]
  },
  {
   "cell_type": "code",
   "execution_count": 4,
   "metadata": {
    "ExecuteTime": {
     "end_time": "2018-04-29T13:11:22.060247Z",
     "start_time": "2018-04-29T13:11:21.135716Z"
    }
   },
   "outputs": [
    {
     "name": "stdout",
     "output_type": "stream",
     "text": [
      "Downloading https://documents.epfl.ch/users/f/fl/fleuret/www/data/bci/sp1s_aa_train.txt\n"
     ]
    }
   ],
   "source": [
    "train_dataset,target=load_script.load_dataset(train=True)"
   ]
  },
  {
   "cell_type": "code",
   "execution_count": 5,
   "metadata": {
    "ExecuteTime": {
     "end_time": "2018-04-29T13:11:22.478349Z",
     "start_time": "2018-04-29T13:11:22.061989Z"
    }
   },
   "outputs": [
    {
     "name": "stdout",
     "output_type": "stream",
     "text": [
      "Downloading https://documents.epfl.ch/users/f/fl/fleuret/www/data/bci/sp1s_aa_test.txt\n",
      "Downloading https://documents.epfl.ch/users/f/fl/fleuret/www/data/bci/labels_data_set_iv.txt\n"
     ]
    }
   ],
   "source": [
    "test_dataset,test_target=load_script.load_dataset(train=False)"
   ]
  },
  {
   "cell_type": "code",
   "execution_count": 6,
   "metadata": {
    "ExecuteTime": {
     "end_time": "2018-04-29T13:11:22.504600Z",
     "start_time": "2018-04-29T13:11:22.481094Z"
    },
    "collapsed": true
   },
   "outputs": [],
   "source": [
    "target=target.long()\n",
    "test_target=test_target.long()"
   ]
  },
  {
   "cell_type": "markdown",
   "metadata": {},
   "source": [
    "# Added modules"
   ]
  },
  {
   "cell_type": "code",
   "execution_count": 7,
   "metadata": {
    "ExecuteTime": {
     "end_time": "2018-04-29T13:11:22.527379Z",
     "start_time": "2018-04-29T13:11:22.507151Z"
    },
    "collapsed": true
   },
   "outputs": [],
   "source": [
    "class Flatten(nn.Module):\n",
    "    def forward(self, input):\n",
    "        return input.view(input.size(0), -1)"
   ]
  },
  {
   "cell_type": "code",
   "execution_count": 8,
   "metadata": {
    "ExecuteTime": {
     "end_time": "2018-04-29T13:11:22.547479Z",
     "start_time": "2018-04-29T13:11:22.529320Z"
    },
    "collapsed": true
   },
   "outputs": [],
   "source": [
    "class Tensor4D(nn.Module):\n",
    "    def forward(self,input):\n",
    "        return input.view(input.shape[0],1,*input.shape[1:])"
   ]
  },
  {
   "cell_type": "code",
   "execution_count": 9,
   "metadata": {
    "ExecuteTime": {
     "end_time": "2018-04-29T13:11:22.566188Z",
     "start_time": "2018-04-29T13:11:22.549381Z"
    },
    "collapsed": true
   },
   "outputs": [],
   "source": [
    "class Tensor3D(nn.Module):\n",
    "    def forward(self,input):\n",
    "        return input.view(input.shape[0],input.shape[1],-1)"
   ]
  },
  {
   "cell_type": "markdown",
   "metadata": {},
   "source": [
    "# Normalization"
   ]
  },
  {
   "cell_type": "code",
   "execution_count": 10,
   "metadata": {
    "ExecuteTime": {
     "end_time": "2018-04-29T13:11:22.674599Z",
     "start_time": "2018-04-29T13:11:22.567937Z"
    }
   },
   "outputs": [
    {
     "ename": "NameError",
     "evalue": "name 'mean' is not defined",
     "output_type": "error",
     "traceback": [
      "\u001b[0;31m---------------------------------------------------------------------------\u001b[0m",
      "\u001b[0;31mNameError\u001b[0m                                 Traceback (most recent call last)",
      "\u001b[0;32m<ipython-input-10-1365447c934e>\u001b[0m in \u001b[0;36m<module>\u001b[0;34m()\u001b[0m\n\u001b[0;32m----> 1\u001b[0;31m \u001b[0mmean\u001b[0m\u001b[0;34m.\u001b[0m\u001b[0mshape\u001b[0m\u001b[0;34m\u001b[0m\u001b[0m\n\u001b[0m",
      "\u001b[0;31mNameError\u001b[0m: name 'mean' is not defined"
     ]
    }
   ],
   "source": [
    "mean.shape"
   ]
  },
  {
   "cell_type": "code",
   "execution_count": null,
   "metadata": {
    "ExecuteTime": {
     "end_time": "2018-04-29T13:11:22.675151Z",
     "start_time": "2018-04-29T13:10:36.856Z"
    },
    "collapsed": true
   },
   "outputs": [],
   "source": [
    "train_dataset.mean(0)"
   ]
  },
  {
   "cell_type": "code",
   "execution_count": null,
   "metadata": {
    "ExecuteTime": {
     "end_time": "2018-04-29T13:11:22.675885Z",
     "start_time": "2018-04-29T13:10:37.036Z"
    },
    "collapsed": true
   },
   "outputs": [],
   "source": [
    "mean=train_dataset.mean(0).view(1,28,-1)\n",
    "std=train_dataset.std(0).view(1,28,-1)"
   ]
  },
  {
   "cell_type": "code",
   "execution_count": null,
   "metadata": {
    "ExecuteTime": {
     "end_time": "2018-04-29T13:11:22.676668Z",
     "start_time": "2018-04-29T13:10:37.240Z"
    },
    "collapsed": true,
    "scrolled": true
   },
   "outputs": [],
   "source": [
    "train_dataset=(train_dataset-mean)/std\n",
    "test_dataset=(test_dataset-mean)/std"
   ]
  },
  {
   "cell_type": "markdown",
   "metadata": {},
   "source": [
    "# Defining the network"
   ]
  },
  {
   "cell_type": "markdown",
   "metadata": {},
   "source": [
    "### Single output"
   ]
  },
  {
   "cell_type": "code",
   "execution_count": null,
   "metadata": {
    "ExecuteTime": {
     "end_time": "2018-04-29T13:11:22.678654Z",
     "start_time": "2018-04-29T13:10:37.823Z"
    },
    "collapsed": true
   },
   "outputs": [],
   "source": [
    "class SingleOutput(nn.Module):\n",
    "    def __init__(self):\n",
    "        super(SingleOutput,self).__init__()\n",
    "\n",
    "        self.conv1=nn.Conv1d(28,14,5)\n",
    "        self.full1=nn.Linear(14*46,100)\n",
    "        self.full2=nn.Linear(100,1)\n",
    "        \n",
    "    def forward(self,x):\n",
    "        x=F.max_pool1d(F.relu(self.conv1(x)),1)\n",
    "        x=x.view(-1)\n",
    "        x=F.relu(self.full1(x.view(-1,14*46)))\n",
    "        x=F.sigmoid(self.full2(x))\n",
    "        \n",
    "        return x"
   ]
  },
  {
   "cell_type": "markdown",
   "metadata": {},
   "source": [
    "### Sequential"
   ]
  },
  {
   "cell_type": "code",
   "execution_count": null,
   "metadata": {
    "ExecuteTime": {
     "end_time": "2018-04-29T13:11:22.679389Z",
     "start_time": "2018-04-29T13:10:38.229Z"
    },
    "collapsed": true
   },
   "outputs": [],
   "source": [
    "# 50 -> 48 -> 24 -> 20 -> 10"
   ]
  },
  {
   "cell_type": "code",
   "execution_count": null,
   "metadata": {
    "ExecuteTime": {
     "end_time": "2018-04-29T13:11:22.680188Z",
     "start_time": "2018-04-29T13:10:38.472Z"
    },
    "collapsed": true
   },
   "outputs": [],
   "source": [
    "class Sequential(nn.Module):\n",
    "    def __init__(self):\n",
    "        super(Sequential,self).__init__()\n",
    "        \n",
    "        layers=[]\n",
    "        layers.append(nn.Conv1d(28,28,3))\n",
    "        layers.append(nn.ReLU())\n",
    "        layers.append(nn.MaxPool1d(2))\n",
    "        layers.append(nn.Conv1d(28,28,5))\n",
    "        layers.append(nn.ReLU())\n",
    "        layers.append(nn.MaxPool1d(2))\n",
    "        layers.append(nn.Conv1d(28,28,5))\n",
    "        layers.append(nn.ReLU())\n",
    "        layers.append(nn.MaxPool1d(2))\n",
    "        layers.append(Flatten())\n",
    "        layers.append(nn.Linear(28*3,200))\n",
    "        layers.append(nn.ReLU())\n",
    "#         layers.append(nn.Linear(200,20))\n",
    "#         layers.append(nn.ReLU())\n",
    "        layers.append(nn.Linear(200,2))\n",
    "#         layers.append(nn.Sigmoid())\n",
    "        \n",
    "        self.sequential=nn.Sequential(*layers)\n",
    "        \n",
    "    def forward(self,x):\n",
    "        x=self.sequential(x)\n",
    "        \n",
    "        return x"
   ]
  },
  {
   "cell_type": "markdown",
   "metadata": {},
   "source": [
    "### Convolution 2d"
   ]
  },
  {
   "cell_type": "code",
   "execution_count": 12,
   "metadata": {
    "ExecuteTime": {
     "end_time": "2018-04-29T13:12:05.932105Z",
     "start_time": "2018-04-29T13:12:05.868547Z"
    },
    "collapsed": true
   },
   "outputs": [],
   "source": [
    "class CNN2D(nn.Module):\n",
    "    def __init__(self):\n",
    "        super(CNN2D,self).__init__()\n",
    "        \n",
    "        # 28*50\n",
    "        layers=[]\n",
    "        layers.append(nn.Conv1d(28,28,3))\n",
    "        layers.append(nn.ReLU())\n",
    "        layers.append(nn.MaxPool1d(2))\n",
    "        \n",
    "        # 28*24\n",
    "        layers.append(nn.Conv1d(28,28,5))\n",
    "        layers.append(nn.ReLU())\n",
    "        layers.append(nn.MaxPool1d(2))\n",
    "        \n",
    "        # 28*10\n",
    "        layers.append(Tensor4D())\n",
    "        layers.append(nn.Conv2d(1,10,5))\n",
    "        # 10*24*6\n",
    "        layers.append(Tensor3D())\n",
    "        # 10*144\n",
    "        \n",
    "        layers.append(nn.ReLU())\n",
    "        layers.append(nn.MaxPool1d(2))\n",
    "        # 10*72\n",
    "        \n",
    "        layers.append(Flatten())\n",
    "        layers.append(nn.Linear(10*72,200))\n",
    "        layers.append(nn.ReLU())\n",
    "        \n",
    "        layers.append(nn.Linear(200,20))\n",
    "        layers.append(nn.ReLU())\n",
    "        \n",
    "        layers.append(nn.Linear(20,2))        \n",
    "        \n",
    "        self.sequential=nn.Sequential(*layers)\n",
    "        \n",
    "    def forward(self,x):\n",
    "        x=self.sequential(x)\n",
    "        \n",
    "        return x"
   ]
  },
  {
   "cell_type": "markdown",
   "metadata": {},
   "source": [
    "# Training"
   ]
  },
  {
   "cell_type": "code",
   "execution_count": 29,
   "metadata": {
    "ExecuteTime": {
     "end_time": "2018-04-29T13:27:35.350261Z",
     "start_time": "2018-04-29T13:27:35.280388Z"
    },
    "collapsed": true
   },
   "outputs": [],
   "source": [
    "def train_network(network,optimizer,verbose=False):\n",
    "    \n",
    "    criterion=nn.CrossEntropyLoss()\n",
    "    mini_batch_size=79\n",
    "\n",
    "    errors_test=[]\n",
    "    for epoch in range(1001):\n",
    "\n",
    "        total_loss=0\n",
    "        output_target=torch.zeros(target.shape[0])\n",
    "        for b in range(0,train_dataset.shape[0],mini_batch_size):\n",
    "\n",
    "\n",
    "            train_element=train_dataset.narrow(0,b,mini_batch_size)\n",
    "    #         train_element=train_element.view(1,28,-1)\n",
    "\n",
    "            target_element=target.narrow(0,b,mini_batch_size)\n",
    "\n",
    "            optimizer.zero_grad()\n",
    "\n",
    "\n",
    "            out=net(train_element)\n",
    "            output_target[b:b+mini_batch_size]=(out[:,1]>out[:,0]).data\n",
    "\n",
    "            loss=criterion(out,target_element)\n",
    "            loss.backward()\n",
    "            optimizer.step()\n",
    "            total_loss+=loss.data[0]\n",
    "\n",
    "        output_test=torch.zeros(test_target.shape[0])\n",
    "        out=net(test_dataset)\n",
    "        output_test=(out[:,1]>out[:,0]).data.long()\n",
    "\n",
    "\n",
    "    #     print(type(output_test))\n",
    "\n",
    "        error_train=np.sum(list(output_target.long()==target.data))/target.shape[0]\n",
    "        error_test=np.sum(list(output_test==test_target.data))/test_target.shape[0]\n",
    "        errors_test.append(error_test)\n",
    "        if epoch%10==0 and verbose:\n",
    "            print('Epoch:',epoch,'Loss:',total_loss,'Correct:',str(error_train*100)[:5]+\"%\",\n",
    "                 'Correct test:',str(error_test*100)[:5]+\"%\")\n",
    "        if error_train>0.995:# or (epoch>80 and np.abs(np.mean(errors_test[-80:])-np.mean(errors_test[-25:]))<0.01):\n",
    "            return epoch,errors_test[-1]"
   ]
  },
  {
   "cell_type": "code",
   "execution_count": null,
   "metadata": {
    "ExecuteTime": {
     "start_time": "2018-04-29T13:36:22.489Z"
    },
    "collapsed": true
   },
   "outputs": [],
   "source": [
    "class Train:\n",
    "    \n",
    "    def __init__(self,network,optimizer,verbose=False):\n",
    "        self.network=network\n",
    "        self.optimizer=optimizer\n",
    "        self.verbose=verbose\n",
    "        \n",
    "    def __call__(self,repetitions=5):\n",
    "        epochs=[]\n",
    "        errors=[]\n",
    "        for i in range(repetitions):\n",
    "            for j in net.parameters():\n",
    "                j.data.normal_(0, 0.01)\n",
    "            print(i)\n",
    "            epoch,error=train_network(self.network,self.optimizer,self.verbose)\n",
    "            epochs.append(epoch)\n",
    "            errors.append(error)\n",
    "        \n",
    "        return epochs,errors\n",
    "    \n",
    "    "
   ]
  },
  {
   "cell_type": "code",
   "execution_count": null,
   "metadata": {
    "ExecuteTime": {
     "start_time": "2018-04-29T13:36:22.695Z"
    }
   },
   "outputs": [
    {
     "name": "stdout",
     "output_type": "stream",
     "text": [
      "0\n",
      "Epoch: 0 Loss: 2.7725340723991394 Correct: 50.31% Correct test: 49.0%\n",
      "Epoch: 10 Loss: 2.772398889064789 Correct: 50.31% Correct test: 49.0%\n",
      "Epoch: 20 Loss: 2.7642818093299866 Correct: 51.26% Correct test: 49.0%\n",
      "Epoch: 30 Loss: 2.6783082485198975 Correct: 63.92% Correct test: 49.0%\n",
      "Epoch: 40 Loss: 2.554620862007141 Correct: 66.45% Correct test: 49.0%\n",
      "Epoch: 50 Loss: 2.402999758720398 Correct: 70.25% Correct test: 57.0%\n",
      "Epoch: 60 Loss: 2.233561098575592 Correct: 73.10% Correct test: 62.0%\n",
      "Epoch: 70 Loss: 2.1059868037700653 Correct: 76.26% Correct test: 63.0%\n",
      "Epoch: 80 Loss: 2.0083672404289246 Correct: 76.89% Correct test: 63.0%\n",
      "Epoch: 90 Loss: 1.936369627714157 Correct: 78.79% Correct test: 65.0%\n",
      "Epoch: 100 Loss: 1.8714019060134888 Correct: 78.48% Correct test: 66.0%\n",
      "Epoch: 110 Loss: 1.811855435371399 Correct: 79.43% Correct test: 67.0%\n",
      "Epoch: 120 Loss: 1.7556905150413513 Correct: 81.01% Correct test: 67.0%\n",
      "Epoch: 130 Loss: 1.7061378955841064 Correct: 82.27% Correct test: 68.0%\n",
      "Epoch: 140 Loss: 1.6617803275585175 Correct: 83.54% Correct test: 68.0%\n",
      "Epoch: 150 Loss: 1.6205503940582275 Correct: 83.54% Correct test: 69.0%\n",
      "Epoch: 160 Loss: 1.5782038867473602 Correct: 83.86% Correct test: 70.0%\n",
      "Epoch: 170 Loss: 1.540351539850235 Correct: 84.17% Correct test: 70.0%\n",
      "Epoch: 180 Loss: 1.5009454190731049 Correct: 84.49% Correct test: 70.0%\n",
      "Epoch: 190 Loss: 1.4626565277576447 Correct: 84.81% Correct test: 71.0%\n",
      "Epoch: 200 Loss: 1.423486590385437 Correct: 85.12% Correct test: 70.0%\n",
      "Epoch: 210 Loss: 1.3781083524227142 Correct: 85.12% Correct test: 70.0%\n",
      "Epoch: 220 Loss: 1.3357231616973877 Correct: 86.39% Correct test: 70.0%\n",
      "Epoch: 230 Loss: 1.2947044670581818 Correct: 86.70% Correct test: 70.0%\n",
      "Epoch: 240 Loss: 1.2486070394515991 Correct: 86.70% Correct test: 70.0%\n",
      "Epoch: 250 Loss: 1.2029898017644882 Correct: 87.97% Correct test: 71.0%\n",
      "Epoch: 260 Loss: 1.1575768738985062 Correct: 88.29% Correct test: 71.0%\n",
      "Epoch: 270 Loss: 1.113226518034935 Correct: 89.87% Correct test: 71.0%\n",
      "Epoch: 280 Loss: 1.0665101408958435 Correct: 89.55% Correct test: 71.0%\n",
      "Epoch: 290 Loss: 1.0285917222499847 Correct: 90.18% Correct test: 71.0%\n",
      "Epoch: 300 Loss: 0.9914577603340149 Correct: 89.87% Correct test: 71.0%\n",
      "Epoch: 310 Loss: 0.9677892178297043 Correct: 89.24% Correct test: 71.0%\n",
      "Epoch: 320 Loss: 0.8881195783615112 Correct: 92.08% Correct test: 72.0%\n",
      "Epoch: 330 Loss: 0.8307698518037796 Correct: 92.72% Correct test: 72.0%\n",
      "Epoch: 340 Loss: 0.779195100069046 Correct: 93.03% Correct test: 72.0%\n",
      "Epoch: 350 Loss: 0.7301326990127563 Correct: 93.98% Correct test: 72.0%\n",
      "Epoch: 360 Loss: 0.6872804015874863 Correct: 94.30% Correct test: 72.0%\n",
      "Epoch: 370 Loss: 0.6143006458878517 Correct: 94.93% Correct test: 72.0%\n",
      "Epoch: 380 Loss: 0.5411591157317162 Correct: 95.25% Correct test: 71.0%\n",
      "Epoch: 390 Loss: 0.5105360746383667 Correct: 95.88% Correct test: 72.0%\n",
      "Epoch: 400 Loss: 0.7532030642032623 Correct: 92.08% Correct test: 69.0%\n",
      "Epoch: 410 Loss: 0.598299041390419 Correct: 93.03% Correct test: 70.0%\n",
      "Epoch: 420 Loss: 0.4538099318742752 Correct: 95.25% Correct test: 70.0%\n",
      "Epoch: 430 Loss: 0.36381326988339424 Correct: 97.15% Correct test: 72.0%\n",
      "Epoch: 440 Loss: 0.32835831120610237 Correct: 97.46% Correct test: 73.0%\n",
      "Epoch: 450 Loss: 0.3046012260019779 Correct: 97.78% Correct test: 73.0%\n",
      "Epoch: 460 Loss: 0.2838711068034172 Correct: 97.78% Correct test: 72.0%\n",
      "Epoch: 470 Loss: 0.26562143862247467 Correct: 97.78% Correct test: 69.0%\n",
      "Epoch: 480 Loss: 0.2493642009794712 Correct: 98.10% Correct test: 70.0%\n",
      "Epoch: 490 Loss: 0.2345743328332901 Correct: 98.10% Correct test: 69.0%\n",
      "Epoch: 500 Loss: 0.22116423025727272 Correct: 97.78% Correct test: 70.0%\n",
      "Epoch: 510 Loss: 0.20965918712317944 Correct: 98.73% Correct test: 69.0%\n",
      "Epoch: 520 Loss: 0.198856508359313 Correct: 99.05% Correct test: 70.0%\n",
      "Epoch: 530 Loss: 0.18992804363369942 Correct: 99.05% Correct test: 70.0%\n",
      "Epoch: 540 Loss: 0.18136832304298878 Correct: 99.05% Correct test: 70.0%\n",
      "Epoch: 550 Loss: 0.1742024589329958 Correct: 99.05% Correct test: 70.0%\n",
      "Epoch: 560 Loss: 0.16728924214839935 Correct: 99.36% Correct test: 70.0%\n",
      "Epoch: 570 Loss: 0.16129082441329956 Correct: 99.36% Correct test: 70.0%\n",
      "Epoch: 580 Loss: 0.1563409324735403 Correct: 99.36% Correct test: 69.0%\n",
      "Epoch: 590 Loss: 0.15196648426353931 Correct: 99.36% Correct test: 69.0%\n",
      "1\n",
      "Epoch: 0 Loss: 2.773202657699585 Correct: 49.68% Correct test: 51.0%\n",
      "Epoch: 10 Loss: 2.773028016090393 Correct: 49.68% Correct test: 51.0%\n",
      "Epoch: 20 Loss: 2.7694599628448486 Correct: 56.96% Correct test: 46.0%\n",
      "Epoch: 30 Loss: 2.749671161174774 Correct: 53.48% Correct test: 49.0%\n",
      "Epoch: 40 Loss: 2.730735123157501 Correct: 54.43% Correct test: 51.0%\n",
      "Epoch: 50 Loss: 2.7115314602851868 Correct: 60.12% Correct test: 50.0%\n",
      "Epoch: 60 Loss: 2.681897819042206 Correct: 64.24% Correct test: 49.0%\n",
      "Epoch: 70 Loss: 2.6150471568107605 Correct: 64.24% Correct test: 48.0%\n",
      "Epoch: 80 Loss: 2.5158108472824097 Correct: 68.35% Correct test: 51.0%\n",
      "Epoch: 90 Loss: 2.380230724811554 Correct: 71.20% Correct test: 55.0%\n",
      "Epoch: 100 Loss: 2.1887686252593994 Correct: 75.0% Correct test: 63.0%\n",
      "Epoch: 110 Loss: 1.9725853502750397 Correct: 76.89% Correct test: 69.0%\n",
      "Epoch: 120 Loss: 1.828210175037384 Correct: 79.74% Correct test: 71.0%\n",
      "Epoch: 130 Loss: 1.7220901846885681 Correct: 80.37% Correct test: 73.0%\n",
      "Epoch: 140 Loss: 1.644663155078888 Correct: 81.64% Correct test: 77.0%\n",
      "Epoch: 150 Loss: 1.581358015537262 Correct: 82.91% Correct test: 78.0%\n",
      "Epoch: 160 Loss: 1.5264400839805603 Correct: 82.59% Correct test: 78.0%\n",
      "Epoch: 170 Loss: 1.481029599905014 Correct: 83.54% Correct test: 76.0%\n",
      "Epoch: 180 Loss: 1.442530870437622 Correct: 84.17% Correct test: 76.0%\n",
      "Epoch: 190 Loss: 1.408004343509674 Correct: 84.49% Correct test: 76.0%\n",
      "Epoch: 200 Loss: 1.3780644834041595 Correct: 84.81% Correct test: 76.0%\n",
      "Epoch: 210 Loss: 1.3477610647678375 Correct: 84.81% Correct test: 76.0%\n",
      "Epoch: 220 Loss: 1.3186935186386108 Correct: 84.49% Correct test: 75.0%\n",
      "Epoch: 230 Loss: 1.2913901507854462 Correct: 84.49% Correct test: 76.0%\n",
      "Epoch: 240 Loss: 1.2639285027980804 Correct: 84.49% Correct test: 76.0%\n",
      "Epoch: 250 Loss: 1.2368763983249664 Correct: 85.12% Correct test: 76.0%\n",
      "Epoch: 260 Loss: 1.2089290618896484 Correct: 86.07% Correct test: 76.0%\n",
      "Epoch: 270 Loss: 1.180891513824463 Correct: 87.34% Correct test: 76.0%\n",
      "Epoch: 280 Loss: 1.1522252261638641 Correct: 87.65% Correct test: 76.0%\n",
      "Epoch: 290 Loss: 1.1226835399866104 Correct: 87.02% Correct test: 75.0%\n",
      "Epoch: 300 Loss: 1.0914489477872849 Correct: 87.02% Correct test: 75.0%\n",
      "Epoch: 310 Loss: 1.0610009282827377 Correct: 87.65% Correct test: 77.0%\n",
      "Epoch: 320 Loss: 1.0282556116580963 Correct: 87.65% Correct test: 77.0%\n",
      "Epoch: 330 Loss: 0.9952744990587234 Correct: 88.60% Correct test: 78.0%\n",
      "Epoch: 340 Loss: 0.963470384478569 Correct: 88.92% Correct test: 78.0%\n",
      "Epoch: 350 Loss: 0.9303837865591049 Correct: 89.55% Correct test: 79.0%\n",
      "Epoch: 360 Loss: 0.8967048972845078 Correct: 90.82% Correct test: 79.0%\n",
      "Epoch: 370 Loss: 0.862277165055275 Correct: 91.13% Correct test: 79.0%\n",
      "Epoch: 380 Loss: 0.828979030251503 Correct: 92.08% Correct test: 79.0%\n",
      "Epoch: 390 Loss: 0.793889656662941 Correct: 92.72% Correct test: 79.0%\n",
      "Epoch: 400 Loss: 0.7600826621055603 Correct: 93.03% Correct test: 79.0%\n",
      "Epoch: 410 Loss: 0.7239423543214798 Correct: 93.98% Correct test: 79.0%\n",
      "Epoch: 420 Loss: 0.6875095218420029 Correct: 95.25% Correct test: 79.0%\n",
      "Epoch: 430 Loss: 0.650869145989418 Correct: 95.88% Correct test: 79.0%\n",
      "Epoch: 440 Loss: 0.6138994544744492 Correct: 96.51% Correct test: 78.0%\n",
      "Epoch: 450 Loss: 0.5770601108670235 Correct: 96.83% Correct test: 77.0%\n",
      "Epoch: 460 Loss: 0.5392785891890526 Correct: 97.15% Correct test: 76.0%\n",
      "Epoch: 470 Loss: 0.5015246346592903 Correct: 97.15% Correct test: 76.0%\n",
      "Epoch: 480 Loss: 0.4629893824458122 Correct: 97.15% Correct test: 76.0%\n",
      "Epoch: 490 Loss: 0.42584792524576187 Correct: 97.15% Correct test: 77.0%\n",
      "Epoch: 500 Loss: 0.3898167684674263 Correct: 98.10% Correct test: 78.0%\n",
      "Epoch: 510 Loss: 0.3555229604244232 Correct: 98.41% Correct test: 78.0%\n",
      "Epoch: 520 Loss: 0.32345500960946083 Correct: 99.05% Correct test: 78.0%\n",
      "Epoch: 530 Loss: 0.29405617341399193 Correct: 99.05% Correct test: 78.0%\n",
      "Epoch: 540 Loss: 0.26688310131430626 Correct: 99.36% Correct test: 78.0%\n"
     ]
    },
    {
     "name": "stdout",
     "output_type": "stream",
     "text": [
      "Epoch: 550 Loss: 0.24348251521587372 Correct: 99.36% Correct test: 78.0%\n",
      "2\n",
      "Epoch: 0 Loss: 2.772950530052185 Correct: 49.68% Correct test: 51.0%\n",
      "Epoch: 10 Loss: 2.772908091545105 Correct: 49.68% Correct test: 51.0%\n",
      "Epoch: 20 Loss: 2.772679924964905 Correct: 49.68% Correct test: 51.0%\n",
      "Epoch: 30 Loss: 2.7715033888816833 Correct: 49.68% Correct test: 51.0%\n",
      "Epoch: 40 Loss: 2.7661420106887817 Correct: 56.32% Correct test: 50.0%\n",
      "Epoch: 50 Loss: 2.7512978315353394 Correct: 53.16% Correct test: 50.0%\n",
      "Epoch: 60 Loss: 2.736502528190613 Correct: 54.43% Correct test: 52.0%\n",
      "Epoch: 70 Loss: 2.7239893078804016 Correct: 56.64% Correct test: 51.0%\n",
      "Epoch: 80 Loss: 2.7109817266464233 Correct: 60.44% Correct test: 49.0%\n",
      "Epoch: 90 Loss: 2.6924540996551514 Correct: 62.34% Correct test: 51.0%\n",
      "Epoch: 100 Loss: 2.6641107201576233 Correct: 64.55% Correct test: 49.0%\n",
      "Epoch: 110 Loss: 2.6243008971214294 Correct: 64.55% Correct test: 49.0%\n",
      "Epoch: 120 Loss: 2.5748459696769714 Correct: 67.08% Correct test: 50.0%\n",
      "Epoch: 130 Loss: 2.5205421447753906 Correct: 68.03% Correct test: 52.0%\n",
      "Epoch: 140 Loss: 2.4637449383735657 Correct: 69.62% Correct test: 53.0%\n",
      "Epoch: 150 Loss: 2.4035956859588623 Correct: 70.56% Correct test: 54.0%\n",
      "Epoch: 160 Loss: 2.3407182693481445 Correct: 71.51% Correct test: 55.0%\n",
      "Epoch: 170 Loss: 2.268212616443634 Correct: 72.15% Correct test: 59.0%\n",
      "Epoch: 180 Loss: 2.1855636835098267 Correct: 75.0% Correct test: 63.0%\n",
      "Epoch: 190 Loss: 2.0881055295467377 Correct: 76.89% Correct test: 68.0%\n",
      "Epoch: 200 Loss: 1.985887199640274 Correct: 78.16% Correct test: 70.0%\n"
     ]
    }
   ],
   "source": [
    "net=CNN2D()\n",
    "optimizer = optim.Adam(net.parameters(), lr=0.0001,weight_decay=0)\n",
    "\n",
    "train=Train(net,optimizer,True)\n",
    "train()\n"
   ]
  },
  {
   "cell_type": "code",
   "execution_count": null,
   "metadata": {
    "collapsed": true
   },
   "outputs": [],
   "source": []
  },
  {
   "cell_type": "code",
   "execution_count": null,
   "metadata": {
    "collapsed": true
   },
   "outputs": [],
   "source": []
  },
  {
   "cell_type": "code",
   "execution_count": null,
   "metadata": {
    "collapsed": true
   },
   "outputs": [],
   "source": []
  },
  {
   "cell_type": "code",
   "execution_count": null,
   "metadata": {
    "collapsed": true
   },
   "outputs": [],
   "source": []
  },
  {
   "cell_type": "code",
   "execution_count": 15,
   "metadata": {
    "ExecuteTime": {
     "end_time": "2018-04-29T13:21:18.107249Z",
     "start_time": "2018-04-29T13:20:48.222765Z"
    },
    "scrolled": true
   },
   "outputs": [
    {
     "name": "stdout",
     "output_type": "stream",
     "text": [
      "Epoch: 0 Loss: 2.826216459274292 Correct: 41.77% Correct test: 53.0%\n",
      "Epoch: 10 Loss: 2.613489508628845 Correct: 65.50% Correct test: 52.0%\n",
      "Epoch: 20 Loss: 2.4392541646957397 Correct: 69.93% Correct test: 56.0%\n",
      "Epoch: 30 Loss: 2.2193009853363037 Correct: 74.05% Correct test: 55.0%\n",
      "Epoch: 40 Loss: 1.9510942995548248 Correct: 78.79% Correct test: 57.0%\n",
      "Epoch: 50 Loss: 1.6690470576286316 Correct: 83.54% Correct test: 61.0%\n",
      "Epoch: 60 Loss: 1.3851625621318817 Correct: 87.65% Correct test: 58.0%\n",
      "Epoch: 70 Loss: 1.115644097328186 Correct: 91.77% Correct test: 57.0%\n",
      "Epoch: 80 Loss: 0.8598392009735107 Correct: 94.62% Correct test: 57.0%\n",
      "Epoch: 90 Loss: 0.6713583469390869 Correct: 95.56% Correct test: 55.0%\n",
      "Epoch: 100 Loss: 0.5844872444868088 Correct: 95.88% Correct test: 57.0%\n",
      "Epoch: 110 Loss: 0.36556436121463776 Correct: 99.05% Correct test: 61.0%\n",
      "Epoch: 120 Loss: 0.2529432997107506 Correct: 99.68% Correct test: 62.0%\n",
      "Epoch: 130 Loss: 0.193000216037035 Correct: 100.0% Correct test: 62.0%\n",
      "Epoch: 140 Loss: 0.1373022347688675 Correct: 100.0% Correct test: 62.0%\n",
      "Epoch: 150 Loss: 0.10262885130941868 Correct: 100.0% Correct test: 62.0%\n",
      "Epoch: 160 Loss: 0.07761173602193594 Correct: 100.0% Correct test: 63.0%\n",
      "Epoch: 170 Loss: 0.06018909625709057 Correct: 100.0% Correct test: 63.0%\n",
      "Epoch: 180 Loss: 0.04776491038501263 Correct: 100.0% Correct test: 63.0%\n",
      "Epoch: 190 Loss: 0.03863748628646135 Correct: 100.0% Correct test: 62.0%\n",
      "Epoch: 200 Loss: 0.03137176902964711 Correct: 100.0% Correct test: 63.0%\n",
      "Epoch: 210 Loss: 0.026137457229197025 Correct: 100.0% Correct test: 63.0%\n",
      "Epoch: 220 Loss: 0.0220287861302495 Correct: 100.0% Correct test: 64.0%\n",
      "Epoch: 230 Loss: 0.01878658914938569 Correct: 100.0% Correct test: 64.0%\n",
      "Epoch: 240 Loss: 0.016142523381859064 Correct: 100.0% Correct test: 64.0%\n",
      "Epoch: 250 Loss: 0.014019876485690475 Correct: 100.0% Correct test: 64.0%\n",
      "Epoch: 260 Loss: 0.012247591046616435 Correct: 100.0% Correct test: 64.0%\n",
      "Epoch: 270 Loss: 0.010817408561706543 Correct: 100.0% Correct test: 64.0%\n",
      "Epoch: 280 Loss: 0.009632239816710353 Correct: 100.0% Correct test: 64.0%\n",
      "Epoch: 290 Loss: 0.00851328601129353 Correct: 100.0% Correct test: 64.0%\n",
      "Epoch: 300 Loss: 0.00761965592391789 Correct: 100.0% Correct test: 64.0%\n",
      "Epoch: 310 Loss: 0.006813139072619379 Correct: 100.0% Correct test: 64.0%\n",
      "Epoch: 320 Loss: 0.0061467664781957865 Correct: 100.0% Correct test: 64.0%\n",
      "Epoch: 330 Loss: 0.005568064632825553 Correct: 100.0% Correct test: 64.0%\n",
      "Epoch: 340 Loss: 0.005057311966083944 Correct: 100.0% Correct test: 64.0%\n",
      "Epoch: 350 Loss: 0.004610154661349952 Correct: 100.0% Correct test: 64.0%\n",
      "Epoch: 360 Loss: 0.004222826799377799 Correct: 100.0% Correct test: 64.0%\n"
     ]
    },
    {
     "ename": "KeyboardInterrupt",
     "evalue": "",
     "output_type": "error",
     "traceback": [
      "\u001b[0;31m---------------------------------------------------------------------------\u001b[0m",
      "\u001b[0;31mKeyboardInterrupt\u001b[0m                         Traceback (most recent call last)",
      "\u001b[0;32m<ipython-input-15-c5df2c96852c>\u001b[0m in \u001b[0;36m<module>\u001b[0;34m()\u001b[0m\n\u001b[1;32m     23\u001b[0m \u001b[0;34m\u001b[0m\u001b[0m\n\u001b[1;32m     24\u001b[0m \u001b[0;34m\u001b[0m\u001b[0m\n\u001b[0;32m---> 25\u001b[0;31m         \u001b[0mout\u001b[0m\u001b[0;34m=\u001b[0m\u001b[0mnet\u001b[0m\u001b[0;34m(\u001b[0m\u001b[0mtrain_element\u001b[0m\u001b[0;34m)\u001b[0m\u001b[0;34m\u001b[0m\u001b[0m\n\u001b[0m\u001b[1;32m     26\u001b[0m         \u001b[0moutput_target\u001b[0m\u001b[0;34m[\u001b[0m\u001b[0mb\u001b[0m\u001b[0;34m:\u001b[0m\u001b[0mb\u001b[0m\u001b[0;34m+\u001b[0m\u001b[0mmini_batch_size\u001b[0m\u001b[0;34m]\u001b[0m\u001b[0;34m=\u001b[0m\u001b[0;34m(\u001b[0m\u001b[0mout\u001b[0m\u001b[0;34m[\u001b[0m\u001b[0;34m:\u001b[0m\u001b[0;34m,\u001b[0m\u001b[0;36m1\u001b[0m\u001b[0;34m]\u001b[0m\u001b[0;34m>\u001b[0m\u001b[0mout\u001b[0m\u001b[0;34m[\u001b[0m\u001b[0;34m:\u001b[0m\u001b[0;34m,\u001b[0m\u001b[0;36m0\u001b[0m\u001b[0;34m]\u001b[0m\u001b[0;34m)\u001b[0m\u001b[0;34m.\u001b[0m\u001b[0mdata\u001b[0m\u001b[0;34m\u001b[0m\u001b[0m\n\u001b[1;32m     27\u001b[0m \u001b[0;34m\u001b[0m\u001b[0m\n",
      "\u001b[0;32m/home/savare/anaconda3/lib/python3.6/site-packages/torch/nn/modules/module.py\u001b[0m in \u001b[0;36m__call__\u001b[0;34m(self, *input, **kwargs)\u001b[0m\n\u001b[1;32m    323\u001b[0m         \u001b[0;32mfor\u001b[0m \u001b[0mhook\u001b[0m \u001b[0;32min\u001b[0m \u001b[0mself\u001b[0m\u001b[0;34m.\u001b[0m\u001b[0m_forward_pre_hooks\u001b[0m\u001b[0;34m.\u001b[0m\u001b[0mvalues\u001b[0m\u001b[0;34m(\u001b[0m\u001b[0;34m)\u001b[0m\u001b[0;34m:\u001b[0m\u001b[0;34m\u001b[0m\u001b[0m\n\u001b[1;32m    324\u001b[0m             \u001b[0mhook\u001b[0m\u001b[0;34m(\u001b[0m\u001b[0mself\u001b[0m\u001b[0;34m,\u001b[0m \u001b[0minput\u001b[0m\u001b[0;34m)\u001b[0m\u001b[0;34m\u001b[0m\u001b[0m\n\u001b[0;32m--> 325\u001b[0;31m         \u001b[0mresult\u001b[0m \u001b[0;34m=\u001b[0m \u001b[0mself\u001b[0m\u001b[0;34m.\u001b[0m\u001b[0mforward\u001b[0m\u001b[0;34m(\u001b[0m\u001b[0;34m*\u001b[0m\u001b[0minput\u001b[0m\u001b[0;34m,\u001b[0m \u001b[0;34m**\u001b[0m\u001b[0mkwargs\u001b[0m\u001b[0;34m)\u001b[0m\u001b[0;34m\u001b[0m\u001b[0m\n\u001b[0m\u001b[1;32m    326\u001b[0m         \u001b[0;32mfor\u001b[0m \u001b[0mhook\u001b[0m \u001b[0;32min\u001b[0m \u001b[0mself\u001b[0m\u001b[0;34m.\u001b[0m\u001b[0m_forward_hooks\u001b[0m\u001b[0;34m.\u001b[0m\u001b[0mvalues\u001b[0m\u001b[0;34m(\u001b[0m\u001b[0;34m)\u001b[0m\u001b[0;34m:\u001b[0m\u001b[0;34m\u001b[0m\u001b[0m\n\u001b[1;32m    327\u001b[0m             \u001b[0mhook_result\u001b[0m \u001b[0;34m=\u001b[0m \u001b[0mhook\u001b[0m\u001b[0;34m(\u001b[0m\u001b[0mself\u001b[0m\u001b[0;34m,\u001b[0m \u001b[0minput\u001b[0m\u001b[0;34m,\u001b[0m \u001b[0mresult\u001b[0m\u001b[0;34m)\u001b[0m\u001b[0;34m\u001b[0m\u001b[0m\n",
      "\u001b[0;32m<ipython-input-12-f393a19a52a5>\u001b[0m in \u001b[0;36mforward\u001b[0;34m(self, x)\u001b[0m\n\u001b[1;32m     37\u001b[0m \u001b[0;34m\u001b[0m\u001b[0m\n\u001b[1;32m     38\u001b[0m     \u001b[0;32mdef\u001b[0m \u001b[0mforward\u001b[0m\u001b[0;34m(\u001b[0m\u001b[0mself\u001b[0m\u001b[0;34m,\u001b[0m\u001b[0mx\u001b[0m\u001b[0;34m)\u001b[0m\u001b[0;34m:\u001b[0m\u001b[0;34m\u001b[0m\u001b[0m\n\u001b[0;32m---> 39\u001b[0;31m         \u001b[0mx\u001b[0m\u001b[0;34m=\u001b[0m\u001b[0mself\u001b[0m\u001b[0;34m.\u001b[0m\u001b[0msequential\u001b[0m\u001b[0;34m(\u001b[0m\u001b[0mx\u001b[0m\u001b[0;34m)\u001b[0m\u001b[0;34m\u001b[0m\u001b[0m\n\u001b[0m\u001b[1;32m     40\u001b[0m \u001b[0;34m\u001b[0m\u001b[0m\n\u001b[1;32m     41\u001b[0m         \u001b[0;32mreturn\u001b[0m \u001b[0mx\u001b[0m\u001b[0;34m\u001b[0m\u001b[0m\n",
      "\u001b[0;32m/home/savare/anaconda3/lib/python3.6/site-packages/torch/nn/modules/module.py\u001b[0m in \u001b[0;36m__call__\u001b[0;34m(self, *input, **kwargs)\u001b[0m\n\u001b[1;32m    323\u001b[0m         \u001b[0;32mfor\u001b[0m \u001b[0mhook\u001b[0m \u001b[0;32min\u001b[0m \u001b[0mself\u001b[0m\u001b[0;34m.\u001b[0m\u001b[0m_forward_pre_hooks\u001b[0m\u001b[0;34m.\u001b[0m\u001b[0mvalues\u001b[0m\u001b[0;34m(\u001b[0m\u001b[0;34m)\u001b[0m\u001b[0;34m:\u001b[0m\u001b[0;34m\u001b[0m\u001b[0m\n\u001b[1;32m    324\u001b[0m             \u001b[0mhook\u001b[0m\u001b[0;34m(\u001b[0m\u001b[0mself\u001b[0m\u001b[0;34m,\u001b[0m \u001b[0minput\u001b[0m\u001b[0;34m)\u001b[0m\u001b[0;34m\u001b[0m\u001b[0m\n\u001b[0;32m--> 325\u001b[0;31m         \u001b[0mresult\u001b[0m \u001b[0;34m=\u001b[0m \u001b[0mself\u001b[0m\u001b[0;34m.\u001b[0m\u001b[0mforward\u001b[0m\u001b[0;34m(\u001b[0m\u001b[0;34m*\u001b[0m\u001b[0minput\u001b[0m\u001b[0;34m,\u001b[0m \u001b[0;34m**\u001b[0m\u001b[0mkwargs\u001b[0m\u001b[0;34m)\u001b[0m\u001b[0;34m\u001b[0m\u001b[0m\n\u001b[0m\u001b[1;32m    326\u001b[0m         \u001b[0;32mfor\u001b[0m \u001b[0mhook\u001b[0m \u001b[0;32min\u001b[0m \u001b[0mself\u001b[0m\u001b[0;34m.\u001b[0m\u001b[0m_forward_hooks\u001b[0m\u001b[0;34m.\u001b[0m\u001b[0mvalues\u001b[0m\u001b[0;34m(\u001b[0m\u001b[0;34m)\u001b[0m\u001b[0;34m:\u001b[0m\u001b[0;34m\u001b[0m\u001b[0m\n\u001b[1;32m    327\u001b[0m             \u001b[0mhook_result\u001b[0m \u001b[0;34m=\u001b[0m \u001b[0mhook\u001b[0m\u001b[0;34m(\u001b[0m\u001b[0mself\u001b[0m\u001b[0;34m,\u001b[0m \u001b[0minput\u001b[0m\u001b[0;34m,\u001b[0m \u001b[0mresult\u001b[0m\u001b[0;34m)\u001b[0m\u001b[0;34m\u001b[0m\u001b[0m\n",
      "\u001b[0;32m/home/savare/anaconda3/lib/python3.6/site-packages/torch/nn/modules/container.py\u001b[0m in \u001b[0;36mforward\u001b[0;34m(self, input)\u001b[0m\n\u001b[1;32m     65\u001b[0m     \u001b[0;32mdef\u001b[0m \u001b[0mforward\u001b[0m\u001b[0;34m(\u001b[0m\u001b[0mself\u001b[0m\u001b[0;34m,\u001b[0m \u001b[0minput\u001b[0m\u001b[0;34m)\u001b[0m\u001b[0;34m:\u001b[0m\u001b[0;34m\u001b[0m\u001b[0m\n\u001b[1;32m     66\u001b[0m         \u001b[0;32mfor\u001b[0m \u001b[0mmodule\u001b[0m \u001b[0;32min\u001b[0m \u001b[0mself\u001b[0m\u001b[0;34m.\u001b[0m\u001b[0m_modules\u001b[0m\u001b[0;34m.\u001b[0m\u001b[0mvalues\u001b[0m\u001b[0;34m(\u001b[0m\u001b[0;34m)\u001b[0m\u001b[0;34m:\u001b[0m\u001b[0;34m\u001b[0m\u001b[0m\n\u001b[0;32m---> 67\u001b[0;31m             \u001b[0minput\u001b[0m \u001b[0;34m=\u001b[0m \u001b[0mmodule\u001b[0m\u001b[0;34m(\u001b[0m\u001b[0minput\u001b[0m\u001b[0;34m)\u001b[0m\u001b[0;34m\u001b[0m\u001b[0m\n\u001b[0m\u001b[1;32m     68\u001b[0m         \u001b[0;32mreturn\u001b[0m \u001b[0minput\u001b[0m\u001b[0;34m\u001b[0m\u001b[0m\n\u001b[1;32m     69\u001b[0m \u001b[0;34m\u001b[0m\u001b[0m\n",
      "\u001b[0;32m/home/savare/anaconda3/lib/python3.6/site-packages/torch/nn/modules/module.py\u001b[0m in \u001b[0;36m__call__\u001b[0;34m(self, *input, **kwargs)\u001b[0m\n\u001b[1;32m    323\u001b[0m         \u001b[0;32mfor\u001b[0m \u001b[0mhook\u001b[0m \u001b[0;32min\u001b[0m \u001b[0mself\u001b[0m\u001b[0;34m.\u001b[0m\u001b[0m_forward_pre_hooks\u001b[0m\u001b[0;34m.\u001b[0m\u001b[0mvalues\u001b[0m\u001b[0;34m(\u001b[0m\u001b[0;34m)\u001b[0m\u001b[0;34m:\u001b[0m\u001b[0;34m\u001b[0m\u001b[0m\n\u001b[1;32m    324\u001b[0m             \u001b[0mhook\u001b[0m\u001b[0;34m(\u001b[0m\u001b[0mself\u001b[0m\u001b[0;34m,\u001b[0m \u001b[0minput\u001b[0m\u001b[0;34m)\u001b[0m\u001b[0;34m\u001b[0m\u001b[0m\n\u001b[0;32m--> 325\u001b[0;31m         \u001b[0mresult\u001b[0m \u001b[0;34m=\u001b[0m \u001b[0mself\u001b[0m\u001b[0;34m.\u001b[0m\u001b[0mforward\u001b[0m\u001b[0;34m(\u001b[0m\u001b[0;34m*\u001b[0m\u001b[0minput\u001b[0m\u001b[0;34m,\u001b[0m \u001b[0;34m**\u001b[0m\u001b[0mkwargs\u001b[0m\u001b[0;34m)\u001b[0m\u001b[0;34m\u001b[0m\u001b[0m\n\u001b[0m\u001b[1;32m    326\u001b[0m         \u001b[0;32mfor\u001b[0m \u001b[0mhook\u001b[0m \u001b[0;32min\u001b[0m \u001b[0mself\u001b[0m\u001b[0;34m.\u001b[0m\u001b[0m_forward_hooks\u001b[0m\u001b[0;34m.\u001b[0m\u001b[0mvalues\u001b[0m\u001b[0;34m(\u001b[0m\u001b[0;34m)\u001b[0m\u001b[0;34m:\u001b[0m\u001b[0;34m\u001b[0m\u001b[0m\n\u001b[1;32m    327\u001b[0m             \u001b[0mhook_result\u001b[0m \u001b[0;34m=\u001b[0m \u001b[0mhook\u001b[0m\u001b[0;34m(\u001b[0m\u001b[0mself\u001b[0m\u001b[0;34m,\u001b[0m \u001b[0minput\u001b[0m\u001b[0;34m,\u001b[0m \u001b[0mresult\u001b[0m\u001b[0;34m)\u001b[0m\u001b[0;34m\u001b[0m\u001b[0m\n",
      "\u001b[0;32m/home/savare/anaconda3/lib/python3.6/site-packages/torch/nn/modules/activation.py\u001b[0m in \u001b[0;36mforward\u001b[0;34m(self, input)\u001b[0m\n\u001b[1;32m     41\u001b[0m \u001b[0;34m\u001b[0m\u001b[0m\n\u001b[1;32m     42\u001b[0m     \u001b[0;32mdef\u001b[0m \u001b[0mforward\u001b[0m\u001b[0;34m(\u001b[0m\u001b[0mself\u001b[0m\u001b[0;34m,\u001b[0m \u001b[0minput\u001b[0m\u001b[0;34m)\u001b[0m\u001b[0;34m:\u001b[0m\u001b[0;34m\u001b[0m\u001b[0m\n\u001b[0;32m---> 43\u001b[0;31m         \u001b[0;32mreturn\u001b[0m \u001b[0mF\u001b[0m\u001b[0;34m.\u001b[0m\u001b[0mthreshold\u001b[0m\u001b[0;34m(\u001b[0m\u001b[0minput\u001b[0m\u001b[0;34m,\u001b[0m \u001b[0mself\u001b[0m\u001b[0;34m.\u001b[0m\u001b[0mthreshold\u001b[0m\u001b[0;34m,\u001b[0m \u001b[0mself\u001b[0m\u001b[0;34m.\u001b[0m\u001b[0mvalue\u001b[0m\u001b[0;34m,\u001b[0m \u001b[0mself\u001b[0m\u001b[0;34m.\u001b[0m\u001b[0minplace\u001b[0m\u001b[0;34m)\u001b[0m\u001b[0;34m\u001b[0m\u001b[0m\n\u001b[0m\u001b[1;32m     44\u001b[0m \u001b[0;34m\u001b[0m\u001b[0m\n\u001b[1;32m     45\u001b[0m     \u001b[0;32mdef\u001b[0m \u001b[0m__repr__\u001b[0m\u001b[0;34m(\u001b[0m\u001b[0mself\u001b[0m\u001b[0;34m)\u001b[0m\u001b[0;34m:\u001b[0m\u001b[0;34m\u001b[0m\u001b[0m\n",
      "\u001b[0;31mKeyboardInterrupt\u001b[0m: "
     ]
    }
   ],
   "source": [
    "net=CNN2D()\n",
    "\n",
    "optimizer = optim.SGD(net.parameters(), lr=1)\n",
    "optimizer = optim.Adam(net.parameters(), lr=0.0001,weight_decay=0)\n",
    "\n",
    "\n",
    "criterion=nn.CrossEntropyLoss()\n",
    "mini_batch_size=79\n",
    "\n",
    "for epoch in range(1001):\n",
    "    \n",
    "    total_loss=0\n",
    "    output_target=torch.zeros(target.shape[0])\n",
    "    for b in range(0,train_dataset.shape[0],mini_batch_size):\n",
    "        \n",
    "        \n",
    "        train_element=train_dataset.narrow(0,b,mini_batch_size)\n",
    "#         train_element=train_element.view(1,28,-1)\n",
    "        \n",
    "        target_element=target.narrow(0,b,mini_batch_size)\n",
    "        \n",
    "        optimizer.zero_grad()\n",
    "        \n",
    "\n",
    "        out=net(train_element)\n",
    "        output_target[b:b+mini_batch_size]=(out[:,1]>out[:,0]).data\n",
    "        \n",
    "        loss=criterion(out,target_element)\n",
    "        loss.backward()\n",
    "        optimizer.step()\n",
    "        total_loss+=loss.data[0]\n",
    "        \n",
    "    output_test=torch.zeros(test_target.shape[0])\n",
    "    out=net(test_dataset)\n",
    "    output_test=(out[:,1]>out[:,0]).data.long()\n",
    "        \n",
    "    \n",
    "#     print(type(output_test))\n",
    "        \n",
    "    error_train=np.sum(list(output_target.long()==target.data))/target.shape[0]\n",
    "    error_test=np.sum(list(output_test==test_target.data))/test_target.shape[0]\n",
    "    if epoch%10==0:\n",
    "        print('Epoch:',epoch,'Loss:',total_loss,'Correct:',str(error_train*100)[:5]+\"%\",\n",
    "             'Correct test:',str(error_test*100)[:5]+\"%\")"
   ]
  },
  {
   "cell_type": "code",
   "execution_count": null,
   "metadata": {
    "collapsed": true,
    "scrolled": true
   },
   "outputs": [],
   "source": [
    "79*720"
   ]
  },
  {
   "cell_type": "code",
   "execution_count": 105,
   "metadata": {},
   "outputs": [
    {
     "data": {
      "text/plain": [
       "72000"
      ]
     },
     "execution_count": 105,
     "metadata": {},
     "output_type": "execute_result"
    }
   ],
   "source": [
    "360*200"
   ]
  },
  {
   "cell_type": "code",
   "execution_count": null,
   "metadata": {
    "collapsed": true
   },
   "outputs": [],
   "source": []
  }
 ],
 "metadata": {
  "kernelspec": {
   "display_name": "Python 3",
   "language": "python",
   "name": "python3"
  },
  "language_info": {
   "codemirror_mode": {
    "name": "ipython",
    "version": 3
   },
   "file_extension": ".py",
   "mimetype": "text/x-python",
   "name": "python",
   "nbconvert_exporter": "python",
   "pygments_lexer": "ipython3",
   "version": "3.6.1"
  }
 },
 "nbformat": 4,
 "nbformat_minor": 2
}
