{
 "cells": [
  {
   "cell_type": "markdown",
   "metadata": {},
   "source": [
    "In this notebook we will use the nn class **Sequential** to model a CNN"
   ]
  },
  {
   "cell_type": "markdown",
   "metadata": {},
   "source": [
    "We will use the single target network"
   ]
  },
  {
   "cell_type": "markdown",
   "metadata": {},
   "source": [
    "# Import"
   ]
  },
  {
   "cell_type": "code",
   "execution_count": 2,
   "metadata": {
    "ExecuteTime": {
     "end_time": "2018-04-29T15:45:48.039674Z",
     "start_time": "2018-04-29T15:45:46.586434Z"
    },
    "collapsed": true
   },
   "outputs": [],
   "source": [
    "import torch\n",
    "import numpy as np\n",
    "import matplotlib.pyplot as plt\n",
    "from torch.autograd import Variable\n",
    "\n",
    "import torch.nn as nn\n",
    "import torch.nn.functional as F\n",
    "\n",
    "import torch.optim as optim\n",
    "from torch.optim.lr_scheduler import StepLR\n",
    "\n",
    "from sklearn.model_selection import KFold\n",
    "\n",
    "from tqdm import tqdm\n",
    "\n",
    "import load_script\n",
    "from params import *\n",
    "from custom_layers import *\n",
    "from training import *\n",
    "from networks import *\n",
    "\n",
    "from utilities import *\n",
    "from parse_dataset import *"
   ]
  },
  {
   "cell_type": "code",
   "execution_count": 3,
   "metadata": {
    "ExecuteTime": {
     "end_time": "2018-04-29T15:45:48.086364Z",
     "start_time": "2018-04-29T15:45:48.065870Z"
    },
    "collapsed": true
   },
   "outputs": [],
   "source": [
    "%load_ext autoreload\n",
    "%autoreload 2"
   ]
  },
  {
   "cell_type": "markdown",
   "metadata": {},
   "source": [
    "# Loading the dataset"
   ]
  },
  {
   "cell_type": "code",
   "execution_count": 4,
   "metadata": {
    "collapsed": false
   },
   "outputs": [
    {
     "name": "stdout",
     "output_type": "stream",
     "text": [
      "Reading data from /home/stefano/EEG//\n",
      "Reading data from /home/stefano/EEG//stored//\n",
      "Reading data from /home/stefano/EEG//__pycache__//\n",
      "Reading data from /home/stefano/EEG//data//\n",
      "Reading data from /home/stefano/EEG//stefano//\n",
      "Reading data from /home/stefano/EEG//stefano//__pycache__//\n",
      "Reading data from /home/stefano/EEG//stefano//notebook//\n"
     ]
    }
   ],
   "source": [
    "folder=Dataset(base_directory='/home/stefano/',dataset='eeg')"
   ]
  },
  {
   "cell_type": "code",
   "execution_count": 5,
   "metadata": {
    "collapsed": true
   },
   "outputs": [],
   "source": [
    "# train_dataset,train_target=load_script.load_dataset_1000hz(train=True)"
   ]
  },
  {
   "cell_type": "code",
   "execution_count": 61,
   "metadata": {
    "collapsed": true
   },
   "outputs": [],
   "source": [
    "# test_dataset,test_target=load_script.load_dataset_1000hz(train=False)"
   ]
  },
  {
   "cell_type": "code",
   "execution_count": 62,
   "metadata": {
    "ExecuteTime": {
     "end_time": "2018-04-29T15:45:48.583592Z",
     "start_time": "2018-04-29T15:45:48.088414Z"
    },
    "collapsed": true
   },
   "outputs": [],
   "source": [
    "train_dataset,train_target=load_script.load_dataset(train=True)"
   ]
  },
  {
   "cell_type": "code",
   "execution_count": 63,
   "metadata": {
    "ExecuteTime": {
     "end_time": "2018-04-29T15:45:48.754805Z",
     "start_time": "2018-04-29T15:45:48.585273Z"
    },
    "collapsed": true
   },
   "outputs": [],
   "source": [
    "test_dataset,test_target=load_script.load_dataset(train=False)"
   ]
  },
  {
   "cell_type": "markdown",
   "metadata": {},
   "source": [
    "# Shuffling training testing"
   ]
  },
  {
   "cell_type": "code",
   "execution_count": 51,
   "metadata": {
    "collapsed": false
   },
   "outputs": [],
   "source": [
    "dataset=torch.cat((train_dataset.data,test_dataset.data),0)\n",
    "target=torch.cat((train_target.data,test_target.data),0)"
   ]
  },
  {
   "cell_type": "code",
   "execution_count": 52,
   "metadata": {
    "collapsed": false
   },
   "outputs": [],
   "source": [
    "permutations=torch.randperm(dataset.shape[0])"
   ]
  },
  {
   "cell_type": "code",
   "execution_count": 53,
   "metadata": {
    "collapsed": true
   },
   "outputs": [],
   "source": [
    "dataset=dataset[permutations]\n",
    "target=target[permutations]"
   ]
  },
  {
   "cell_type": "code",
   "execution_count": 54,
   "metadata": {
    "collapsed": true
   },
   "outputs": [],
   "source": [
    "train_dataset=Variable(dataset[:316])\n",
    "train_target=Variable(target[:316])\n",
    "test_dataset=Variable(dataset[316:])\n",
    "test_target=Variable(target[316:])"
   ]
  },
  {
   "cell_type": "markdown",
   "metadata": {},
   "source": [
    "# Normalization"
   ]
  },
  {
   "cell_type": "code",
   "execution_count": 64,
   "metadata": {
    "collapsed": false,
    "scrolled": true
   },
   "outputs": [
    {
     "data": {
      "text/plain": [
       "torch.Size([316, 28, 50])"
      ]
     },
     "execution_count": 64,
     "metadata": {},
     "output_type": "execute_result"
    }
   ],
   "source": [
    "train_dataset.shape"
   ]
  },
  {
   "cell_type": "code",
   "execution_count": 65,
   "metadata": {
    "ExecuteTime": {
     "end_time": "2018-04-29T15:45:48.828631Z",
     "start_time": "2018-04-29T15:45:48.814246Z"
    },
    "collapsed": false,
    "scrolled": true
   },
   "outputs": [
    {
     "data": {
      "text/plain": [
       "torch.Size([100, 28, 50])"
      ]
     },
     "execution_count": 65,
     "metadata": {},
     "output_type": "execute_result"
    }
   ],
   "source": [
    "test_dataset.shape"
   ]
  },
  {
   "cell_type": "code",
   "execution_count": 66,
   "metadata": {
    "ExecuteTime": {
     "end_time": "2018-04-29T15:45:49.133752Z",
     "start_time": "2018-04-29T15:45:49.109222Z"
    },
    "collapsed": true
   },
   "outputs": [],
   "source": [
    "mean=train_dataset.mean(0).mean(1).view(1,28,1)\n",
    "std=train_dataset.std(2).mean(0).view(1,28,1)"
   ]
  },
  {
   "cell_type": "code",
   "execution_count": 67,
   "metadata": {
    "ExecuteTime": {
     "end_time": "2018-04-29T15:45:49.557152Z",
     "start_time": "2018-04-29T15:45:49.525799Z"
    },
    "collapsed": true,
    "scrolled": true
   },
   "outputs": [],
   "source": [
    "train_dataset=(train_dataset-mean)/std\n",
    "test_dataset=(test_dataset-mean)/std"
   ]
  },
  {
   "cell_type": "markdown",
   "metadata": {},
   "source": [
    "# Defining the network"
   ]
  },
  {
   "cell_type": "markdown",
   "metadata": {},
   "source": [
    "### Simple Network"
   ]
  },
  {
   "cell_type": "markdown",
   "metadata": {},
   "source": [
    "# Training"
   ]
  },
  {
   "cell_type": "code",
   "execution_count": 68,
   "metadata": {
    "collapsed": false
   },
   "outputs": [
    {
     "data": {
      "text/plain": [
       "[<training.ExperimentCrossValidation at 0x7fa4478f2c88>,\n",
       " <training.ExperimentCrossValidation at 0x7fa4477eaef0>,\n",
       " <training.ExperimentCrossValidation at 0x7fa447e9f7b8>]"
      ]
     },
     "execution_count": 68,
     "metadata": {},
     "output_type": "execute_result"
    }
   ],
   "source": [
    "cv.result._experiments"
   ]
  },
  {
   "cell_type": "code",
   "execution_count": null,
   "metadata": {
    "collapsed": false,
    "scrolled": false
   },
   "outputs": [
    {
     "name": "stderr",
     "output_type": "stream",
     "text": [
      "  3%|▎         | 8/300 [00:00<00:03, 74.28it/s]"
     ]
    },
    {
     "name": "stdout",
     "output_type": "stream",
     "text": [
      "FourCNNLayers(\n",
      "  (sequential): Sequential(\n",
      "    (0): Conv1d(28, 28, kernel_size=(3,), stride=(1,))\n",
      "    (1): BatchNorm1d(28, eps=1e-05, momentum=0.1, affine=True)\n",
      "    (2): ReLU()\n",
      "    (3): Dropout(p=0)\n",
      "    (4): Conv1d(28, 28, kernel_size=(3,), stride=(1,))\n",
      "    (5): BatchNorm1d(28, eps=1e-05, momentum=0.1, affine=True)\n",
      "    (6): ReLU()\n",
      "    (7): Dropout(p=0)\n",
      "    (8): Conv1d(28, 28, kernel_size=(3,), stride=(1,))\n",
      "    (9): BatchNorm1d(28, eps=1e-05, momentum=0.1, affine=True)\n",
      "    (10): ReLU()\n",
      "    (11): Dropout(p=0)\n",
      "    (12): Conv1d(28, 28, kernel_size=(3,), stride=(1,))\n",
      "    (13): BatchNorm1d(28, eps=1e-05, momentum=0.1, affine=True)\n",
      "    (14): ReLU()\n",
      "    (15): Dropout(p=0)\n",
      "    (16): Flatten(\n",
      "    )\n",
      "    (17): Linear(in_features=1176, out_features=200, bias=True)\n",
      "    (18): ReLU()\n",
      "    (19): Linear(in_features=200, out_features=2, bias=True)\n",
      "  )\n",
      ")\n",
      "Repetition 0\n"
     ]
    },
    {
     "name": "stderr",
     "output_type": "stream",
     "text": [
      "100%|██████████| 300/300 [00:04<00:00, 75.07it/s]\n",
      "100%|██████████| 300/300 [00:04<00:00, 67.93it/s]\n",
      "100%|██████████| 300/300 [00:04<00:00, 74.28it/s]\n",
      "100%|██████████| 300/300 [00:05<00:00, 54.81it/s]\n",
      "100%|██████████| 300/300 [00:05<00:00, 57.57it/s]\n",
      "100%|██████████| 300/300 [00:05<00:00, 57.84it/s]\n",
      "100%|██████████| 300/300 [00:05<00:00, 57.35it/s]\n",
      "100%|██████████| 300/300 [00:05<00:00, 57.43it/s]\n"
     ]
    },
    {
     "data": {
      "image/png": "[encoded data removed]",
      "text/plain": [
       "<matplotlib.figure.Figure at 0x7fa43e420ef0>"
      ]
     },
     "metadata": {},
     "output_type": "display_data"
    },
    {
     "name": "stdout",
     "output_type": "stream",
     "text": [
      "Performance train: 4.2194092827e-05\n",
      "Performance validation: 0.257257383966\n",
      "Performance test: 0.173666666667\n"
     ]
    },
    {
     "name": "stderr",
     "output_type": "stream",
     "text": [
      "  3%|▎         | 8/300 [00:00<00:03, 73.33it/s]"
     ]
    },
    {
     "name": "stdout",
     "output_type": "stream",
     "text": [
      "FourCNNLayers(\n",
      "  (sequential): Sequential(\n",
      "    (0): Conv1d(28, 28, kernel_size=(3,), stride=(1,))\n",
      "    (1): BatchNorm1d(28, eps=1e-05, momentum=0.1, affine=True)\n",
      "    (2): ReLU()\n",
      "    (3): Dropout(p=0)\n",
      "    (4): Conv1d(28, 28, kernel_size=(3,), stride=(1,))\n",
      "    (5): BatchNorm1d(28, eps=1e-05, momentum=0.1, affine=True)\n",
      "    (6): ReLU()\n",
      "    (7): Dropout(p=0)\n",
      "    (8): Conv1d(28, 28, kernel_size=(3,), stride=(1,))\n",
      "    (9): BatchNorm1d(28, eps=1e-05, momentum=0.1, affine=True)\n",
      "    (10): ReLU()\n",
      "    (11): Dropout(p=0)\n",
      "    (12): Conv1d(28, 28, kernel_size=(3,), stride=(1,))\n",
      "    (13): BatchNorm1d(28, eps=1e-05, momentum=0.1, affine=True)\n",
      "    (14): ReLU()\n",
      "    (15): Dropout(p=0)\n",
      "    (16): Flatten(\n",
      "    )\n",
      "    (17): Linear(in_features=1176, out_features=200, bias=True)\n",
      "    (18): ReLU()\n",
      "    (19): Linear(in_features=200, out_features=2, bias=True)\n",
      "  )\n",
      ")\n",
      "Repetition 0\n"
     ]
    },
    {
     "name": "stderr",
     "output_type": "stream",
     "text": [
      "100%|██████████| 300/300 [00:04<00:00, 73.81it/s]\n",
      "100%|██████████| 300/300 [00:04<00:00, 74.67it/s]\n",
      "100%|██████████| 300/300 [00:04<00:00, 74.90it/s]\n",
      "100%|██████████| 300/300 [00:03<00:00, 75.48it/s]\n",
      "100%|██████████| 300/300 [00:05<00:00, 58.37it/s]\n",
      "100%|██████████| 300/300 [00:06<00:00, 48.75it/s]\n",
      "100%|██████████| 300/300 [00:05<00:00, 56.64it/s]\n",
      "100%|██████████| 300/300 [00:05<00:00, 58.33it/s]\n"
     ]
    },
    {
     "data": {
      "image/png": "[encoded data removed]",
      "text/plain": [
       "<matplotlib.figure.Figure at 0x7fa43e420dd8>"
      ]
     },
     "metadata": {},
     "output_type": "display_data"
    },
    {
     "name": "stdout",
     "output_type": "stream",
     "text": [
      "Performance train: 4.2194092827e-05\n",
      "Performance validation: 0.256033755274\n",
      "Performance test: 0.194966666667\n"
     ]
    },
    {
     "name": "stderr",
     "output_type": "stream",
     "text": [
      "  3%|▎         | 8/300 [00:00<00:03, 73.19it/s]"
     ]
    },
    {
     "name": "stdout",
     "output_type": "stream",
     "text": [
      "FourCNNLayers(\n",
      "  (sequential): Sequential(\n",
      "    (0): Conv1d(28, 28, kernel_size=(3,), stride=(1,))\n",
      "    (1): BatchNorm1d(28, eps=1e-05, momentum=0.1, affine=True)\n",
      "    (2): ReLU()\n",
      "    (3): Dropout(p=0)\n",
      "    (4): Conv1d(28, 28, kernel_size=(3,), stride=(1,))\n",
      "    (5): BatchNorm1d(28, eps=1e-05, momentum=0.1, affine=True)\n",
      "    (6): ReLU()\n",
      "    (7): Dropout(p=0)\n",
      "    (8): Conv1d(28, 28, kernel_size=(3,), stride=(1,))\n",
      "    (9): BatchNorm1d(28, eps=1e-05, momentum=0.1, affine=True)\n",
      "    (10): ReLU()\n",
      "    (11): Dropout(p=0)\n",
      "    (12): Conv1d(28, 28, kernel_size=(3,), stride=(1,))\n",
      "    (13): BatchNorm1d(28, eps=1e-05, momentum=0.1, affine=True)\n",
      "    (14): ReLU()\n",
      "    (15): Dropout(p=0)\n",
      "    (16): Flatten(\n",
      "    )\n",
      "    (17): Linear(in_features=1176, out_features=200, bias=True)\n",
      "    (18): ReLU()\n",
      "    (19): Linear(in_features=200, out_features=2, bias=True)\n",
      "  )\n",
      ")\n",
      "Repetition 0\n"
     ]
    },
    {
     "name": "stderr",
     "output_type": "stream",
     "text": [
      "100%|██████████| 300/300 [00:04<00:00, 73.34it/s]\n",
      "100%|██████████| 300/300 [00:04<00:00, 73.97it/s]\n",
      "100%|██████████| 300/300 [00:04<00:00, 74.02it/s]\n",
      "100%|██████████| 300/300 [00:04<00:00, 74.96it/s]\n",
      "100%|██████████| 300/300 [00:05<00:00, 57.34it/s]\n",
      "100%|██████████| 300/300 [00:06<00:00, 44.79it/s]\n",
      "100%|██████████| 300/300 [00:05<00:00, 57.42it/s]\n",
      "100%|██████████| 300/300 [00:05<00:00, 57.54it/s]\n"
     ]
    },
    {
     "data": {
      "image/png": "[encoded data removed]",
      "text/plain": [
       "<matplotlib.figure.Figure at 0x7fa447ebd940>"
      ]
     },
     "metadata": {},
     "output_type": "display_data"
    },
    {
     "name": "stdout",
     "output_type": "stream",
     "text": [
      "Performance train: 0.00143459915612\n",
      "Performance validation: 0.192025316456\n",
      "Performance test: 0.2486\n"
     ]
    },
    {
     "name": "stderr",
     "output_type": "stream",
     "text": [
      "  2%|▏         | 7/300 [00:00<00:04, 69.74it/s]"
     ]
    },
    {
     "name": "stdout",
     "output_type": "stream",
     "text": [
      "FourCNNLayers(\n",
      "  (sequential): Sequential(\n",
      "    (0): Conv1d(28, 28, kernel_size=(3,), stride=(1,))\n",
      "    (1): BatchNorm1d(28, eps=1e-05, momentum=0.1, affine=True)\n",
      "    (2): ReLU()\n",
      "    (3): Dropout(p=0)\n",
      "    (4): Conv1d(28, 28, kernel_size=(3,), stride=(1,))\n",
      "    (5): BatchNorm1d(28, eps=1e-05, momentum=0.1, affine=True)\n",
      "    (6): ReLU()\n",
      "    (7): Dropout(p=0)\n",
      "    (8): Conv1d(28, 28, kernel_size=(3,), stride=(1,))\n",
      "    (9): BatchNorm1d(28, eps=1e-05, momentum=0.1, affine=True)\n",
      "    (10): ReLU()\n",
      "    (11): Dropout(p=0)\n",
      "    (12): Conv1d(28, 28, kernel_size=(3,), stride=(1,))\n",
      "    (13): BatchNorm1d(28, eps=1e-05, momentum=0.1, affine=True)\n",
      "    (14): ReLU()\n",
      "    (15): Dropout(p=0)\n",
      "    (16): Flatten(\n",
      "    )\n",
      "    (17): Linear(in_features=1176, out_features=200, bias=True)\n",
      "    (18): ReLU()\n",
      "    (19): Linear(in_features=200, out_features=2, bias=True)\n",
      "  )\n",
      ")\n",
      "Repetition 0\n"
     ]
    },
    {
     "name": "stderr",
     "output_type": "stream",
     "text": [
      "100%|██████████| 300/300 [00:04<00:00, 71.87it/s]\n",
      "100%|██████████| 300/300 [00:04<00:00, 72.66it/s]\n",
      "100%|██████████| 300/300 [00:04<00:00, 72.58it/s]\n",
      "100%|██████████| 300/300 [00:04<00:00, 73.25it/s]\n",
      "100%|██████████| 300/300 [00:05<00:00, 53.78it/s]\n",
      "100%|██████████| 300/300 [00:05<00:00, 53.03it/s]\n",
      "100%|██████████| 300/300 [00:05<00:00, 55.91it/s]\n",
      "100%|██████████| 300/300 [00:06<00:00, 25.30it/s]\n"
     ]
    },
    {
     "data": {
      "image/png": "[encoded data removed]",
      "text/plain": [
       "<matplotlib.figure.Figure at 0x7fa43f5bd9b0>"
      ]
     },
     "metadata": {},
     "output_type": "display_data"
    },
    {
     "name": "stdout",
     "output_type": "stream",
     "text": [
      "Performance train: 0.000323488045007\n",
      "Performance validation: 0.222700421941\n",
      "Performance test: 0.241833333333\n"
     ]
    },
    {
     "name": "stderr",
     "output_type": "stream",
     "text": [
      "  1%|▏         | 4/300 [00:00<00:07, 37.75it/s]"
     ]
    },
    {
     "name": "stdout",
     "output_type": "stream",
     "text": [
      "FourCNNLayers(\n",
      "  (sequential): Sequential(\n",
      "    (0): Conv1d(28, 28, kernel_size=(3,), stride=(1,))\n",
      "    (1): BatchNorm1d(28, eps=1e-05, momentum=0.1, affine=True)\n",
      "    (2): ReLU()\n",
      "    (3): Dropout(p=0)\n",
      "    (4): Conv1d(28, 28, kernel_size=(3,), stride=(1,))\n",
      "    (5): BatchNorm1d(28, eps=1e-05, momentum=0.1, affine=True)\n",
      "    (6): ReLU()\n",
      "    (7): Dropout(p=0)\n",
      "    (8): Conv1d(28, 28, kernel_size=(3,), stride=(1,))\n",
      "    (9): BatchNorm1d(28, eps=1e-05, momentum=0.1, affine=True)\n",
      "    (10): ReLU()\n",
      "    (11): Dropout(p=0)\n",
      "    (12): Conv1d(28, 28, kernel_size=(3,), stride=(1,))\n",
      "    (13): BatchNorm1d(28, eps=1e-05, momentum=0.1, affine=True)\n",
      "    (14): ReLU()\n",
      "    (15): Dropout(p=0)\n",
      "    (16): Flatten(\n",
      "    )\n",
      "    (17): Linear(in_features=1176, out_features=200, bias=True)\n",
      "    (18): ReLU()\n",
      "    (19): Linear(in_features=200, out_features=2, bias=True)\n",
      "  )\n",
      ")\n",
      "Repetition 0\n"
     ]
    },
    {
     "name": "stderr",
     "output_type": "stream",
     "text": [
      "100%|██████████| 300/300 [00:06<00:00, 45.20it/s]\n",
      "100%|██████████| 300/300 [00:05<00:00, 47.00it/s]\n",
      "100%|██████████| 300/300 [00:04<00:00, 67.63it/s]\n",
      "100%|██████████| 300/300 [00:04<00:00, 74.15it/s]\n",
      "100%|██████████| 300/300 [00:05<00:00, 55.33it/s]\n",
      "100%|██████████| 300/300 [00:05<00:00, 58.27it/s]\n",
      "100%|██████████| 300/300 [00:05<00:00, 49.17it/s]\n",
      "100%|██████████| 300/300 [00:06<00:00, 53.52it/s]\n"
     ]
    },
    {
     "data": {
      "image/png": "[encoded data removed]",
      "text/plain": [
       "<matplotlib.figure.Figure at 0x7fa4479d44e0>"
      ]
     },
     "metadata": {},
     "output_type": "display_data"
    },
    {
     "name": "stdout",
     "output_type": "stream",
     "text": [
      "Performance train: 7.0323488045e-05\n",
      "Performance validation: 0.209915611814\n",
      "Performance test: 0.203833333333\n"
     ]
    },
    {
     "name": "stderr",
     "output_type": "stream",
     "text": [
      "  3%|▎         | 8/300 [00:00<00:04, 72.62it/s]"
     ]
    },
    {
     "name": "stdout",
     "output_type": "stream",
     "text": [
      "FourCNNLayers(\n",
      "  (sequential): Sequential(\n",
      "    (0): Conv1d(28, 28, kernel_size=(3,), stride=(1,))\n",
      "    (1): BatchNorm1d(28, eps=1e-05, momentum=0.1, affine=True)\n",
      "    (2): ReLU()\n",
      "    (3): Dropout(p=0)\n",
      "    (4): Conv1d(28, 28, kernel_size=(3,), stride=(1,))\n",
      "    (5): BatchNorm1d(28, eps=1e-05, momentum=0.1, affine=True)\n",
      "    (6): ReLU()\n",
      "    (7): Dropout(p=0)\n",
      "    (8): Conv1d(28, 28, kernel_size=(3,), stride=(1,))\n",
      "    (9): BatchNorm1d(28, eps=1e-05, momentum=0.1, affine=True)\n",
      "    (10): ReLU()\n",
      "    (11): Dropout(p=0)\n",
      "    (12): Conv1d(28, 28, kernel_size=(3,), stride=(1,))\n",
      "    (13): BatchNorm1d(28, eps=1e-05, momentum=0.1, affine=True)\n",
      "    (14): ReLU()\n",
      "    (15): Dropout(p=0)\n",
      "    (16): Flatten(\n",
      "    )\n",
      "    (17): Linear(in_features=1176, out_features=200, bias=True)\n",
      "    (18): ReLU()\n",
      "    (19): Linear(in_features=200, out_features=2, bias=True)\n",
      "  )\n",
      ")\n",
      "Repetition 0\n"
     ]
    },
    {
     "name": "stderr",
     "output_type": "stream",
     "text": [
      "100%|██████████| 300/300 [00:03<00:00, 75.35it/s]\n",
      "100%|██████████| 300/300 [00:04<00:00, 71.83it/s]\n",
      "100%|██████████| 300/300 [00:04<00:00, 74.30it/s]\n",
      "100%|██████████| 300/300 [00:03<00:00, 75.43it/s]\n",
      "100%|██████████| 300/300 [00:05<00:00, 53.11it/s]\n",
      " 32%|███▏      | 96/300 [00:02<00:05, 36.86it/s]"
     ]
    }
   ],
   "source": [
    "results=[]\n",
    "for i in range(30):\n",
    "    train_dataset,train_target=load_script.load_dataset(train=True)\n",
    "    test_dataset,test_target=load_script.load_dataset(train=False)\n",
    "    \n",
    "    dataset=torch.cat((train_dataset.data,test_dataset.data),0)\n",
    "    target=torch.cat((train_target.data,test_target.data),0)\n",
    "    permutations=torch.randperm(dataset.shape[0])\n",
    "    dataset=dataset[permutations]\n",
    "    target=target[permutations]\n",
    "    train_dataset=Variable(dataset[:316])\n",
    "    train_target=Variable(target[:316])\n",
    "    test_dataset=Variable(dataset[316:])\n",
    "    test_target=Variable(target[316:])\n",
    "    mean=train_dataset.mean(0).mean(1).view(1,28,1)\n",
    "    std=train_dataset.std(2).mean(0).view(1,28,1)\n",
    "    train_dataset=(train_dataset-mean)/std\n",
    "    test_dataset=(test_dataset-mean)/std\n",
    "    \n",
    "    cv=CrossValidation(k=4,train_dataset=train_dataset,test_dataset=test_dataset,\n",
    "                   train_target=train_target,test_target=test_target,cuda=True)\n",
    "\n",
    "    net_type=FourCNNLayers\n",
    "    optimizer_type=optim.Adam\n",
    "    criterion_type=nn.CrossEntropyLoss\n",
    "    network_params=NetworkParams(conv_filters=[28,28,28],conv_kernels=[3,3,3],\n",
    "                                 linear_filters=[200,2],\n",
    "                                 dropout_rate=0,batch_norm=True,conv1D=True)\n",
    "    optimizer_params=OptimizerParams()\n",
    "    train_params=TrainParams(max_epoch=300,mini_batch_size=79)\n",
    "\n",
    "\n",
    "    params=Params(net_type,optimizer_type,criterion_type,network_params=network_params,\n",
    "                  optimizer_params=optimizer_params,train_params=train_params,cuda=True)\n",
    "\n",
    "    cv(params,repetitions=1,cross_validation=True,repetitions_test=4)\n",
    "    results.append(cv.result)"
   ]
  },
  {
   "cell_type": "code",
   "execution_count": null,
   "metadata": {
    "collapsed": false
   },
   "outputs": [],
   "source": [
    "params.network"
   ]
  },
  {
   "cell_type": "code",
   "execution_count": null,
   "metadata": {
    "collapsed": true
   },
   "outputs": [],
   "source": [
    "save=True\n",
    "if save:\n",
    "    file_name=folder.stored+'four_layers'\n",
    "    write_pickle(results,file_name)"
   ]
  },
  {
   "cell_type": "code",
   "execution_count": null,
   "metadata": {
    "collapsed": true
   },
   "outputs": [],
   "source": []
  },
  {
   "cell_type": "code",
   "execution_count": null,
   "metadata": {
    "collapsed": true,
    "scrolled": false
   },
   "outputs": [],
   "source": [
    "cv=CrossValidation(k=2,train_dataset=train_dataset,test_dataset=test_dataset,\n",
    "                   train_target=train_target,test_target=test_target)\n",
    "\n",
    "net_type=ThreeLayers2D\n",
    "optimizer_type=optim.Adam\n",
    "criterion_type=nn.CrossEntropyLoss\n",
    "network_params=NetworkParams(conv_filters=[28,28,28],conv_kernels=[(3,1),(5,3),(3,3)],\n",
    "                             linear_filters=[200,2],\n",
    "                             dropout_rate=0,batch_norm=False,conv1D=False)\n",
    "optimizer_params=OptimizerParams()\n",
    "train_params=TrainParams(max_epoch=100,mini_batch_size=79)\n",
    "\n",
    "\n",
    "params=Params(net_type,optimizer_type,criterion_type,network_params=network_params,\n",
    "              optimizer_params=optimizer_params,train_params=train_params,)\n",
    "\n",
    "cv(params)"
   ]
  },
  {
   "cell_type": "code",
   "execution_count": null,
   "metadata": {
    "collapsed": true,
    "scrolled": false
   },
   "outputs": [],
   "source": [
    "net_type=ThreeLayers\n",
    "optimizer_type=optim.Adam\n",
    "criterion_type=nn.CrossEntropyLoss\n",
    "network_params=NetworkParams(linear_filters=[200,2],dropout_rate=0)\n",
    "optimizer_params=OptimizerParams()\n",
    "train_params=TrainParams(max_epoch=100)\n",
    "\n",
    "\n",
    "params=Params(net_type,optimizer_type,criterion_type,network_params=network_params,\n",
    "              optimizer_params=optimizer_params,train_params=train_params,)\n",
    "\n",
    "train=Train(train_dataset=train_dataset,test_dataset=test_dataset,\n",
    "            train_target=train_target,test_target=test_target)\n",
    "train(params)"
   ]
  },
  {
   "cell_type": "code",
   "execution_count": null,
   "metadata": {
    "collapsed": true
   },
   "outputs": [],
   "source": []
  },
  {
   "cell_type": "code",
   "execution_count": null,
   "metadata": {
    "collapsed": true
   },
   "outputs": [],
   "source": []
  },
  {
   "cell_type": "code",
   "execution_count": null,
   "metadata": {
    "collapsed": true
   },
   "outputs": [],
   "source": []
  },
  {
   "cell_type": "code",
   "execution_count": null,
   "metadata": {
    "collapsed": true
   },
   "outputs": [],
   "source": []
  },
  {
   "cell_type": "code",
   "execution_count": null,
   "metadata": {
    "collapsed": true
   },
   "outputs": [],
   "source": []
  },
  {
   "cell_type": "code",
   "execution_count": null,
   "metadata": {
    "collapsed": true
   },
   "outputs": [],
   "source": []
  },
  {
   "cell_type": "code",
   "execution_count": null,
   "metadata": {
    "collapsed": true
   },
   "outputs": [],
   "source": []
  },
  {
   "cell_type": "code",
   "execution_count": null,
   "metadata": {
    "collapsed": true
   },
   "outputs": [],
   "source": []
  },
  {
   "cell_type": "code",
   "execution_count": null,
   "metadata": {
    "collapsed": true
   },
   "outputs": [],
   "source": []
  }
 ],
 "metadata": {
  "kernelspec": {
   "display_name": "Python 3",
   "language": "python",
   "name": "python3"
  },
  "language_info": {
   "codemirror_mode": {
    "name": "ipython",
    "version": 3
   },
   "file_extension": ".py",
   "mimetype": "text/x-python",
   "name": "python",
   "nbconvert_exporter": "python",
   "pygments_lexer": "ipython3",
   "version": "3.6.0"
  },
  "notify_time": "5"
 },
 "nbformat": 4,
 "nbformat_minor": 2
}
