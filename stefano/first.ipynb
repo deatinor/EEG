{
 "cells": [
  {
   "cell_type": "code",
   "execution_count": 1,
   "metadata": {
    "collapsed": true
   },
   "outputs": [],
   "source": [
    "import torch\n",
    "import numpy as np\n",
    "import matplotlib.pyplot as plt\n",
    "from torch.autograd import Variable\n",
    "\n",
    "import torch.nn as nn\n",
    "import torch.nn.functional as F"
   ]
  },
  {
   "cell_type": "code",
   "execution_count": 2,
   "metadata": {
    "collapsed": true
   },
   "outputs": [],
   "source": [
    "import load_script"
   ]
  },
  {
   "cell_type": "code",
   "execution_count": null,
   "metadata": {},
   "outputs": [],
   "source": [
    "import os,sys,inspect\n",
    "currentdir = os.path.dirname(os.path.abspath(inspect.getfile(inspect.currentframe())))\n",
    "parentdir = os.path.dirname(currentdir)\n",
    "sys.path.insert(0,parentdir) \n",
    "\n",
    "import dlc_bci"
   ]
  },
  {
   "cell_type": "code",
   "execution_count": null,
   "metadata": {
    "collapsed": true
   },
   "outputs": [],
   "source": [
    "train,test=dlc_bci.load('../data')\n",
    "# test[test==0]=-1\n"
   ]
  },
  {
   "cell_type": "code",
   "execution_count": null,
   "metadata": {
    "collapsed": true
   },
   "outputs": [],
   "source": [
    "new_test=torch.ones(test.shape[0],2)"
   ]
  },
  {
   "cell_type": "code",
   "execution_count": null,
   "metadata": {
    "collapsed": true
   },
   "outputs": [],
   "source": [
    "new_test[:,0][test==1]=-1\n",
    "new_test[:,1][test==0]=-1"
   ]
  },
  {
   "cell_type": "code",
   "execution_count": null,
   "metadata": {
    "collapsed": true
   },
   "outputs": [],
   "source": [
    "train_dataset=Variable(train)\n",
    "test_dataset=Variable(new_test)"
   ]
  },
  {
   "cell_type": "code",
   "execution_count": 3,
   "metadata": {
    "scrolled": true
   },
   "outputs": [],
   "source": [
    "train_dataset,target=load_script.load_dataset(train=True)"
   ]
  },
  {
   "cell_type": "code",
   "execution_count": 4,
   "metadata": {},
   "outputs": [
    {
     "data": {
      "text/plain": [
       "Variable containing:\n",
       "( 0 ,.,.) = \n",
       "   41.8000   44.8000   47.1000  ...    69.8000   72.6000   76.1000\n",
       "  -10.3000   -5.9000   -3.3000  ...    12.6000   24.0000   26.5000\n",
       "   38.1000   25.2000   46.0000  ...    45.1000   74.1000   64.8000\n",
       "              ...                ⋱                ...             \n",
       "    7.9000   11.2000   14.3000  ...    32.7000   43.4000   45.5000\n",
       "   19.2000   33.6000   33.8000  ...    46.7000   53.7000   43.4000\n",
       "   -0.4000   12.7000   12.0000  ...    30.7000   40.6000   33.1000\n",
       "\n",
       "( 1 ,.,.) = \n",
       "  132.0000  137.0000  148.0000  ...    78.1000   90.5000   85.7000\n",
       "   13.0000    0.4000   22.9000  ...   -43.6000  -11.0000  -36.6000\n",
       "   24.3000    5.2000   30.6000  ...   -21.7000    9.9000  -17.3000\n",
       "              ...                ⋱                ...             \n",
       "  -23.0000  -19.0000  -25.3000  ...   -30.9000  -19.8000  -16.7000\n",
       "    0.5000    2.4000   -2.3000  ...    -6.8000   10.0000   16.9000\n",
       "  -31.8000  -21.5000  -27.8000  ...   -44.6000  -31.7000  -19.1000\n",
       "\n",
       "( 2 ,.,.) = \n",
       "   69.4000   57.0000   76.4000  ...    55.6000   67.7000   59.0000\n",
       "   13.2000  -16.0000   19.4000  ...    -9.5000   15.3000   -8.9000\n",
       "   63.4000   21.7000   67.6000  ...    27.8000   63.9000   29.1000\n",
       "              ...                ⋱                ...             \n",
       "    3.2000   15.6000   16.3000  ...    12.2000    0.4000   20.1000\n",
       "    5.2000   34.4000   33.6000  ...    39.5000   17.1000   24.6000\n",
       "  -19.9000    6.8000   22.2000  ...    15.9000    2.2000   22.3000\n",
       "... \n",
       "\n",
       "(313,.,.) = \n",
       "   85.5000   85.0000   73.3000  ...    68.9000   67.6000   70.6000\n",
       "   11.7000    4.3000   -1.1000  ...   -10.6000  -10.8000  -10.9000\n",
       "   54.7000   61.7000   41.7000  ...    44.9000   29.4000   42.3000\n",
       "              ...                ⋱                ...             \n",
       "   19.1000   12.5000   -4.4000  ...     3.1000   -4.7000   -2.2000\n",
       "   22.6000    1.0000  -23.0000  ...    25.2000   21.5000   22.1000\n",
       "   14.6000   -4.8000  -33.1000  ...    13.9000    5.4000    7.8000\n",
       "\n",
       "(314,.,.) = \n",
       "   64.8000   90.2000   82.7000  ...    74.7000   50.6000   69.3000\n",
       "   10.5000   44.8000   30.7000  ...    25.0000   -4.5000   20.1000\n",
       "   65.2000  109.2000   82.7000  ...    91.9000   46.9000   87.1000\n",
       "              ...                ⋱                ...             \n",
       "   31.2000   37.7000   36.0000  ...    21.4000   14.1000   14.9000\n",
       "   41.5000   42.5000   27.3000  ...    34.5000   28.5000   25.5000\n",
       "   27.9000   28.5000   18.2000  ...    23.0000   19.6000   13.2000\n",
       "\n",
       "(315,.,.) = \n",
       "   70.9000   78.4000   71.6000  ...    80.3000   70.5000   83.1000\n",
       "   33.6000   32.3000   30.1000  ...    30.9000   25.8000   32.0000\n",
       "  101.1000  110.4000   96.8000  ...   108.6000   96.5000  108.9000\n",
       "              ...                ⋱                ...             \n",
       "   80.7000   77.0000   84.8000  ...    75.1000   84.6000   90.7000\n",
       "   92.5000   96.8000  105.8000  ...    81.8000   91.4000   97.3000\n",
       "   85.5000   88.7000  104.9000  ...    64.7000   83.2000  102.4000\n",
       "[torch.FloatTensor of size 316x28x50]"
      ]
     },
     "execution_count": 4,
     "metadata": {},
     "output_type": "execute_result"
    }
   ],
   "source": [
    "train_dataset"
   ]
  },
  {
   "cell_type": "code",
   "execution_count": null,
   "metadata": {
    "collapsed": true
   },
   "outputs": [],
   "source": []
  },
  {
   "cell_type": "code",
   "execution_count": null,
   "metadata": {
    "collapsed": true
   },
   "outputs": [],
   "source": [
    "class Net(nn.Module):\n",
    "    def __init__(self):\n",
    "        super(Net,self).__init__()\n",
    "        \n",
    "        \n",
    "    def forward(self,x):\n",
    "        pass"
   ]
  },
  {
   "cell_type": "code",
   "execution_count": null,
   "metadata": {
    "collapsed": true
   },
   "outputs": [],
   "source": []
  },
  {
   "cell_type": "code",
   "execution_count": null,
   "metadata": {
    "collapsed": true
   },
   "outputs": [],
   "source": []
  },
  {
   "cell_type": "code",
   "execution_count": null,
   "metadata": {
    "collapsed": true
   },
   "outputs": [],
   "source": []
  },
  {
   "cell_type": "code",
   "execution_count": null,
   "metadata": {
    "collapsed": true
   },
   "outputs": [],
   "source": []
  },
  {
   "cell_type": "code",
   "execution_count": null,
   "metadata": {
    "collapsed": true
   },
   "outputs": [],
   "source": []
  },
  {
   "cell_type": "code",
   "execution_count": null,
   "metadata": {
    "collapsed": true
   },
   "outputs": [],
   "source": []
  }
 ],
 "metadata": {
  "kernelspec": {
   "display_name": "Python 3",
   "language": "python",
   "name": "python3"
  },
  "language_info": {
   "codemirror_mode": {
    "name": "ipython",
    "version": 3
   },
   "file_extension": ".py",
   "mimetype": "text/x-python",
   "name": "python",
   "nbconvert_exporter": "python",
   "pygments_lexer": "ipython3",
   "version": "3.6.1"
  }
 },
 "nbformat": 4,
 "nbformat_minor": 2
}
