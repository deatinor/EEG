{
 "cells": [
  {
   "cell_type": "markdown",
   "metadata": {},
   "source": [
    "# Import"
   ]
  },
  {
   "cell_type": "code",
   "execution_count": 61,
   "metadata": {
    "collapsed": true
   },
   "outputs": [],
   "source": [
    "import torch\n",
    "import numpy as np\n",
    "import matplotlib.pyplot as plt\n",
    "from torch.autograd import Variable\n",
    "\n",
    "import torch.nn as nn\n",
    "import torch.nn.functional as F\n",
    "\n",
    "import torch.optim as optim"
   ]
  },
  {
   "cell_type": "code",
   "execution_count": 4,
   "metadata": {
    "collapsed": true
   },
   "outputs": [],
   "source": [
    "import load_script"
   ]
  },
  {
   "cell_type": "markdown",
   "metadata": {},
   "source": [
    "# Loading the dataset"
   ]
  },
  {
   "cell_type": "code",
   "execution_count": 5,
   "metadata": {
    "scrolled": true
   },
   "outputs": [],
   "source": [
    "train_dataset,target=load_script.load_dataset(train=True)"
   ]
  },
  {
   "cell_type": "code",
   "execution_count": 7,
   "metadata": {},
   "outputs": [
    {
     "data": {
      "text/plain": [
       "torch.Size([28, 50])"
      ]
     },
     "execution_count": 7,
     "metadata": {},
     "output_type": "execute_result"
    }
   ],
   "source": [
    "train_dataset[0].shape"
   ]
  },
  {
   "cell_type": "markdown",
   "metadata": {},
   "source": [
    "# Defining the network"
   ]
  },
  {
   "cell_type": "code",
   "execution_count": 73,
   "metadata": {
    "collapsed": true
   },
   "outputs": [],
   "source": [
    "class Net(nn.Module):\n",
    "    def __init__(self):\n",
    "        super(Net,self).__init__()\n",
    "        self.conv1=nn.Conv2d(1,10,5)\n",
    "        \n",
    "        self.full1=nn.Linear(10 * 12 * 23,100)\n",
    "        self.full2=nn.Linear(100,2)\n",
    "        \n",
    "    def forward(self,x):\n",
    "        x=F.max_pool2d(F.relu(self.conv1(x)), (2,2))\n",
    "        x=x.view(-1)\n",
    "        x=F.relu(self.full1(x))\n",
    "        x=self.full2(x)\n",
    "        \n",
    "        return x"
   ]
  },
  {
   "cell_type": "code",
   "execution_count": 74,
   "metadata": {},
   "outputs": [
    {
     "data": {
      "text/plain": [
       "Net(\n",
       "  (conv1): Conv2d(1, 10, kernel_size=(5, 5), stride=(1, 1))\n",
       "  (full1): Linear(in_features=2760, out_features=100, bias=True)\n",
       "  (full2): Linear(in_features=100, out_features=2, bias=True)\n",
       ")"
      ]
     },
     "execution_count": 74,
     "metadata": {},
     "output_type": "execute_result"
    }
   ],
   "source": [
    "net=Net()\n",
    "net"
   ]
  },
  {
   "cell_type": "markdown",
   "metadata": {
    "collapsed": true
   },
   "source": [
    "# Training"
   ]
  },
  {
   "cell_type": "code",
   "execution_count": 95,
   "metadata": {},
   "outputs": [
    {
     "name": "stdout",
     "output_type": "stream",
     "text": [
      "Epoch: 0 Loss: 5843.057990685105\n",
      "Epoch: 1 Loss: 2270.1250189081766\n",
      "Epoch: 2 Loss: 1538.555721821729\n",
      "Epoch: 3 Loss: 1364.921992721036\n",
      "Epoch: 4 Loss: 1299.0027284063399\n",
      "Epoch: 5 Loss: 1255.4545667357743\n",
      "Epoch: 6 Loss: 1218.121690088883\n",
      "Epoch: 7 Loss: 1184.330945700407\n",
      "Epoch: 8 Loss: 1153.3849327513017\n",
      "Epoch: 9 Loss: 1125.01882298477\n",
      "Epoch: 10 Loss: 1098.9332205085084\n",
      "Epoch: 11 Loss: 1074.8635383564979\n",
      "Epoch: 12 Loss: 1052.7136357016861\n",
      "Epoch: 13 Loss: 1032.3133752569556\n",
      "Epoch: 14 Loss: 1013.5041393321007\n",
      "Epoch: 15 Loss: 995.9329852517694\n",
      "Epoch: 16 Loss: 979.583095267415\n",
      "Epoch: 17 Loss: 964.4177967514843\n",
      "Epoch: 18 Loss: 950.2931800307706\n",
      "Epoch: 19 Loss: 937.1102567203343\n",
      "Epoch: 20 Loss: 924.8635688498616\n",
      "Epoch: 21 Loss: 913.5005934138317\n",
      "Epoch: 22 Loss: 902.8629421496298\n",
      "Epoch: 23 Loss: 892.8735466797953\n",
      "Epoch: 24 Loss: 883.5208691989537\n"
     ]
    }
   ],
   "source": [
    "net=Net()\n",
    "\n",
    "optimizer = optim.SGD(net.parameters(), lr=0.00000001)\n",
    "\n",
    "for epoch in range(25):\n",
    "    \n",
    "    total_loss=0\n",
    "    for train_element,target_element in zip(train_dataset,target):\n",
    "        \n",
    "        train_element=train_element.view(1,1,28,-1)\n",
    "        \n",
    "        optimizer.zero_grad()\n",
    "        \n",
    "        out=net(train_element)\n",
    "        loss=criterion(out,target_element)\n",
    "        loss.backward()\n",
    "        optimizer.step()\n",
    "        total_loss+=loss.data[0]\n",
    "        \n",
    "    print('Epoch:',epoch,'Loss:',total_loss)"
   ]
  },
  {
   "cell_type": "code",
   "execution_count": null,
   "metadata": {
    "collapsed": true
   },
   "outputs": [],
   "source": []
  },
  {
   "cell_type": "code",
   "execution_count": null,
   "metadata": {
    "collapsed": true
   },
   "outputs": [],
   "source": []
  }
 ],
 "metadata": {
  "kernelspec": {
   "display_name": "Python 3",
   "language": "python",
   "name": "python3"
  },
  "language_info": {
   "codemirror_mode": {
    "name": "ipython",
    "version": 3
   },
   "file_extension": ".py",
   "mimetype": "text/x-python",
   "name": "python",
   "nbconvert_exporter": "python",
   "pygments_lexer": "ipython3",
   "version": "3.6.1"
  }
 },
 "nbformat": 4,
 "nbformat_minor": 2
}
