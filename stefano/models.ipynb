{
 "cells": [
  {
   "cell_type": "markdown",
   "metadata": {},
   "source": [
    "In this notebook we will use the nn class **Sequential** to model a CNN"
   ]
  },
  {
   "cell_type": "markdown",
   "metadata": {},
   "source": [
    "We will use the single target network"
   ]
  },
  {
   "cell_type": "markdown",
   "metadata": {},
   "source": [
    "# Import"
   ]
  },
  {
   "cell_type": "code",
   "execution_count": 2,
   "metadata": {
    "ExecuteTime": {
     "end_time": "2018-04-29T15:45:48.039674Z",
     "start_time": "2018-04-29T15:45:46.586434Z"
    },
    "collapsed": true
   },
   "outputs": [],
   "source": [
    "import torch\n",
    "import numpy as np\n",
    "import matplotlib.pyplot as plt\n",
    "from torch.autograd import Variable\n",
    "\n",
    "import torch.nn as nn\n",
    "import torch.nn.functional as F\n",
    "\n",
    "import torch.optim as optim\n",
    "from torch.optim.lr_scheduler import StepLR\n",
    "\n",
    "from sklearn.model_selection import KFold\n",
    "\n",
    "from tqdm import tqdm\n",
    "\n",
    "import load_script\n",
    "from params import *\n",
    "from custom_layers import *\n",
    "from training import *\n",
    "from networks import *\n",
    "\n",
    "from utilities import *\n",
    "from parse_dataset import *"
   ]
  },
  {
   "cell_type": "code",
   "execution_count": 3,
   "metadata": {
    "ExecuteTime": {
     "end_time": "2018-04-29T15:45:48.086364Z",
     "start_time": "2018-04-29T15:45:48.065870Z"
    },
    "collapsed": true
   },
   "outputs": [],
   "source": [
    "# %load_ext autoreload\n",
    "# %autoreload 2"
   ]
  },
  {
   "cell_type": "markdown",
   "metadata": {},
   "source": [
    "# Loading the dataset"
   ]
  },
  {
   "cell_type": "code",
   "execution_count": 4,
   "metadata": {},
   "outputs": [
    {
     "name": "stdout",
     "output_type": "stream",
     "text": [
      "Reading data from /Users/savare/DeepLearning/EEG//\n",
      "Reading data from /Users/savare/DeepLearning/EEG//__pycache__//\n",
      "Reading data from /Users/savare/DeepLearning/EEG//data//\n",
      "Reading data from /Users/savare/DeepLearning/EEG//stefano//\n",
      "Reading data from /Users/savare/DeepLearning/EEG//stefano//__pycache__//\n",
      "Reading data from /Users/savare/DeepLearning/EEG//stefano//notebook//\n",
      "Reading data from /Users/savare/DeepLearning/EEG//stored//\n"
     ]
    }
   ],
   "source": [
    "folder=Dataset(base_directory='/Users/savare/DeepLearning/',dataset='eeg')"
   ]
  },
  {
   "cell_type": "code",
   "execution_count": 5,
   "metadata": {
    "collapsed": true
   },
   "outputs": [],
   "source": [
    "# train_dataset,train_target=load_script.load_dataset_1000hz(train=True)"
   ]
  },
  {
   "cell_type": "code",
   "execution_count": 6,
   "metadata": {
    "collapsed": true
   },
   "outputs": [],
   "source": [
    "# test_dataset,test_target=load_script.load_dataset_1000hz(train=False)"
   ]
  },
  {
   "cell_type": "code",
   "execution_count": 7,
   "metadata": {
    "ExecuteTime": {
     "end_time": "2018-04-29T15:45:48.583592Z",
     "start_time": "2018-04-29T15:45:48.088414Z"
    },
    "collapsed": true
   },
   "outputs": [],
   "source": [
    "train_dataset,train_target=load_script.load_dataset(train=True)"
   ]
  },
  {
   "cell_type": "code",
   "execution_count": 8,
   "metadata": {
    "ExecuteTime": {
     "end_time": "2018-04-29T15:45:48.754805Z",
     "start_time": "2018-04-29T15:45:48.585273Z"
    },
    "collapsed": true
   },
   "outputs": [],
   "source": [
    "test_dataset,test_target=load_script.load_dataset(train=False)"
   ]
  },
  {
   "cell_type": "markdown",
   "metadata": {},
   "source": [
    "# Normalization"
   ]
  },
  {
   "cell_type": "code",
   "execution_count": 9,
   "metadata": {},
   "outputs": [
    {
     "data": {
      "text/plain": [
       "torch.Size([316, 28, 50])"
      ]
     },
     "execution_count": 9,
     "metadata": {},
     "output_type": "execute_result"
    }
   ],
   "source": [
    "train_dataset.shape"
   ]
  },
  {
   "cell_type": "code",
   "execution_count": 10,
   "metadata": {
    "ExecuteTime": {
     "end_time": "2018-04-29T15:45:48.828631Z",
     "start_time": "2018-04-29T15:45:48.814246Z"
    },
    "scrolled": true
   },
   "outputs": [
    {
     "data": {
      "text/plain": [
       "torch.Size([100, 28, 50])"
      ]
     },
     "execution_count": 10,
     "metadata": {},
     "output_type": "execute_result"
    }
   ],
   "source": [
    "test_dataset.shape"
   ]
  },
  {
   "cell_type": "code",
   "execution_count": 11,
   "metadata": {
    "ExecuteTime": {
     "end_time": "2018-04-29T15:45:49.133752Z",
     "start_time": "2018-04-29T15:45:49.109222Z"
    },
    "collapsed": true
   },
   "outputs": [],
   "source": [
    "mean=train_dataset.mean(0).view(1,28,50)\n",
    "std=train_dataset.std(0).view(1,28,50)"
   ]
  },
  {
   "cell_type": "code",
   "execution_count": 12,
   "metadata": {
    "ExecuteTime": {
     "end_time": "2018-04-29T15:45:49.557152Z",
     "start_time": "2018-04-29T15:45:49.525799Z"
    },
    "collapsed": true,
    "scrolled": true
   },
   "outputs": [],
   "source": [
    "train_dataset=(train_dataset-mean)/std\n",
    "test_dataset=(test_dataset-mean)/std"
   ]
  },
  {
   "cell_type": "markdown",
   "metadata": {},
   "source": [
    "# Defining the network"
   ]
  },
  {
   "cell_type": "markdown",
   "metadata": {},
   "source": [
    "# Training"
   ]
  },
  {
   "cell_type": "code",
   "execution_count": null,
   "metadata": {
    "scrolled": false
   },
   "outputs": [
    {
     "name": "stderr",
     "output_type": "stream",
     "text": [
      "\r",
      "  0%|          | 0/400 [00:00<?, ?it/s]"
     ]
    },
    {
     "name": "stdout",
     "output_type": "stream",
     "text": [
      "Dropout 0\n",
      "30.0\n",
      "Network:\n",
      "\n",
      "[28, 28, 3, 1, 0, True]\n",
      "[28, 28, 3, 1, 0, True]\n",
      "[28, 28, 3, 1, 0, True]\n",
      "[28, 28, 3, 1, 0, True]\n",
      "[28, 28, 3, 1, 0, True]\n",
      "[28, 28, 3, 1, 0, True]\n",
      "[28, 28, 3, 1, 0, True]\n",
      "[28, 28, 3, 1, 0, True]\n",
      "[28, 28, 3, 1, 0, True]\n",
      "[28, 28, 3, 1, 0, True]\n",
      "[840, 200]\n",
      "[200, 2]\n",
      "\n",
      "Repetition 0\n"
     ]
    },
    {
     "name": "stderr",
     "output_type": "stream",
     "text": [
      "100%|██████████| 400/400 [01:45<00:00,  3.80it/s]\n",
      "100%|██████████| 400/400 [01:42<00:00,  3.90it/s]\n",
      "100%|██████████| 400/400 [01:17<00:00,  5.15it/s]\n",
      "100%|██████████| 400/400 [01:16<00:00,  5.24it/s]\n",
      "100%|██████████| 400/400 [01:39<00:00,  4.03it/s]\n",
      "100%|██████████| 400/400 [01:38<00:00,  4.07it/s]\n",
      "100%|██████████| 400/400 [01:38<00:00,  4.07it/s]\n",
      "100%|██████████| 400/400 [01:46<00:00,  3.76it/s]\n"
     ]
    },
    {
     "data": {
      "image/png": "[encoded data removed]",
      "text/plain": [
       "<matplotlib.figure.Figure at 0x1a0fd4a400>"
      ]
     },
     "metadata": {},
     "output_type": "display_data"
    },
    {
     "name": "stderr",
     "output_type": "stream",
     "text": [
      "\r",
      "  0%|          | 0/400 [00:00<?, ?it/s]"
     ]
    },
    {
     "name": "stdout",
     "output_type": "stream",
     "text": [
      "Performance train: 0.00396624472574\n",
      "Performance validation: 0.280664556962\n",
      "Performance test: 0.318775\n",
      "Dropout 0.1\n",
      "30.0\n",
      "Network:\n",
      "\n",
      "[28, 28, 3, 1, 0.1, True]\n",
      "[28, 28, 3, 1, 0.1, True]\n",
      "[28, 28, 3, 1, 0.1, True]\n",
      "[28, 28, 3, 1, 0.1, True]\n",
      "[28, 28, 3, 1, 0.1, True]\n",
      "[28, 28, 3, 1, 0.1, True]\n",
      "[28, 28, 3, 1, 0.1, True]\n",
      "[28, 28, 3, 1, 0.1, True]\n",
      "[28, 28, 3, 1, 0.1, True]\n",
      "[28, 28, 3, 1, 0.1, True]\n",
      "[840, 200]\n",
      "[200, 2]\n",
      "\n",
      "Repetition 0\n"
     ]
    },
    {
     "name": "stderr",
     "output_type": "stream",
     "text": [
      "100%|██████████| 400/400 [01:35<00:00,  4.18it/s]\n",
      "100%|██████████| 400/400 [01:37<00:00,  4.12it/s]\n",
      "100%|██████████| 400/400 [01:36<00:00,  4.13it/s]\n",
      "100%|██████████| 400/400 [01:37<00:00,  4.12it/s]\n",
      "100%|██████████| 400/400 [02:07<00:00,  3.13it/s]\n",
      "100%|██████████| 400/400 [02:07<00:00,  3.13it/s]\n",
      "100%|██████████| 400/400 [02:14<00:00,  2.98it/s]\n",
      "100%|██████████| 400/400 [02:10<00:00,  3.08it/s]\n"
     ]
    },
    {
     "data": {
      "image/png": "[encoded data removed]",
      "text/plain": [
       "<matplotlib.figure.Figure at 0x1a0fd11ef0>"
      ]
     },
     "metadata": {},
     "output_type": "display_data"
    },
    {
     "name": "stderr",
     "output_type": "stream",
     "text": [
      "\r",
      "  0%|          | 0/400 [00:00<?, ?it/s]"
     ]
    },
    {
     "name": "stdout",
     "output_type": "stream",
     "text": [
      "Performance train: 0.014029535865\n",
      "Performance validation: 0.293924050633\n",
      "Performance test: 0.27195\n",
      "Dropout 0.2\n",
      "30.0\n",
      "Network:\n",
      "\n",
      "[28, 28, 3, 1, 0.2, True]\n",
      "[28, 28, 3, 1, 0.2, True]\n",
      "[28, 28, 3, 1, 0.2, True]\n",
      "[28, 28, 3, 1, 0.2, True]\n",
      "[28, 28, 3, 1, 0.2, True]\n",
      "[28, 28, 3, 1, 0.2, True]\n",
      "[28, 28, 3, 1, 0.2, True]\n",
      "[28, 28, 3, 1, 0.2, True]\n",
      "[28, 28, 3, 1, 0.2, True]\n",
      "[28, 28, 3, 1, 0.2, True]\n",
      "[840, 200]\n",
      "[200, 2]\n",
      "\n",
      "Repetition 0\n"
     ]
    },
    {
     "name": "stderr",
     "output_type": "stream",
     "text": [
      "100%|██████████| 400/400 [01:37<00:00,  4.09it/s]\n",
      "100%|██████████| 400/400 [01:37<00:00,  4.09it/s]\n",
      "100%|██████████| 400/400 [01:39<00:00,  4.00it/s]\n",
      "100%|██████████| 400/400 [01:45<00:00,  3.79it/s]\n",
      "100%|██████████| 400/400 [02:13<00:00,  2.99it/s]\n",
      "100%|██████████| 400/400 [02:19<00:00,  2.86it/s]\n",
      "100%|██████████| 400/400 [02:23<00:00,  2.79it/s]\n",
      " 56%|█████▌    | 224/400 [01:13<00:57,  3.06it/s]"
     ]
    }
   ],
   "source": [
    "dropout_values=[0,0.1,0.2,0.3,0.4,0.5,0.6,0.7,0.8,0.9]\n",
    "results=[]\n",
    "for dropout in dropout_values:\n",
    "    print('Dropout',dropout)\n",
    "    cv=CrossValidation(k=4,train_dataset=train_dataset,test_dataset=test_dataset,\n",
    "                   train_target=train_target,test_target=test_target)\n",
    "    \n",
    "    net_type=TenLayers\n",
    "    optimizer_type=optim.Adam\n",
    "    criterion_type=nn.CrossEntropyLoss\n",
    "    network_params=NetworkParams(conv_filters=[28,28,28],conv_kernels=[3,3,3],\n",
    "                                 linear_filters=[200,2],\n",
    "                                 dropout_rate=dropout,batch_norm=True,conv1D=True)\n",
    "    optimizer_params=OptimizerParams()\n",
    "    train_params=TrainParams(max_epoch=400,mini_batch_size=79)\n",
    "\n",
    "\n",
    "    params=Params(net_type,optimizer_type,criterion_type,network_params=network_params,\n",
    "                  optimizer_params=optimizer_params,train_params=train_params,)\n",
    "\n",
    "    cv(params,repetitions=1,cross_validation=True,repetitions_test=4)\n",
    "    results.append(cv.result)"
   ]
  },
  {
   "cell_type": "code",
   "execution_count": null,
   "metadata": {
    "collapsed": true
   },
   "outputs": [],
   "source": []
  },
  {
   "cell_type": "code",
   "execution_count": null,
   "metadata": {
    "collapsed": true
   },
   "outputs": [],
   "source": [
    "save=False\n",
    "if save:\n",
    "    file_name=folder.stored+'single_layers'\n",
    "    write_pickle(results,file_name)"
   ]
  },
  {
   "cell_type": "code",
   "execution_count": null,
   "metadata": {
    "collapsed": true
   },
   "outputs": [],
   "source": []
  },
  {
   "cell_type": "code",
   "execution_count": null,
   "metadata": {
    "collapsed": true
   },
   "outputs": [],
   "source": [
    "cv=CrossValidation(k=4,train_dataset=train_dataset,test_dataset=test_dataset,\n",
    "                   train_target=train_target,test_target=test_target)\n",
    "\n",
    "net_type=ThreeLayers\n",
    "optimizer_type=optim.Adam\n",
    "criterion_type=nn.CrossEntropyLoss\n",
    "network_params=NetworkParams(conv_filters=[28,28,28],conv_kernels=[3,3,3],\n",
    "                             linear_filters=[200,2],\n",
    "                             dropout_rate=0.8,batch_norm=True,conv1D=True)\n",
    "optimizer_params=OptimizerParams()\n",
    "train_params=TrainParams(max_epoch=300,mini_batch_size=79)\n",
    "\n",
    "\n",
    "params=Params(net_type,optimizer_type,criterion_type,network_params=network_params,\n",
    "              optimizer_params=optimizer_params,train_params=train_params,)\n",
    "\n",
    "cv(params,repetitions=4,cross_validation=True,repetitions_test=4)"
   ]
  },
  {
   "cell_type": "code",
   "execution_count": null,
   "metadata": {
    "collapsed": true,
    "scrolled": false
   },
   "outputs": [],
   "source": [
    "cv=CrossValidation(k=2,train_dataset=train_dataset,test_dataset=test_dataset,\n",
    "                   train_target=train_target,test_target=test_target)\n",
    "\n",
    "net_type=ThreeLayers2D\n",
    "optimizer_type=optim.Adam\n",
    "criterion_type=nn.CrossEntropyLoss\n",
    "network_params=NetworkParams(conv_filters=[28,28,28],conv_kernels=[(3,1),(5,3),(3,3)],\n",
    "                             linear_filters=[200,2],\n",
    "                             dropout_rate=0,batch_norm=False,conv1D=False)\n",
    "optimizer_params=OptimizerParams()\n",
    "train_params=TrainParams(max_epoch=100,mini_batch_size=79)\n",
    "\n",
    "\n",
    "params=Params(net_type,optimizer_type,criterion_type,network_params=network_params,\n",
    "              optimizer_params=optimizer_params,train_params=train_params,)\n",
    "\n",
    "cv(params)"
   ]
  },
  {
   "cell_type": "code",
   "execution_count": null,
   "metadata": {
    "collapsed": true,
    "scrolled": false
   },
   "outputs": [],
   "source": [
    "net_type=ThreeLayers\n",
    "optimizer_type=optim.Adam\n",
    "criterion_type=nn.CrossEntropyLoss\n",
    "network_params=NetworkParams(linear_filters=[200,2],dropout_rate=0)\n",
    "optimizer_params=OptimizerParams()\n",
    "train_params=TrainParams(max_epoch=100)\n",
    "\n",
    "\n",
    "params=Params(net_type,optimizer_type,criterion_type,network_params=network_params,\n",
    "              optimizer_params=optimizer_params,train_params=train_params,)\n",
    "\n",
    "train=Train(train_dataset=train_dataset,test_dataset=test_dataset,\n",
    "            train_target=train_target,test_target=test_target)\n",
    "train(params)"
   ]
  },
  {
   "cell_type": "code",
   "execution_count": null,
   "metadata": {
    "collapsed": true
   },
   "outputs": [],
   "source": []
  },
  {
   "cell_type": "code",
   "execution_count": null,
   "metadata": {
    "collapsed": true
   },
   "outputs": [],
   "source": []
  },
  {
   "cell_type": "code",
   "execution_count": null,
   "metadata": {
    "collapsed": true
   },
   "outputs": [],
   "source": []
  },
  {
   "cell_type": "code",
   "execution_count": null,
   "metadata": {
    "collapsed": true
   },
   "outputs": [],
   "source": []
  },
  {
   "cell_type": "code",
   "execution_count": null,
   "metadata": {
    "collapsed": true
   },
   "outputs": [],
   "source": []
  },
  {
   "cell_type": "code",
   "execution_count": null,
   "metadata": {
    "collapsed": true
   },
   "outputs": [],
   "source": []
  },
  {
   "cell_type": "code",
   "execution_count": null,
   "metadata": {
    "collapsed": true
   },
   "outputs": [],
   "source": []
  },
  {
   "cell_type": "code",
   "execution_count": null,
   "metadata": {
    "collapsed": true
   },
   "outputs": [],
   "source": []
  },
  {
   "cell_type": "code",
   "execution_count": null,
   "metadata": {
    "collapsed": true
   },
   "outputs": [],
   "source": []
  }
 ],
 "metadata": {
  "kernelspec": {
   "display_name": "Python 3",
   "language": "python",
   "name": "python3"
  },
  "language_info": {
   "codemirror_mode": {
    "name": "ipython",
    "version": 3
   },
   "file_extension": ".py",
   "mimetype": "text/x-python",
   "name": "python",
   "nbconvert_exporter": "python",
   "pygments_lexer": "ipython3",
   "version": "3.6.1"
  },
  "notify_time": "5"
 },
 "nbformat": 4,
 "nbformat_minor": 2
}
