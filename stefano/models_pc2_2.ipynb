{
 "cells": [
  {
   "cell_type": "markdown",
   "metadata": {},
   "source": [
    "In this notebook we will use the nn class **Sequential** to model a CNN"
   ]
  },
  {
   "cell_type": "markdown",
   "metadata": {},
   "source": [
    "We will use the single target network"
   ]
  },
  {
   "cell_type": "markdown",
   "metadata": {},
   "source": [
    "# Import"
   ]
  },
  {
   "cell_type": "code",
   "execution_count": 1,
   "metadata": {
    "ExecuteTime": {
     "end_time": "2018-04-29T15:45:48.039674Z",
     "start_time": "2018-04-29T15:45:46.586434Z"
    },
    "collapsed": true
   },
   "outputs": [],
   "source": [
    "import torch\n",
    "import numpy as np\n",
    "import matplotlib.pyplot as plt\n",
    "from torch.autograd import Variable\n",
    "\n",
    "import torch.nn as nn\n",
    "import torch.nn.functional as F\n",
    "\n",
    "import torch.optim as optim\n",
    "from torch.optim.lr_scheduler import StepLR\n",
    "\n",
    "from sklearn.model_selection import KFold\n",
    "\n",
    "from tqdm import tqdm\n",
    "\n",
    "import load_script\n",
    "from params import *\n",
    "from custom_layers import *\n",
    "from training import *\n",
    "from networks import *\n",
    "\n",
    "from utilities import *\n",
    "from parse_dataset import *"
   ]
  },
  {
   "cell_type": "code",
   "execution_count": 2,
   "metadata": {
    "ExecuteTime": {
     "end_time": "2018-04-29T15:45:48.086364Z",
     "start_time": "2018-04-29T15:45:48.065870Z"
    },
    "collapsed": true
   },
   "outputs": [],
   "source": [
    "# %load_ext autoreload\n",
    "# %autoreload 2"
   ]
  },
  {
   "cell_type": "markdown",
   "metadata": {},
   "source": [
    "# Loading the dataset"
   ]
  },
  {
   "cell_type": "code",
   "execution_count": 3,
   "metadata": {
    "collapsed": false
   },
   "outputs": [
    {
     "name": "stdout",
     "output_type": "stream",
     "text": [
      "Reading data from /home/stefano/EEG//\n",
      "Reading data from /home/stefano/EEG//stored//\n",
      "Reading data from /home/stefano/EEG//__pycache__//\n",
      "Reading data from /home/stefano/EEG//data//\n",
      "Reading data from /home/stefano/EEG//stefano//\n",
      "Reading data from /home/stefano/EEG//stefano//__pycache__//\n",
      "Reading data from /home/stefano/EEG//stefano//notebook//\n"
     ]
    }
   ],
   "source": [
    "folder=Dataset(base_directory='/home/stefano/',dataset='eeg')"
   ]
  },
  {
   "cell_type": "code",
   "execution_count": 4,
   "metadata": {
    "collapsed": true
   },
   "outputs": [],
   "source": [
    "# train_dataset,train_target=load_script.load_dataset_1000hz(train=True)"
   ]
  },
  {
   "cell_type": "code",
   "execution_count": 5,
   "metadata": {
    "collapsed": true
   },
   "outputs": [],
   "source": [
    "# test_dataset,test_target=load_script.load_dataset_1000hz(train=False)"
   ]
  },
  {
   "cell_type": "code",
   "execution_count": 6,
   "metadata": {
    "ExecuteTime": {
     "end_time": "2018-04-29T15:45:48.583592Z",
     "start_time": "2018-04-29T15:45:48.088414Z"
    },
    "collapsed": true
   },
   "outputs": [],
   "source": [
    "train_dataset,train_target=load_script.load_dataset(train=True)"
   ]
  },
  {
   "cell_type": "code",
   "execution_count": 7,
   "metadata": {
    "ExecuteTime": {
     "end_time": "2018-04-29T15:45:48.754805Z",
     "start_time": "2018-04-29T15:45:48.585273Z"
    },
    "collapsed": true
   },
   "outputs": [],
   "source": [
    "test_dataset,test_target=load_script.load_dataset(train=False)"
   ]
  },
  {
   "cell_type": "markdown",
   "metadata": {},
   "source": [
    "# Normalization"
   ]
  },
  {
   "cell_type": "code",
   "execution_count": 8,
   "metadata": {
    "collapsed": false
   },
   "outputs": [
    {
     "data": {
      "text/plain": [
       "torch.Size([316, 28, 50])"
      ]
     },
     "execution_count": 8,
     "metadata": {},
     "output_type": "execute_result"
    }
   ],
   "source": [
    "train_dataset.shape"
   ]
  },
  {
   "cell_type": "code",
   "execution_count": 9,
   "metadata": {
    "ExecuteTime": {
     "end_time": "2018-04-29T15:45:48.828631Z",
     "start_time": "2018-04-29T15:45:48.814246Z"
    },
    "collapsed": false,
    "scrolled": true
   },
   "outputs": [
    {
     "data": {
      "text/plain": [
       "torch.Size([100, 28, 50])"
      ]
     },
     "execution_count": 9,
     "metadata": {},
     "output_type": "execute_result"
    }
   ],
   "source": [
    "test_dataset.shape"
   ]
  },
  {
   "cell_type": "code",
   "execution_count": 10,
   "metadata": {
    "ExecuteTime": {
     "end_time": "2018-04-29T15:45:49.133752Z",
     "start_time": "2018-04-29T15:45:49.109222Z"
    },
    "collapsed": true
   },
   "outputs": [],
   "source": [
    "mean=train_dataset.mean(0).mean(1).view(1,28,1)\n",
    "std=train_dataset.std(2).mean(0).view(1,28,1)"
   ]
  },
  {
   "cell_type": "code",
   "execution_count": 11,
   "metadata": {
    "ExecuteTime": {
     "end_time": "2018-04-29T15:45:49.557152Z",
     "start_time": "2018-04-29T15:45:49.525799Z"
    },
    "collapsed": true,
    "scrolled": true
   },
   "outputs": [],
   "source": [
    "train_dataset=(train_dataset-mean)/std\n",
    "test_dataset=(test_dataset-mean)/std"
   ]
  },
  {
   "cell_type": "markdown",
   "metadata": {},
   "source": [
    "# Defining the network"
   ]
  },
  {
   "cell_type": "markdown",
   "metadata": {},
   "source": [
    "### Simple Network"
   ]
  },
  {
   "cell_type": "markdown",
   "metadata": {},
   "source": [
    "# Training"
   ]
  },
  {
   "cell_type": "code",
   "execution_count": null,
   "metadata": {
    "collapsed": false,
    "scrolled": true
   },
   "outputs": [
    {
     "name": "stderr",
     "output_type": "stream",
     "text": [
      "  1%|          | 3/300 [00:00<00:13, 21.65it/s]"
     ]
    },
    {
     "name": "stdout",
     "output_type": "stream",
     "text": [
      "Dropout 0\n",
      "30.0\n",
      "Network:\n",
      "\n",
      "[28, 28, 3, 1, 0, True]\n",
      "[28, 28, 3, 1, 0, True]\n",
      "[28, 28, 3, 1, 0, True]\n",
      "[28, 28, 3, 1, 0, True]\n",
      "[28, 28, 3, 1, 0, True]\n",
      "[28, 28, 3, 1, 0, True]\n",
      "[28, 28, 3, 1, 0, True]\n",
      "[28, 28, 3, 1, 0, True]\n",
      "[28, 28, 3, 1, 0, True]\n",
      "[28, 28, 3, 1, 0, True]\n",
      "[840, 200]\n",
      "[200, 2]\n",
      "\n",
      "Repetition 0\n"
     ]
    },
    {
     "name": "stderr",
     "output_type": "stream",
     "text": [
      " 89%|████████▉ | 267/300 [00:14<00:01, 21.30it/s]"
     ]
    }
   ],
   "source": [
    "dropout_values=[0,0.1,0.2,0.3,0.4,0.5,0.6,0.7,0.8,0.9]\n",
    "results=[]\n",
    "for dropout in dropout_values:\n",
    "    print('Dropout',dropout)\n",
    "    cv=CrossValidation(k=4,train_dataset=train_dataset,test_dataset=test_dataset,\n",
    "                   train_target=train_target,test_target=test_target,cuda=True)\n",
    "    \n",
    "    net_type=TenCNNLayers\n",
    "    optimizer_type=optim.Adam\n",
    "    criterion_type=nn.CrossEntropyLoss\n",
    "    network_params=NetworkParams(conv_filters=[28,28,28],conv_kernels=[3,3,3],\n",
    "                                 linear_filters=[200,2],\n",
    "                                 dropout_rate=dropout,batch_norm=True,conv1D=True)\n",
    "    optimizer_params=OptimizerParams()\n",
    "    train_params=TrainParams(max_epoch=300,mini_batch_size=79)\n",
    "\n",
    "\n",
    "    params=Params(net_type,optimizer_type,criterion_type,network_params=network_params,\n",
    "                  optimizer_params=optimizer_params,train_params=train_params,cuda=True)\n",
    "\n",
    "    cv(params,repetitions=1,cross_validation=True,repetitions_test=4)\n",
    "    results.append(cv.result)"
   ]
  },
  {
   "cell_type": "code",
   "execution_count": null,
   "metadata": {
    "collapsed": true
   },
   "outputs": [],
   "source": []
  },
  {
   "cell_type": "code",
   "execution_count": 15,
   "metadata": {
    "collapsed": true
   },
   "outputs": [],
   "source": [
    "save=False\n",
    "if save:\n",
    "    file_name=folder.stored+'single_layer'\n",
    "    write_pickle(results,file_name)"
   ]
  },
  {
   "cell_type": "code",
   "execution_count": null,
   "metadata": {
    "collapsed": true
   },
   "outputs": [],
   "source": []
  },
  {
   "cell_type": "code",
   "execution_count": null,
   "metadata": {
    "collapsed": true,
    "scrolled": false
   },
   "outputs": [],
   "source": [
    "cv=CrossValidation(k=2,train_dataset=train_dataset,test_dataset=test_dataset,\n",
    "                   train_target=train_target,test_target=test_target)\n",
    "\n",
    "net_type=ThreeLayers2D\n",
    "optimizer_type=optim.Adam\n",
    "criterion_type=nn.CrossEntropyLoss\n",
    "network_params=NetworkParams(conv_filters=[28,28,28],conv_kernels=[(3,1),(5,3),(3,3)],\n",
    "                             linear_filters=[200,2],\n",
    "                             dropout_rate=0,batch_norm=False,conv1D=False)\n",
    "optimizer_params=OptimizerParams()\n",
    "train_params=TrainParams(max_epoch=100,mini_batch_size=79)\n",
    "\n",
    "\n",
    "params=Params(net_type,optimizer_type,criterion_type,network_params=network_params,\n",
    "              optimizer_params=optimizer_params,train_params=train_params,)\n",
    "\n",
    "cv(params)"
   ]
  },
  {
   "cell_type": "code",
   "execution_count": null,
   "metadata": {
    "collapsed": true,
    "scrolled": false
   },
   "outputs": [],
   "source": [
    "net_type=ThreeLayers\n",
    "optimizer_type=optim.Adam\n",
    "criterion_type=nn.CrossEntropyLoss\n",
    "network_params=NetworkParams(linear_filters=[200,2],dropout_rate=0)\n",
    "optimizer_params=OptimizerParams()\n",
    "train_params=TrainParams(max_epoch=100)\n",
    "\n",
    "\n",
    "params=Params(net_type,optimizer_type,criterion_type,network_params=network_params,\n",
    "              optimizer_params=optimizer_params,train_params=train_params,)\n",
    "\n",
    "train=Train(train_dataset=train_dataset,test_dataset=test_dataset,\n",
    "            train_target=train_target,test_target=test_target)\n",
    "train(params)"
   ]
  },
  {
   "cell_type": "code",
   "execution_count": null,
   "metadata": {
    "collapsed": true
   },
   "outputs": [],
   "source": []
  },
  {
   "cell_type": "code",
   "execution_count": null,
   "metadata": {
    "collapsed": true
   },
   "outputs": [],
   "source": []
  },
  {
   "cell_type": "code",
   "execution_count": null,
   "metadata": {
    "collapsed": true
   },
   "outputs": [],
   "source": []
  },
  {
   "cell_type": "code",
   "execution_count": null,
   "metadata": {
    "collapsed": true
   },
   "outputs": [],
   "source": []
  },
  {
   "cell_type": "code",
   "execution_count": null,
   "metadata": {
    "collapsed": true
   },
   "outputs": [],
   "source": []
  },
  {
   "cell_type": "code",
   "execution_count": null,
   "metadata": {
    "collapsed": true
   },
   "outputs": [],
   "source": []
  },
  {
   "cell_type": "code",
   "execution_count": null,
   "metadata": {
    "collapsed": true
   },
   "outputs": [],
   "source": []
  },
  {
   "cell_type": "code",
   "execution_count": null,
   "metadata": {
    "collapsed": true
   },
   "outputs": [],
   "source": []
  },
  {
   "cell_type": "code",
   "execution_count": null,
   "metadata": {
    "collapsed": true
   },
   "outputs": [],
   "source": []
  }
 ],
 "metadata": {
  "kernelspec": {
   "display_name": "Python 3",
   "language": "python",
   "name": "python3"
  },
  "language_info": {
   "codemirror_mode": {
    "name": "ipython",
    "version": 3
   },
   "file_extension": ".py",
   "mimetype": "text/x-python",
   "name": "python",
   "nbconvert_exporter": "python",
   "pygments_lexer": "ipython3",
   "version": "3.6.0"
  },
  "notify_time": "5"
 },
 "nbformat": 4,
 "nbformat_minor": 2
}
