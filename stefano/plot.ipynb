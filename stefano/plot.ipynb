{
 "cells": [
  {
   "cell_type": "markdown",
   "metadata": {},
   "source": [
    "# Import"
   ]
  },
  {
   "cell_type": "code",
   "execution_count": 3,
   "metadata": {},
   "outputs": [],
   "source": [
    "import torch\n",
    "import numpy as np\n",
    "import matplotlib.pyplot as plt\n",
    "from torch.autograd import Variable\n",
    "\n",
    "import torch.nn as nn\n",
    "import torch.nn.functional as F\n",
    "\n",
    "import torch.optim as optim\n",
    "from torch.optim.lr_scheduler import StepLR\n",
    "\n",
    "from sklearn.model_selection import KFold\n",
    "\n",
    "from tqdm import tqdm\n",
    "\n",
    "import load_script\n",
    "from params import *\n",
    "from custom_layers import *\n",
    "from training import *\n",
    "from networks import *\n",
    "\n",
    "from utilities import *\n",
    "from parse_dataset import *\n"
   ]
  },
  {
   "cell_type": "code",
   "execution_count": 4,
   "metadata": {
    "collapsed": true
   },
   "outputs": [],
   "source": [
    "%load_ext autoreload\n",
    "%autoreload 2"
   ]
  },
  {
   "cell_type": "markdown",
   "metadata": {},
   "source": [
    "# Dataset"
   ]
  },
  {
   "cell_type": "code",
   "execution_count": 5,
   "metadata": {
    "scrolled": true
   },
   "outputs": [
    {
     "name": "stdout",
     "output_type": "stream",
     "text": [
      "Reading data from /Users/savare/DeepLearning/EEG//\n",
      "Reading data from /Users/savare/DeepLearning/EEG//__pycache__//\n",
      "Reading data from /Users/savare/DeepLearning/EEG//data//\n",
      "Reading data from /Users/savare/DeepLearning/EEG//stefano//\n",
      "Reading data from /Users/savare/DeepLearning/EEG//stefano//__pycache__//\n",
      "Reading data from /Users/savare/DeepLearning/EEG//stefano//notebook//\n",
      "Reading data from /Users/savare/DeepLearning/EEG//stored//\n"
     ]
    }
   ],
   "source": [
    "folder=Dataset(base_directory='/Users/savare/DeepLearning/',dataset='eeg')"
   ]
  },
  {
   "cell_type": "code",
   "execution_count": 7,
   "metadata": {},
   "outputs": [],
   "source": [
    "single_layer=read_pickle(folder.stored.file('single'))\n",
    "three_layers=read_pickle(folder.stored.file('three'))"
   ]
  },
  {
   "cell_type": "markdown",
   "metadata": {},
   "source": [
    "# Plot"
   ]
  },
  {
   "cell_type": "code",
   "execution_count": 8,
   "metadata": {
    "collapsed": true
   },
   "outputs": [],
   "source": [
    "dropout_values=[0,0.1,0.2,0.3,0.4,0.5,0.6,0.7,0.8,0.9]"
   ]
  },
  {
   "cell_type": "code",
   "execution_count": 20,
   "metadata": {
    "collapsed": true
   },
   "outputs": [],
   "source": [
    "def get_performance(results):\n",
    "    performance_train=[]\n",
    "    performance_validation=[]\n",
    "    for result in results:\n",
    "        result.compute_errors()\n",
    "        performance_train.append(result._experiments[-1].performance_train)\n",
    "        performance_validation.append(result._experiments[-1].performance_validation)\n",
    "        \n",
    "    return performance_train,performance_validation"
   ]
  },
  {
   "cell_type": "code",
   "execution_count": 24,
   "metadata": {},
   "outputs": [
    {
     "data": {
      "image/png": "[encoded data removed]",
      "text/plain": [
       "<matplotlib.figure.Figure at 0x114f3fef0>"
      ]
     },
     "metadata": {},
     "output_type": "display_data"
    }
   ],
   "source": [
    "errors_train,errors_validation=get_performance(single_layer)\n",
    "# plt.plot(dropout_values,errors_train)\n",
    "plt.plot(dropout_values,errors_validation,label='Single')\n",
    "\n",
    "errors_train,errors_validation=get_performance(three_layers)\n",
    "# plt.plot(dropout_values,errors_train)\n",
    "plt.plot(dropout_values,errors_validation,label='Three')\n",
    "\n",
    "plt.legend()\n",
    "\n",
    "plt.show()"
   ]
  },
  {
   "cell_type": "code",
   "execution_count": null,
   "metadata": {
    "collapsed": true
   },
   "outputs": [],
   "source": []
  }
 ],
 "metadata": {
  "kernelspec": {
   "display_name": "Python 3",
   "language": "python",
   "name": "python3"
  },
  "language_info": {
   "codemirror_mode": {
    "name": "ipython",
    "version": 3
   },
   "file_extension": ".py",
   "mimetype": "text/x-python",
   "name": "python",
   "nbconvert_exporter": "python",
   "pygments_lexer": "ipython3",
   "version": "3.6.1"
  }
 },
 "nbformat": 4,
 "nbformat_minor": 2
}
